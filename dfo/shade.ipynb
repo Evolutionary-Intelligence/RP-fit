{
 "cells": [
  {
   "cell_type": "code",
   "execution_count": 14,
   "id": "6a97514a",
   "metadata": {
    "scrolled": true,
    "ExecuteTime": {
     "end_time": "2023-10-09T01:22:41.957176600Z",
     "start_time": "2023-10-09T01:22:41.935579100Z"
    }
   },
   "outputs": [],
   "source": [
    "import numpy as np\n",
    "import pandas as pd\n",
    "from matplotlib import pyplot as plt\n",
    "import seaborn as sns; sns.set()\n",
    "import scipy"
   ]
  },
  {
   "cell_type": "markdown",
   "source": [
    "\n",
    "PyPop7: A Pure-Python Library for POPulation-based Black-Box Optimization (BBO)\n",
    "\n",
    "Documentation\n",
    "[https://pypop.readthedocs.io/en/latest/](https://pypop.readthedocs.io/en/latest/)\n",
    "\n",
    "Repository\n",
    "[https://github.com/Evolutionary-Intelligence/pypop](https://github.com/Evolutionary-Intelligence/pypop)\n",
    "\n",
    " Install using:\n",
    " `pip install pypop7`"
   ],
   "metadata": {
    "collapsed": false
   }
  },
  {
   "cell_type": "code",
   "execution_count": 15,
   "outputs": [],
   "source": [
    "# Success-History based Adaptive Differential Evolution (SHADE).\n",
    "from pypop7.optimizers.de import SHADE"
   ],
   "metadata": {
    "collapsed": false,
    "ExecuteTime": {
     "end_time": "2023-10-09T01:22:41.996704700Z",
     "start_time": "2023-10-09T01:22:41.952177300Z"
    }
   }
  },
  {
   "cell_type": "code",
   "execution_count": 16,
   "id": "d6358028",
   "metadata": {
    "ExecuteTime": {
     "end_time": "2023-10-09T01:22:41.996704700Z",
     "start_time": "2023-10-09T01:22:41.959185Z"
    }
   },
   "outputs": [],
   "source": [
    "# project files\n",
    "import sys; sys.path.insert(0, '..')\n",
    "\n",
    "from utils.variables import pack, unpack\n",
    "from utils.display import table, tabulate, list_members\n",
    "from utils.files import download_sheet, save, load\n",
    "from utils.hash import digest\n",
    "\n",
    "from model.fit_options import fit_options, RoundApprox\n",
    "from model.rp import compute_rp, make_precomputed_columns\n",
    "from model.initial_guess import make_initial_guess"
   ]
  },
  {
   "cell_type": "code",
   "execution_count": 17,
   "id": "b2b22bda",
   "metadata": {
    "ExecuteTime": {
     "end_time": "2023-10-09T01:22:41.997704800Z",
     "start_time": "2023-10-09T01:22:41.972166500Z"
    }
   },
   "outputs": [],
   "source": [
    "# stuff for display\n",
    "\n",
    "from IPython.lib.pretty import pretty, pprint\n",
    "\n",
    "from IPython.core.interactiveshell import InteractiveShell\n",
    "InteractiveShell.ast_node_interactivity = \"all\"\n",
    "\n",
    "pd.set_option('display.max_columns', 100)\n",
    "pd.set_option('display.max_rows', 120)"
   ]
  },
  {
   "cell_type": "code",
   "execution_count": 18,
   "id": "079e9a71",
   "metadata": {
    "scrolled": true,
    "ExecuteTime": {
     "end_time": "2023-10-09T01:22:42.064784900Z",
     "start_time": "2023-10-09T01:22:41.988706800Z"
    }
   },
   "outputs": [
    {
     "data": {
      "text/plain": "             Level           RP       MS lvl      ModelRP   Difference  \\\ncount  7394.000000  7394.000000  7394.000000  7394.000000  7394.000000   \nmean     11.159183   633.553827     1.531106   631.221396    -0.002029   \nstd       7.404413   413.293029     1.021303   413.930272     0.580695   \nmin       1.000000   245.000000     1.000000    -1.000000   -21.000000   \n25%       5.000000   361.000000     1.000000   360.000000     0.000000   \n50%      10.000000   489.000000     1.000000   487.000000     0.000000   \n75%      14.000000   746.000000     2.000000   743.000000     0.000000   \nmax      42.000000  3493.000000     6.000000  3495.000000     5.000000   \n\n             Freq1        FreqL          Inv       Berry1       BerryL  \\\ncount  7394.000000  7394.000000  7394.000000  7394.000000  7394.000000   \nmean   3910.792534  3754.827046    12.358128    28.068434    38.351636   \nstd     973.915081  1037.172015     3.479251     2.616819     8.314996   \nmin    2200.000000  1489.118400     7.000000    24.000000    24.000000   \n25%    3100.000000  2910.000000    10.000000    26.000000    33.000000   \n50%    3800.000000  3731.600000    12.000000    28.000000    37.000000   \n75%    4500.000000  4419.000000    14.000000    31.000000    42.000000   \nmax    6300.000000  6916.140000    24.000000    35.000000    83.000000   \n\n             Ing1P  Helps per hour  Helps Neutral      NrgMult     IngrMult  \\\ncount  7394.000000     7394.000000    7394.000000  7394.000000  7394.000000   \nmean    108.905058        1.035135       0.988096     0.994601     0.998999   \nstd      16.191425        0.310743       0.058787     0.044944     0.117892   \nmin      90.000000        0.520000       0.890000     0.920000     0.800000   \n25%      98.000000        0.810000       1.000000     1.000000     1.000000   \n50%     103.000000        0.960000       1.000000     1.000000     1.000000   \n75%     115.000000        1.230000       1.000000     1.000000     1.000000   \nmax     151.000000        2.410000       1.120000     1.080000     1.200000   \n\n         SkillMult        Ingr%     SklContr       BerryD         IngD  \\\ncount  7394.000000  7394.000000  7394.000000  7394.000000  7394.000000   \nmean      1.007276     0.206731    34.558823    56.060319   148.205504   \nstd       0.118634     0.045978    38.524205    28.135215    61.483427   \nmin       0.800000     0.000000     0.000000    25.000000    90.000000   \n25%       1.000000     0.180000    13.160000    36.000000   101.000000   \n50%       1.000000     0.200000    20.200000    46.000000   121.000000   \n75%       1.000000     0.230000    47.682500    68.000000   202.000000   \nmax       1.200000     0.420000   414.090000   243.000000   511.000000   \n\n        Dupes         Amnt        Ing2P  Help skill bonus  RP Multiplier  \ncount  7394.0  7394.000000  7394.000000       7394.000000    7394.000000  \nmean      1.0     0.086827     3.585475          0.986585       1.030131  \nstd       0.0     0.557071    22.268253          0.039022       0.072489  \nmin       1.0     0.000000     0.000000          0.790000       1.000000  \n25%       1.0     0.000000     0.000000          1.000000       1.000000  \n50%       1.0     0.000000     0.000000          1.000000       1.000000  \n75%       1.0     0.000000     0.000000          1.000000       1.000000  \nmax       1.0     8.000000   342.000000          1.000000       1.440000  ",
      "text/html": "<div>\n<style scoped>\n    .dataframe tbody tr th:only-of-type {\n        vertical-align: middle;\n    }\n\n    .dataframe tbody tr th {\n        vertical-align: top;\n    }\n\n    .dataframe thead th {\n        text-align: right;\n    }\n</style>\n<table border=\"1\" class=\"dataframe\">\n  <thead>\n    <tr style=\"text-align: right;\">\n      <th></th>\n      <th>Level</th>\n      <th>RP</th>\n      <th>MS lvl</th>\n      <th>ModelRP</th>\n      <th>Difference</th>\n      <th>Freq1</th>\n      <th>FreqL</th>\n      <th>Inv</th>\n      <th>Berry1</th>\n      <th>BerryL</th>\n      <th>Ing1P</th>\n      <th>Helps per hour</th>\n      <th>Helps Neutral</th>\n      <th>NrgMult</th>\n      <th>IngrMult</th>\n      <th>SkillMult</th>\n      <th>Ingr%</th>\n      <th>SklContr</th>\n      <th>BerryD</th>\n      <th>IngD</th>\n      <th>Dupes</th>\n      <th>Amnt</th>\n      <th>Ing2P</th>\n      <th>Help skill bonus</th>\n      <th>RP Multiplier</th>\n    </tr>\n  </thead>\n  <tbody>\n    <tr>\n      <th>count</th>\n      <td>7394.000000</td>\n      <td>7394.000000</td>\n      <td>7394.000000</td>\n      <td>7394.000000</td>\n      <td>7394.000000</td>\n      <td>7394.000000</td>\n      <td>7394.000000</td>\n      <td>7394.000000</td>\n      <td>7394.000000</td>\n      <td>7394.000000</td>\n      <td>7394.000000</td>\n      <td>7394.000000</td>\n      <td>7394.000000</td>\n      <td>7394.000000</td>\n      <td>7394.000000</td>\n      <td>7394.000000</td>\n      <td>7394.000000</td>\n      <td>7394.000000</td>\n      <td>7394.000000</td>\n      <td>7394.000000</td>\n      <td>7394.0</td>\n      <td>7394.000000</td>\n      <td>7394.000000</td>\n      <td>7394.000000</td>\n      <td>7394.000000</td>\n    </tr>\n    <tr>\n      <th>mean</th>\n      <td>11.159183</td>\n      <td>633.553827</td>\n      <td>1.531106</td>\n      <td>631.221396</td>\n      <td>-0.002029</td>\n      <td>3910.792534</td>\n      <td>3754.827046</td>\n      <td>12.358128</td>\n      <td>28.068434</td>\n      <td>38.351636</td>\n      <td>108.905058</td>\n      <td>1.035135</td>\n      <td>0.988096</td>\n      <td>0.994601</td>\n      <td>0.998999</td>\n      <td>1.007276</td>\n      <td>0.206731</td>\n      <td>34.558823</td>\n      <td>56.060319</td>\n      <td>148.205504</td>\n      <td>1.0</td>\n      <td>0.086827</td>\n      <td>3.585475</td>\n      <td>0.986585</td>\n      <td>1.030131</td>\n    </tr>\n    <tr>\n      <th>std</th>\n      <td>7.404413</td>\n      <td>413.293029</td>\n      <td>1.021303</td>\n      <td>413.930272</td>\n      <td>0.580695</td>\n      <td>973.915081</td>\n      <td>1037.172015</td>\n      <td>3.479251</td>\n      <td>2.616819</td>\n      <td>8.314996</td>\n      <td>16.191425</td>\n      <td>0.310743</td>\n      <td>0.058787</td>\n      <td>0.044944</td>\n      <td>0.117892</td>\n      <td>0.118634</td>\n      <td>0.045978</td>\n      <td>38.524205</td>\n      <td>28.135215</td>\n      <td>61.483427</td>\n      <td>0.0</td>\n      <td>0.557071</td>\n      <td>22.268253</td>\n      <td>0.039022</td>\n      <td>0.072489</td>\n    </tr>\n    <tr>\n      <th>min</th>\n      <td>1.000000</td>\n      <td>245.000000</td>\n      <td>1.000000</td>\n      <td>-1.000000</td>\n      <td>-21.000000</td>\n      <td>2200.000000</td>\n      <td>1489.118400</td>\n      <td>7.000000</td>\n      <td>24.000000</td>\n      <td>24.000000</td>\n      <td>90.000000</td>\n      <td>0.520000</td>\n      <td>0.890000</td>\n      <td>0.920000</td>\n      <td>0.800000</td>\n      <td>0.800000</td>\n      <td>0.000000</td>\n      <td>0.000000</td>\n      <td>25.000000</td>\n      <td>90.000000</td>\n      <td>1.0</td>\n      <td>0.000000</td>\n      <td>0.000000</td>\n      <td>0.790000</td>\n      <td>1.000000</td>\n    </tr>\n    <tr>\n      <th>25%</th>\n      <td>5.000000</td>\n      <td>361.000000</td>\n      <td>1.000000</td>\n      <td>360.000000</td>\n      <td>0.000000</td>\n      <td>3100.000000</td>\n      <td>2910.000000</td>\n      <td>10.000000</td>\n      <td>26.000000</td>\n      <td>33.000000</td>\n      <td>98.000000</td>\n      <td>0.810000</td>\n      <td>1.000000</td>\n      <td>1.000000</td>\n      <td>1.000000</td>\n      <td>1.000000</td>\n      <td>0.180000</td>\n      <td>13.160000</td>\n      <td>36.000000</td>\n      <td>101.000000</td>\n      <td>1.0</td>\n      <td>0.000000</td>\n      <td>0.000000</td>\n      <td>1.000000</td>\n      <td>1.000000</td>\n    </tr>\n    <tr>\n      <th>50%</th>\n      <td>10.000000</td>\n      <td>489.000000</td>\n      <td>1.000000</td>\n      <td>487.000000</td>\n      <td>0.000000</td>\n      <td>3800.000000</td>\n      <td>3731.600000</td>\n      <td>12.000000</td>\n      <td>28.000000</td>\n      <td>37.000000</td>\n      <td>103.000000</td>\n      <td>0.960000</td>\n      <td>1.000000</td>\n      <td>1.000000</td>\n      <td>1.000000</td>\n      <td>1.000000</td>\n      <td>0.200000</td>\n      <td>20.200000</td>\n      <td>46.000000</td>\n      <td>121.000000</td>\n      <td>1.0</td>\n      <td>0.000000</td>\n      <td>0.000000</td>\n      <td>1.000000</td>\n      <td>1.000000</td>\n    </tr>\n    <tr>\n      <th>75%</th>\n      <td>14.000000</td>\n      <td>746.000000</td>\n      <td>2.000000</td>\n      <td>743.000000</td>\n      <td>0.000000</td>\n      <td>4500.000000</td>\n      <td>4419.000000</td>\n      <td>14.000000</td>\n      <td>31.000000</td>\n      <td>42.000000</td>\n      <td>115.000000</td>\n      <td>1.230000</td>\n      <td>1.000000</td>\n      <td>1.000000</td>\n      <td>1.000000</td>\n      <td>1.000000</td>\n      <td>0.230000</td>\n      <td>47.682500</td>\n      <td>68.000000</td>\n      <td>202.000000</td>\n      <td>1.0</td>\n      <td>0.000000</td>\n      <td>0.000000</td>\n      <td>1.000000</td>\n      <td>1.000000</td>\n    </tr>\n    <tr>\n      <th>max</th>\n      <td>42.000000</td>\n      <td>3493.000000</td>\n      <td>6.000000</td>\n      <td>3495.000000</td>\n      <td>5.000000</td>\n      <td>6300.000000</td>\n      <td>6916.140000</td>\n      <td>24.000000</td>\n      <td>35.000000</td>\n      <td>83.000000</td>\n      <td>151.000000</td>\n      <td>2.410000</td>\n      <td>1.120000</td>\n      <td>1.080000</td>\n      <td>1.200000</td>\n      <td>1.200000</td>\n      <td>0.420000</td>\n      <td>414.090000</td>\n      <td>243.000000</td>\n      <td>511.000000</td>\n      <td>1.0</td>\n      <td>8.000000</td>\n      <td>342.000000</td>\n      <td>1.000000</td>\n      <td>1.440000</td>\n    </tr>\n  </tbody>\n</table>\n</div>"
     },
     "execution_count": 18,
     "metadata": {},
     "output_type": "execute_result"
    },
    {
     "data": {
      "text/plain": "  Pokemon  Level     RP   Nature  MS lvl                 Source  ModelRP  \\\n0   Arbok    9.0  574.0  Naughty     1.0            Rate My Mon    574.0   \n1   Arbok    8.0  531.0    Hardy     1.0  Questions help guides    531.0   \n2   Arbok    8.0  538.0    Quiet     1.0  Questions help guides    538.0   \n3   Arbok    9.0  582.0  Relaxed     1.0                           582.0   \n4   Arbok    9.0  489.0    Timid     1.0                           489.0   \n\n   Difference  Nature2              ID             NatureP            NatureN  \\\n0         0.0  Naughty  ArbokNaughty91       Speed of Help  Main Skill Chance   \n1         0.0  Neutral  ArbokNeutral81                   -                  -   \n2         0.0    Quiet    ArbokQuiet81  Ingredient Finding          Exp Gains   \n3         0.0  Relaxed  ArbokRelaxed91     Energy Recovery          EXP Gains   \n4         0.0    Timid    ArbokTimid91           EXP Gains      Speed of Help   \n\n    Freq1    FreqL    Type    Class           MSkill   Inv  Berry1  BerryL  \\\n0  3700.0  3276.72  Poison  Berries  Charge Energy S  14.0    32.0      40   \n1  3700.0  3648.20  Poison  Berries  Charge Energy S  14.0    32.0      39   \n2  3700.0  3648.20  Poison  Berries  Charge Energy S  14.0    32.0      39   \n3  3700.0  3640.80  Poison  Berries  Charge Energy S  14.0    32.0      40   \n4  3700.0  4004.88  Poison  Berries  Charge Energy S  14.0    32.0      40   \n\n           Ing1  Ing1P  Helps per hour  Helps Neutral  NrgMult  IngrMult  \\\n0  Bean Sausage  103.0            1.09            0.9     1.00       1.0   \n1  Bean Sausage  103.0            0.98            1.0     1.00       1.0   \n2  Bean Sausage  103.0            0.98            1.0     1.00       1.2   \n3  Bean Sausage  103.0            0.98            1.0     1.08       1.0   \n4  Bean Sausage  103.0            0.89            1.1     1.00       1.0   \n\n   SkillMult  Ingr%  SklContr RPneutral       IDNeutral  BerryD   IngD  Dupes  \\\n0        0.8   0.26     22.75    538.35  ArbokNeutral91    80.0  103.0      1   \n1        1.0   0.26     22.75    531.00  ArbokNeutral81    78.0  103.0      1   \n2        1.0   0.26     22.75    530.60  ArbokNeutral81    78.0  103.0      1   \n3        1.0   0.26     22.75    538.89  ArbokNeutral91    80.0  103.0      1   \n4        1.0   0.26     22.75    538.45  ArbokNeutral91    80.0  103.0      1   \n\n  DupeMatch Sub Skill 1 Sub Skill 2 Ingredient 2  Amnt  Ing2P  \\\n0      True                                        0.0    0.0   \n1      True                                        0.0    0.0   \n2      True                                        0.0    0.0   \n3      True                                        0.0    0.0   \n4      True                                        0.0    0.0   \n\n   Help skill bonus  RP Multiplier  \n0               1.0            1.0  \n1               1.0            1.0  \n2               1.0            1.0  \n3               1.0            1.0  \n4               1.0            1.0  ",
      "text/html": "<div>\n<style scoped>\n    .dataframe tbody tr th:only-of-type {\n        vertical-align: middle;\n    }\n\n    .dataframe tbody tr th {\n        vertical-align: top;\n    }\n\n    .dataframe thead th {\n        text-align: right;\n    }\n</style>\n<table border=\"1\" class=\"dataframe\">\n  <thead>\n    <tr style=\"text-align: right;\">\n      <th></th>\n      <th>Pokemon</th>\n      <th>Level</th>\n      <th>RP</th>\n      <th>Nature</th>\n      <th>MS lvl</th>\n      <th>Source</th>\n      <th>ModelRP</th>\n      <th>Difference</th>\n      <th>Nature2</th>\n      <th>ID</th>\n      <th>NatureP</th>\n      <th>NatureN</th>\n      <th>Freq1</th>\n      <th>FreqL</th>\n      <th>Type</th>\n      <th>Class</th>\n      <th>MSkill</th>\n      <th>Inv</th>\n      <th>Berry1</th>\n      <th>BerryL</th>\n      <th>Ing1</th>\n      <th>Ing1P</th>\n      <th>Helps per hour</th>\n      <th>Helps Neutral</th>\n      <th>NrgMult</th>\n      <th>IngrMult</th>\n      <th>SkillMult</th>\n      <th>Ingr%</th>\n      <th>SklContr</th>\n      <th>RPneutral</th>\n      <th>IDNeutral</th>\n      <th>BerryD</th>\n      <th>IngD</th>\n      <th>Dupes</th>\n      <th>DupeMatch</th>\n      <th>Sub Skill 1</th>\n      <th>Sub Skill 2</th>\n      <th>Ingredient 2</th>\n      <th>Amnt</th>\n      <th>Ing2P</th>\n      <th>Help skill bonus</th>\n      <th>RP Multiplier</th>\n    </tr>\n  </thead>\n  <tbody>\n    <tr>\n      <th>0</th>\n      <td>Arbok</td>\n      <td>9.0</td>\n      <td>574.0</td>\n      <td>Naughty</td>\n      <td>1.0</td>\n      <td>Rate My Mon</td>\n      <td>574.0</td>\n      <td>0.0</td>\n      <td>Naughty</td>\n      <td>ArbokNaughty91</td>\n      <td>Speed of Help</td>\n      <td>Main Skill Chance</td>\n      <td>3700.0</td>\n      <td>3276.72</td>\n      <td>Poison</td>\n      <td>Berries</td>\n      <td>Charge Energy S</td>\n      <td>14.0</td>\n      <td>32.0</td>\n      <td>40</td>\n      <td>Bean Sausage</td>\n      <td>103.0</td>\n      <td>1.09</td>\n      <td>0.9</td>\n      <td>1.00</td>\n      <td>1.0</td>\n      <td>0.8</td>\n      <td>0.26</td>\n      <td>22.75</td>\n      <td>538.35</td>\n      <td>ArbokNeutral91</td>\n      <td>80.0</td>\n      <td>103.0</td>\n      <td>1</td>\n      <td>True</td>\n      <td></td>\n      <td></td>\n      <td></td>\n      <td>0.0</td>\n      <td>0.0</td>\n      <td>1.0</td>\n      <td>1.0</td>\n    </tr>\n    <tr>\n      <th>1</th>\n      <td>Arbok</td>\n      <td>8.0</td>\n      <td>531.0</td>\n      <td>Hardy</td>\n      <td>1.0</td>\n      <td>Questions help guides</td>\n      <td>531.0</td>\n      <td>0.0</td>\n      <td>Neutral</td>\n      <td>ArbokNeutral81</td>\n      <td>-</td>\n      <td>-</td>\n      <td>3700.0</td>\n      <td>3648.20</td>\n      <td>Poison</td>\n      <td>Berries</td>\n      <td>Charge Energy S</td>\n      <td>14.0</td>\n      <td>32.0</td>\n      <td>39</td>\n      <td>Bean Sausage</td>\n      <td>103.0</td>\n      <td>0.98</td>\n      <td>1.0</td>\n      <td>1.00</td>\n      <td>1.0</td>\n      <td>1.0</td>\n      <td>0.26</td>\n      <td>22.75</td>\n      <td>531.00</td>\n      <td>ArbokNeutral81</td>\n      <td>78.0</td>\n      <td>103.0</td>\n      <td>1</td>\n      <td>True</td>\n      <td></td>\n      <td></td>\n      <td></td>\n      <td>0.0</td>\n      <td>0.0</td>\n      <td>1.0</td>\n      <td>1.0</td>\n    </tr>\n    <tr>\n      <th>2</th>\n      <td>Arbok</td>\n      <td>8.0</td>\n      <td>538.0</td>\n      <td>Quiet</td>\n      <td>1.0</td>\n      <td>Questions help guides</td>\n      <td>538.0</td>\n      <td>0.0</td>\n      <td>Quiet</td>\n      <td>ArbokQuiet81</td>\n      <td>Ingredient Finding</td>\n      <td>Exp Gains</td>\n      <td>3700.0</td>\n      <td>3648.20</td>\n      <td>Poison</td>\n      <td>Berries</td>\n      <td>Charge Energy S</td>\n      <td>14.0</td>\n      <td>32.0</td>\n      <td>39</td>\n      <td>Bean Sausage</td>\n      <td>103.0</td>\n      <td>0.98</td>\n      <td>1.0</td>\n      <td>1.00</td>\n      <td>1.2</td>\n      <td>1.0</td>\n      <td>0.26</td>\n      <td>22.75</td>\n      <td>530.60</td>\n      <td>ArbokNeutral81</td>\n      <td>78.0</td>\n      <td>103.0</td>\n      <td>1</td>\n      <td>True</td>\n      <td></td>\n      <td></td>\n      <td></td>\n      <td>0.0</td>\n      <td>0.0</td>\n      <td>1.0</td>\n      <td>1.0</td>\n    </tr>\n    <tr>\n      <th>3</th>\n      <td>Arbok</td>\n      <td>9.0</td>\n      <td>582.0</td>\n      <td>Relaxed</td>\n      <td>1.0</td>\n      <td></td>\n      <td>582.0</td>\n      <td>0.0</td>\n      <td>Relaxed</td>\n      <td>ArbokRelaxed91</td>\n      <td>Energy Recovery</td>\n      <td>EXP Gains</td>\n      <td>3700.0</td>\n      <td>3640.80</td>\n      <td>Poison</td>\n      <td>Berries</td>\n      <td>Charge Energy S</td>\n      <td>14.0</td>\n      <td>32.0</td>\n      <td>40</td>\n      <td>Bean Sausage</td>\n      <td>103.0</td>\n      <td>0.98</td>\n      <td>1.0</td>\n      <td>1.08</td>\n      <td>1.0</td>\n      <td>1.0</td>\n      <td>0.26</td>\n      <td>22.75</td>\n      <td>538.89</td>\n      <td>ArbokNeutral91</td>\n      <td>80.0</td>\n      <td>103.0</td>\n      <td>1</td>\n      <td>True</td>\n      <td></td>\n      <td></td>\n      <td></td>\n      <td>0.0</td>\n      <td>0.0</td>\n      <td>1.0</td>\n      <td>1.0</td>\n    </tr>\n    <tr>\n      <th>4</th>\n      <td>Arbok</td>\n      <td>9.0</td>\n      <td>489.0</td>\n      <td>Timid</td>\n      <td>1.0</td>\n      <td></td>\n      <td>489.0</td>\n      <td>0.0</td>\n      <td>Timid</td>\n      <td>ArbokTimid91</td>\n      <td>EXP Gains</td>\n      <td>Speed of Help</td>\n      <td>3700.0</td>\n      <td>4004.88</td>\n      <td>Poison</td>\n      <td>Berries</td>\n      <td>Charge Energy S</td>\n      <td>14.0</td>\n      <td>32.0</td>\n      <td>40</td>\n      <td>Bean Sausage</td>\n      <td>103.0</td>\n      <td>0.89</td>\n      <td>1.1</td>\n      <td>1.00</td>\n      <td>1.0</td>\n      <td>1.0</td>\n      <td>0.26</td>\n      <td>22.75</td>\n      <td>538.45</td>\n      <td>ArbokNeutral91</td>\n      <td>80.0</td>\n      <td>103.0</td>\n      <td>1</td>\n      <td>True</td>\n      <td></td>\n      <td></td>\n      <td></td>\n      <td>0.0</td>\n      <td>0.0</td>\n      <td>1.0</td>\n      <td>1.0</td>\n    </tr>\n  </tbody>\n</table>\n</div>"
     },
     "execution_count": 18,
     "metadata": {},
     "output_type": "execute_result"
    }
   ],
   "source": [
    "data = pd.read_pickle(fit_options.data_file)\n",
    "data.describe()\n",
    "data.head()"
   ]
  },
  {
   "cell_type": "code",
   "execution_count": 19,
   "id": "7ef7081c",
   "metadata": {
    "scrolled": true,
    "ExecuteTime": {
     "end_time": "2023-10-09T01:22:42.167242800Z",
     "start_time": "2023-10-09T01:22:42.068807Z"
    }
   },
   "outputs": [],
   "source": [
    "# Make an initial guess\n",
    "# Pack the dictionary into a 1-D vector.\n",
    "# Also store information on how to unpack that vector\n",
    "\n",
    "x0, unpack_info = pack(*make_initial_guess())\n",
    "computed = make_precomputed_columns(data)"
   ]
  },
  {
   "cell_type": "code",
   "execution_count": 20,
   "id": "2d6739e0",
   "metadata": {
    "scrolled": true,
    "ExecuteTime": {
     "end_time": "2023-10-09T01:22:42.179127900Z",
     "start_time": "2023-10-09T01:22:42.113728200Z"
    }
   },
   "outputs": [],
   "source": [
    "# We compute the RP model in rp_model.py\n",
    "# Here we create closure to glue the pieces together.\n",
    "\n",
    "def RP(x):\n",
    "    return compute_rp(x, data, computed, unpack_info)\n",
    "\n",
    "# for the error analysis page,\n",
    "# we'll compute the residual with exact rounding.\n",
    "\n",
    "def residual(x):\n",
    "    return data[\"RP\"] - np.round(RP(x))\n",
    "\n",
    "def sum_squares(x, **kwargs):\n",
    "    r = residual(x)\n",
    "    return np.dot(r,r)\n"
   ]
  },
  {
   "cell_type": "code",
   "execution_count": 21,
   "outputs": [
    {
     "data": {
      "text/plain": "    message: `ftol` termination condition is satisfied.\n    success: True\n     status: 2\n          x: [ 2.563e-01  2.544e-01 ...  2.210e-01  2.211e-01]\n       cost: 1160.2490719227876\n       grad: [-2.782e-05 -5.842e-06 ...  0.000e+00  0.000e+00]\n optimality: 0.43414554256014526\n       nfev: 19\n       njev: 7"
     },
     "execution_count": 21,
     "metadata": {},
     "output_type": "execute_result"
    }
   ],
   "source": [
    "filename = fit_options.result_file(digest(data, x0))\n",
    "opt = load(filename)\n",
    "opt"
   ],
   "metadata": {
    "collapsed": false,
    "ExecuteTime": {
     "end_time": "2023-10-09T01:22:42.180126300Z",
     "start_time": "2023-10-09T01:22:42.129332700Z"
    }
   }
  },
  {
   "cell_type": "code",
   "execution_count": 22,
   "outputs": [],
   "source": [
    "\n"
   ],
   "metadata": {
    "collapsed": false,
    "ExecuteTime": {
     "end_time": "2023-10-09T01:22:42.180126300Z",
     "start_time": "2023-10-09T01:22:42.162243100Z"
    }
   }
  },
  {
   "cell_type": "code",
   "execution_count": 23,
   "outputs": [
    {
     "name": "stdout",
     "output_type": "stream",
     "text": [
      "  * Generation 0: best_so_far_y 2.26000e+03, min(y) 2.26000e+03 & Evaluations 101\n",
      "  * Generation 10: best_so_far_y 2.26000e+03, min(y) 2.26000e+03 & Evaluations 1101\n",
      "  * Generation 20: best_so_far_y 2.26000e+03, min(y) 2.26000e+03 & Evaluations 2101\n",
      "  * Generation 30: best_so_far_y 2.26000e+03, min(y) 2.26000e+03 & Evaluations 3101\n",
      "  * Generation 40: best_so_far_y 2.26000e+03, min(y) 2.26000e+03 & Evaluations 4101\n",
      "  * Generation 50: best_so_far_y 2.26000e+03, min(y) 2.26000e+03 & Evaluations 5101\n",
      "  * Generation 60: best_so_far_y 2.26000e+03, min(y) 2.26000e+03 & Evaluations 6101\n",
      "  * Generation 70: best_so_far_y 2.26000e+03, min(y) 2.26000e+03 & Evaluations 7101\n",
      "  * Generation 80: best_so_far_y 2.26000e+03, min(y) 2.26000e+03 & Evaluations 8101\n",
      "  * Generation 90: best_so_far_y 2.26000e+03, min(y) 2.26000e+03 & Evaluations 9101\n",
      "  * Generation 99: best_so_far_y 2.26000e+03, min(y) 2.26000e+03 & Evaluations 10000\n"
     ]
    }
   ],
   "source": [
    "inject_x0 = False,\n",
    "\n",
    "# For this library, those are more a sampling region than real constraints\n",
    "# Init between 0.5x and 1.5x. But swap bound if value is negative\n",
    "\n",
    "optx = opt.x\n",
    "choice_list = [0.5*optx, 1.5*optx]\n",
    "bounds_low =  np.select([optx>=0, optx<0], choice_list)\n",
    "bounds_high = np.select([optx<0, optx>=0], choice_list)\n",
    "\n",
    "problem = dict(fitness_function=sum_squares, ndim_problem=len(optx), upper_boundary=bounds_high, lower_boundary=bounds_low )\n",
    "options =dict(max_function_evaluations=10000)\n",
    "\n",
    "if not inject_x0:\n",
    "    algo = SHADE(problem, options)\n",
    "\n",
    "else:\n",
    "\n",
    "    class ShadeCustom(SHADE):\n",
    "        def initialize(self, args=None):\n",
    "            x, y, a = SHADE.initialize(self, args)\n",
    "\n",
    "            if(args is not None and 'x0' in args):\n",
    "                x[0] = args['x0']\n",
    "                y[0] = self._evaluate_fitness(x[0], args)\n",
    "\n",
    "            return (x,y,a)\n",
    "\n",
    "    algo = ShadeCustom(problem, options)\n",
    "\n",
    "result_de = algo.optimize(fitness_function=None, args={\"x0\":optx})"
   ],
   "metadata": {
    "collapsed": false,
    "ExecuteTime": {
     "end_time": "2023-10-09T01:23:33.770046600Z",
     "start_time": "2023-10-09T01:22:42.175118500Z"
    }
   }
  },
  {
   "cell_type": "code",
   "execution_count": 24,
   "outputs": [
    {
     "data": {
      "text/plain": "'<table>\\n<tbody>\\n<tr><td>best_so_far_x            </td><td>[0.25634849 0.25441696 0.2655307  ... 0.18239409 0.22095965 0.22114685]</td></tr>\\n<tr><td>best_so_far_y            </td><td>2260.0                                                                 </td></tr>\\n<tr><td>n_function_evaluations   </td><td>10000                                                                  </td></tr>\\n<tr><td>runtime                  </td><td>51.56517958641052                                                      </td></tr>\\n<tr><td>termination_signal       </td><td>Terminations.MAX_FUNCTION_EVALUATIONS                                  </td></tr>\\n<tr><td>time_function_evaluations</td><td>48.31521534919739                                                      </td></tr>\\n<tr><td>fitness                  </td><td>None                                                                   </td></tr>\\n<tr><td>success                  </td><td>True                                                                   </td></tr>\\n<tr><td>_n_generations           </td><td>99                                                                     </td></tr>\\n</tbody>\\n</table>'",
      "text/html": "<table>\n<tbody>\n<tr><td>best_so_far_x            </td><td>[0.25634849 0.25441696 0.2655307  ... 0.18239409 0.22095965 0.22114685]</td></tr>\n<tr><td>best_so_far_y            </td><td>2260.0                                                                 </td></tr>\n<tr><td>n_function_evaluations   </td><td>10000                                                                  </td></tr>\n<tr><td>runtime                  </td><td>51.56517958641052                                                      </td></tr>\n<tr><td>termination_signal       </td><td>Terminations.MAX_FUNCTION_EVALUATIONS                                  </td></tr>\n<tr><td>time_function_evaluations</td><td>48.31521534919739                                                      </td></tr>\n<tr><td>fitness                  </td><td>None                                                                   </td></tr>\n<tr><td>success                  </td><td>True                                                                   </td></tr>\n<tr><td>_n_generations           </td><td>99                                                                     </td></tr>\n</tbody>\n</table>"
     },
     "metadata": {},
     "output_type": "display_data"
    }
   ],
   "source": [
    "table(result_de)"
   ],
   "metadata": {
    "collapsed": false,
    "ExecuteTime": {
     "end_time": "2023-10-09T01:23:33.778079700Z",
     "start_time": "2023-10-09T01:23:33.756963100Z"
    }
   }
  },
  {
   "cell_type": "code",
   "execution_count": 25,
   "outputs": [
    {
     "data": {
      "text/plain": "count    7394.000000\nmean       -0.001893\nstd         0.552893\nmin        -5.000000\n25%         0.000000\n50%         0.000000\n75%         0.000000\nmax        15.000000\nName: RP, dtype: float64"
     },
     "execution_count": 25,
     "metadata": {},
     "output_type": "execute_result"
    },
    {
     "data": {
      "text/plain": "<Figure size 640x480 with 1 Axes>",
      "image/png": "[encoded data removed]"
     },
     "metadata": {},
     "output_type": "display_data"
    },
    {
     "data": {
      "text/plain": "<Figure size 640x480 with 1 Axes>",
      "image/png": "[encoded data removed]"
     },
     "metadata": {},
     "output_type": "display_data"
    }
   ],
   "source": [
    "r_opt = data[\"RP\"] - np.round(RP(result_de['best_so_far_x']))\n",
    "pd.Series(r_opt).describe()\n",
    "\n",
    "_ = plt.figure()\n",
    "g = sns.histplot(x=np.clip(np.abs(r_opt), 1e-1,1e3), log_scale=True, bins=20)\n",
    "g.axes.set_yscale('log')\n",
    "_ = g.bar_label(g.containers[1], labels= [str(v) if v else '' for v in g.containers[1].datavalues])\n",
    "\n",
    "_ = plt.figure()\n",
    "g = sns.histplot(x=r_opt)\n",
    "_ = g.axes.set_yscale('log')\n",
    "_ = g.bar_label(g.containers[1], labels= [str(v) if v else '' for v in g.containers[1].datavalues])"
   ],
   "metadata": {
    "collapsed": false,
    "ExecuteTime": {
     "end_time": "2023-10-09T01:23:34.695388400Z",
     "start_time": "2023-10-09T01:23:33.775059300Z"
    }
   }
  },
  {
   "cell_type": "code",
   "execution_count": 26,
   "outputs": [
    {
     "data": {
      "text/plain": "'<table>\\n<tbody>\\n<tr><td>Pokemons ing fractions </td><td>[0.25634849 0.25441696 0.2655307  ... 0.18027542 0.20047792 0.21577715]</td></tr>\\n<tr><td>Pokemons skill products</td><td>[16.70524122 16.7115917  18.48051574 ... 44.68492948 12.80026185\\n 15.5216694 ]                                                                        </td></tr>\\n<tr><td>Charge Strength S      </td><td>[0.74637032 0.32257147]                                                </td></tr>\\n<tr><td>Charge Strength M      </td><td>[0.7453716  0.32266696]                                                </td></tr>\\n<tr><td>Ingredient Magnet S    </td><td>[0.74565496 0.32256509]                                                </td></tr>\\n<tr><td>Cooking Power-Up S     </td><td>[0.74459057 0.32310732]                                                </td></tr>\\n<tr><td>Extra Helpful S        </td><td>[0.74589711 0.32236621]                                                </td></tr>\\n<tr><td>Charge Energy S        </td><td>[0.74829267 0.32200056]                                                </td></tr>\\n<tr><td>Energizing Cheer S     </td><td>[0.74664173 0.32196704]                                                </td></tr>\\n<tr><td>Energy for Everyone S  </td><td>[0.74568902 0.32280206]                                                </td></tr>\\n<tr><td>Dream Shard Magnet S   </td><td>[0.74538695 0.32239043]                                                </td></tr>\\n<tr><td>Metronome              </td><td>[0.74560637 0.32274562]                                                </td></tr>\\n<tr><td>Ing Growth Poly        </td><td>[ 0.00018342  0.00324189 -0.00221418]                                  </td></tr>\\n<tr><td>Dream Shard Bonus      </td><td>0.22113180954266912                                                    </td></tr>\\n<tr><td>Energy Recovery Bonus  </td><td>0.22104314003427916                                                    </td></tr>\\n<tr><td>Helping bonus          </td><td>0.2211373274876672                                                     </td></tr>\\n<tr><td>Inventory Up S         </td><td>0.07197265732393555                                                    </td></tr>\\n<tr><td>Inventory Up M         </td><td>0.13959084412141803                                                    </td></tr>\\n<tr><td>Inventory Up L         </td><td>0.1823940861401937                                                     </td></tr>\\n<tr><td>Research EXP Bonus     </td><td>0.22095964801604628                                                    </td></tr>\\n<tr><td>Sleep EXP Bonus        </td><td>0.22114684752190014                                                    </td></tr>\\n</tbody>\\n</table>'",
      "text/html": "<table>\n<tbody>\n<tr><td>Pokemons ing fractions </td><td>[0.25634849 0.25441696 0.2655307  ... 0.18027542 0.20047792 0.21577715]</td></tr>\n<tr><td>Pokemons skill products</td><td>[16.70524122 16.7115917  18.48051574 ... 44.68492948 12.80026185\n 15.5216694 ]                                                                        </td></tr>\n<tr><td>Charge Strength S      </td><td>[0.74637032 0.32257147]                                                </td></tr>\n<tr><td>Charge Strength M      </td><td>[0.7453716  0.32266696]                                                </td></tr>\n<tr><td>Ingredient Magnet S    </td><td>[0.74565496 0.32256509]                                                </td></tr>\n<tr><td>Cooking Power-Up S     </td><td>[0.74459057 0.32310732]                                                </td></tr>\n<tr><td>Extra Helpful S        </td><td>[0.74589711 0.32236621]                                                </td></tr>\n<tr><td>Charge Energy S        </td><td>[0.74829267 0.32200056]                                                </td></tr>\n<tr><td>Energizing Cheer S     </td><td>[0.74664173 0.32196704]                                                </td></tr>\n<tr><td>Energy for Everyone S  </td><td>[0.74568902 0.32280206]                                                </td></tr>\n<tr><td>Dream Shard Magnet S   </td><td>[0.74538695 0.32239043]                                                </td></tr>\n<tr><td>Metronome              </td><td>[0.74560637 0.32274562]                                                </td></tr>\n<tr><td>Ing Growth Poly        </td><td>[ 0.00018342  0.00324189 -0.00221418]                                  </td></tr>\n<tr><td>Dream Shard Bonus      </td><td>0.22113180954266912                                                    </td></tr>\n<tr><td>Energy Recovery Bonus  </td><td>0.22104314003427916                                                    </td></tr>\n<tr><td>Helping bonus          </td><td>0.2211373274876672                                                     </td></tr>\n<tr><td>Inventory Up S         </td><td>0.07197265732393555                                                    </td></tr>\n<tr><td>Inventory Up M         </td><td>0.13959084412141803                                                    </td></tr>\n<tr><td>Inventory Up L         </td><td>0.1823940861401937                                                     </td></tr>\n<tr><td>Research EXP Bonus     </td><td>0.22095964801604628                                                    </td></tr>\n<tr><td>Sleep EXP Bonus        </td><td>0.22114684752190014                                                    </td></tr>\n</tbody>\n</table>"
     },
     "metadata": {},
     "output_type": "display_data"
    }
   ],
   "source": [
    "sol = unpack(opt.x, unpack_info)\n",
    "table(sol)"
   ],
   "metadata": {
    "collapsed": false,
    "ExecuteTime": {
     "end_time": "2023-10-09T01:23:34.727878900Z",
     "start_time": "2023-10-09T01:23:34.697518Z"
    }
   }
  },
  {
   "cell_type": "code",
   "execution_count": 26,
   "outputs": [],
   "source": [],
   "metadata": {
    "collapsed": false,
    "ExecuteTime": {
     "end_time": "2023-10-09T01:23:34.727878900Z",
     "start_time": "2023-10-09T01:23:34.711869600Z"
    }
   }
  }
 ],
 "metadata": {
  "kernelspec": {
   "display_name": "Python 3 (ipykernel)",
   "language": "python",
   "name": "python3"
  },
  "language_info": {
   "codemirror_mode": {
    "name": "ipython",
    "version": 3
   },
   "file_extension": ".py",
   "mimetype": "text/x-python",
   "name": "python",
   "nbconvert_exporter": "python",
   "pygments_lexer": "ipython3",
   "version": "3.8.17"
  }
 },
 "nbformat": 4,
 "nbformat_minor": 5
}
