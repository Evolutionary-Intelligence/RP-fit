{
 "cells": [
  {
   "cell_type": "code",
   "execution_count": 1,
   "id": "6a97514a",
   "metadata": {
    "scrolled": true,
    "ExecuteTime": {
     "end_time": "2023-11-14T08:17:01.040106Z",
     "start_time": "2023-11-14T08:17:01.018503900Z"
    }
   },
   "outputs": [],
   "source": [
    "import os\n",
    "\n",
    "import numpy as np\n",
    "import pandas as pd\n",
    "import seaborn as sns\n",
    "from matplotlib import pyplot as plt\n",
    "\n",
    "sns.set()"
   ]
  },
  {
   "cell_type": "markdown",
   "source": [
    "\n",
    "PyPop7: A Pure-Python Library for POPulation-based Black-Box Optimization (BBO)\n",
    "\n",
    "Documentation\n",
    "[https://pypop.readthedocs.io/en/latest/](https://pypop.readthedocs.io/en/latest/)\n",
    "\n",
    "Repository\n",
    "[https://github.com/Evolutionary-Intelligence/pypop](https://github.com/Evolutionary-Intelligence/pypop)\n",
    "\n",
    " Install using:\n",
    " `pip install pypop7`"
   ],
   "metadata": {
    "collapsed": false
   },
   "id": "e6a8a269b2051745"
  },
  {
   "cell_type": "code",
   "execution_count": 2,
   "outputs": [],
   "source": [
    "# Success-History based Adaptive Differential Evolution (SHADE).\n",
    "from pypop7.optimizers.de import SHADE"
   ],
   "metadata": {
    "collapsed": false,
    "ExecuteTime": {
     "end_time": "2023-11-14T08:17:01.073242100Z",
     "start_time": "2023-11-14T08:17:01.026238600Z"
    }
   },
   "id": "f3d97caf80c5fbee"
  },
  {
   "cell_type": "code",
   "execution_count": 3,
   "id": "d6358028",
   "metadata": {
    "ExecuteTime": {
     "end_time": "2023-11-14T08:17:01.169803Z",
     "start_time": "2023-11-14T08:17:01.062725700Z"
    }
   },
   "outputs": [
    {
     "name": "stdout",
     "output_type": "stream",
     "text": [
      "Configured files path to: C:\\Users\\RaenonX\\Documents\\Projects\\PokemonSleep\\pokemon-sleep-rp\\files\n"
     ]
    }
   ],
   "source": [
    "# project files\n",
    "os.environ.setdefault(\"RP_MODEL_FILE_PATH\", \"../files\")\n",
    "\n",
    "from rp_model.utils import pack, unpack, table, load, digest\n",
    "from rp_model.calc import FitOptions, compute_rp, make_precomputed_columns, make_initial_guess"
   ]
  },
  {
   "cell_type": "code",
   "execution_count": 4,
   "id": "b2b22bda",
   "metadata": {
    "ExecuteTime": {
     "end_time": "2023-11-14T08:17:01.169803Z",
     "start_time": "2023-11-14T08:17:01.163283900Z"
    }
   },
   "outputs": [],
   "source": [
    "# stuff for display\n",
    "\n",
    "from IPython.core.interactiveshell import InteractiveShell\n",
    "\n",
    "InteractiveShell.ast_node_interactivity = \"all\"\n",
    "\n",
    "pd.set_option('display.max_columns', 100)\n",
    "pd.set_option('display.max_rows', 120)"
   ]
  },
  {
   "cell_type": "code",
   "execution_count": 5,
   "id": "079e9a71",
   "metadata": {
    "scrolled": true,
    "ExecuteTime": {
     "end_time": "2023-11-14T08:17:01.272872500Z",
     "start_time": "2023-11-14T08:17:01.171802Z"
    }
   },
   "outputs": [
    {
     "data": {
      "text/plain": "             Level           RP       MS lvl      ModelRP   Difference  \\\ncount  8763.000000  8763.000000  8763.000000  8763.000000  8763.000000   \nmean     12.298756   688.924113     1.591464   688.891361    -0.032751   \nstd       8.124838   466.973756     1.069884   467.017787     0.633609   \nmin       1.000000   245.000000     1.000000   245.000000   -17.000000   \n25%       6.000000   371.000000     1.000000   371.000000     0.000000   \n50%      10.000000   525.000000     1.000000   525.000000     0.000000   \n75%      16.000000   811.000000     2.000000   811.000000     0.000000   \nmax      45.000000  3827.000000     6.000000  3830.000000     9.000000   \n\n             Freq1        FreqL          Inv       Berry1       BerryL  \\\ncount  8763.000000  8763.000000  8763.000000  8763.000000  8763.000000   \nmean   3831.016775  3661.778153    12.673057    28.063334    39.561109   \nstd     988.946537  1056.799659     3.621096     2.615509     9.214666   \nmin    2200.000000  1489.118400     7.000000    24.000000    24.000000   \n25%    3000.000000  2766.110800    10.000000    26.000000    33.000000   \n50%    3800.000000  3626.000000    12.000000    28.000000    37.000000   \n75%    4500.000000  4382.400000    15.000000    31.000000    44.000000   \nmax    6300.000000  6916.140000    24.000000    35.000000    92.000000   \n\n             Ing1P  Helps per hour  Helps Neutral      NrgMult     IngrMult  \\\ncount  8763.000000     8763.000000    8763.000000  8763.000000  8763.000000   \nmean    108.767431        1.067699       0.987262     0.994203     0.998859   \nstd      16.055961        0.327917       0.058253     0.044956     0.119072   \nmin      90.000000        0.520000       0.890000     0.920000     0.800000   \n25%      98.000000        0.820000       1.000000     1.000000     1.000000   \n50%     103.000000        0.990000       1.000000     1.000000     1.000000   \n75%     115.000000        1.300000       1.000000     1.000000     1.000000   \nmax     151.000000        2.410000       1.120000     1.080000     1.200000   \n\n         SkillMult        Ingr%     SklContr       BerryD         IngD  \\\ncount  8763.000000  8763.000000  8763.000000  8763.000000  8763.000000   \nmean      1.007600     0.208704    35.974795    58.788885   150.006048   \nstd       0.119352     0.046418    40.872172    30.362783    64.954629   \nmin       0.800000     0.130000     5.940000    25.000000    90.000000   \n25%       1.000000     0.180000    14.050000    37.000000   101.000000   \n50%       1.000000     0.210000    20.750000    50.000000   121.000000   \n75%       1.000000     0.230000    47.760000    70.000000   202.000000   \nmax       1.200000     0.430000   414.490000   246.000000   511.000000   \n\n        Dupes         Amnt        Ing2P  Help skill bonus  RP Multiplier  \ncount  8763.0  8763.000000  8763.000000       8763.000000    8763.000000  \nmean      1.0     0.142189     6.091749          0.984223       1.033434  \nstd       0.0     0.697996    29.183804          0.042143       0.075512  \nmin       1.0     0.000000     0.000000          0.790000       1.000000  \n25%       1.0     0.000000     0.000000          1.000000       1.000000  \n50%       1.0     0.000000     0.000000          1.000000       1.000000  \n75%       1.0     0.000000     0.000000          1.000000       1.000000  \nmax       1.0     8.000000   342.000000          1.000000       1.440000  ",
      "text/html": "<div>\n<style scoped>\n    .dataframe tbody tr th:only-of-type {\n        vertical-align: middle;\n    }\n\n    .dataframe tbody tr th {\n        vertical-align: top;\n    }\n\n    .dataframe thead th {\n        text-align: right;\n    }\n</style>\n<table border=\"1\" class=\"dataframe\">\n  <thead>\n    <tr style=\"text-align: right;\">\n      <th></th>\n      <th>Level</th>\n      <th>RP</th>\n      <th>MS lvl</th>\n      <th>ModelRP</th>\n      <th>Difference</th>\n      <th>Freq1</th>\n      <th>FreqL</th>\n      <th>Inv</th>\n      <th>Berry1</th>\n      <th>BerryL</th>\n      <th>Ing1P</th>\n      <th>Helps per hour</th>\n      <th>Helps Neutral</th>\n      <th>NrgMult</th>\n      <th>IngrMult</th>\n      <th>SkillMult</th>\n      <th>Ingr%</th>\n      <th>SklContr</th>\n      <th>BerryD</th>\n      <th>IngD</th>\n      <th>Dupes</th>\n      <th>Amnt</th>\n      <th>Ing2P</th>\n      <th>Help skill bonus</th>\n      <th>RP Multiplier</th>\n    </tr>\n  </thead>\n  <tbody>\n    <tr>\n      <th>count</th>\n      <td>8763.000000</td>\n      <td>8763.000000</td>\n      <td>8763.000000</td>\n      <td>8763.000000</td>\n      <td>8763.000000</td>\n      <td>8763.000000</td>\n      <td>8763.000000</td>\n      <td>8763.000000</td>\n      <td>8763.000000</td>\n      <td>8763.000000</td>\n      <td>8763.000000</td>\n      <td>8763.000000</td>\n      <td>8763.000000</td>\n      <td>8763.000000</td>\n      <td>8763.000000</td>\n      <td>8763.000000</td>\n      <td>8763.000000</td>\n      <td>8763.000000</td>\n      <td>8763.000000</td>\n      <td>8763.000000</td>\n      <td>8763.0</td>\n      <td>8763.000000</td>\n      <td>8763.000000</td>\n      <td>8763.000000</td>\n      <td>8763.000000</td>\n    </tr>\n    <tr>\n      <th>mean</th>\n      <td>12.298756</td>\n      <td>688.924113</td>\n      <td>1.591464</td>\n      <td>688.891361</td>\n      <td>-0.032751</td>\n      <td>3831.016775</td>\n      <td>3661.778153</td>\n      <td>12.673057</td>\n      <td>28.063334</td>\n      <td>39.561109</td>\n      <td>108.767431</td>\n      <td>1.067699</td>\n      <td>0.987262</td>\n      <td>0.994203</td>\n      <td>0.998859</td>\n      <td>1.007600</td>\n      <td>0.208704</td>\n      <td>35.974795</td>\n      <td>58.788885</td>\n      <td>150.006048</td>\n      <td>1.0</td>\n      <td>0.142189</td>\n      <td>6.091749</td>\n      <td>0.984223</td>\n      <td>1.033434</td>\n    </tr>\n    <tr>\n      <th>std</th>\n      <td>8.124838</td>\n      <td>466.973756</td>\n      <td>1.069884</td>\n      <td>467.017787</td>\n      <td>0.633609</td>\n      <td>988.946537</td>\n      <td>1056.799659</td>\n      <td>3.621096</td>\n      <td>2.615509</td>\n      <td>9.214666</td>\n      <td>16.055961</td>\n      <td>0.327917</td>\n      <td>0.058253</td>\n      <td>0.044956</td>\n      <td>0.119072</td>\n      <td>0.119352</td>\n      <td>0.046418</td>\n      <td>40.872172</td>\n      <td>30.362783</td>\n      <td>64.954629</td>\n      <td>0.0</td>\n      <td>0.697996</td>\n      <td>29.183804</td>\n      <td>0.042143</td>\n      <td>0.075512</td>\n    </tr>\n    <tr>\n      <th>min</th>\n      <td>1.000000</td>\n      <td>245.000000</td>\n      <td>1.000000</td>\n      <td>245.000000</td>\n      <td>-17.000000</td>\n      <td>2200.000000</td>\n      <td>1489.118400</td>\n      <td>7.000000</td>\n      <td>24.000000</td>\n      <td>24.000000</td>\n      <td>90.000000</td>\n      <td>0.520000</td>\n      <td>0.890000</td>\n      <td>0.920000</td>\n      <td>0.800000</td>\n      <td>0.800000</td>\n      <td>0.130000</td>\n      <td>5.940000</td>\n      <td>25.000000</td>\n      <td>90.000000</td>\n      <td>1.0</td>\n      <td>0.000000</td>\n      <td>0.000000</td>\n      <td>0.790000</td>\n      <td>1.000000</td>\n    </tr>\n    <tr>\n      <th>25%</th>\n      <td>6.000000</td>\n      <td>371.000000</td>\n      <td>1.000000</td>\n      <td>371.000000</td>\n      <td>0.000000</td>\n      <td>3000.000000</td>\n      <td>2766.110800</td>\n      <td>10.000000</td>\n      <td>26.000000</td>\n      <td>33.000000</td>\n      <td>98.000000</td>\n      <td>0.820000</td>\n      <td>1.000000</td>\n      <td>1.000000</td>\n      <td>1.000000</td>\n      <td>1.000000</td>\n      <td>0.180000</td>\n      <td>14.050000</td>\n      <td>37.000000</td>\n      <td>101.000000</td>\n      <td>1.0</td>\n      <td>0.000000</td>\n      <td>0.000000</td>\n      <td>1.000000</td>\n      <td>1.000000</td>\n    </tr>\n    <tr>\n      <th>50%</th>\n      <td>10.000000</td>\n      <td>525.000000</td>\n      <td>1.000000</td>\n      <td>525.000000</td>\n      <td>0.000000</td>\n      <td>3800.000000</td>\n      <td>3626.000000</td>\n      <td>12.000000</td>\n      <td>28.000000</td>\n      <td>37.000000</td>\n      <td>103.000000</td>\n      <td>0.990000</td>\n      <td>1.000000</td>\n      <td>1.000000</td>\n      <td>1.000000</td>\n      <td>1.000000</td>\n      <td>0.210000</td>\n      <td>20.750000</td>\n      <td>50.000000</td>\n      <td>121.000000</td>\n      <td>1.0</td>\n      <td>0.000000</td>\n      <td>0.000000</td>\n      <td>1.000000</td>\n      <td>1.000000</td>\n    </tr>\n    <tr>\n      <th>75%</th>\n      <td>16.000000</td>\n      <td>811.000000</td>\n      <td>2.000000</td>\n      <td>811.000000</td>\n      <td>0.000000</td>\n      <td>4500.000000</td>\n      <td>4382.400000</td>\n      <td>15.000000</td>\n      <td>31.000000</td>\n      <td>44.000000</td>\n      <td>115.000000</td>\n      <td>1.300000</td>\n      <td>1.000000</td>\n      <td>1.000000</td>\n      <td>1.000000</td>\n      <td>1.000000</td>\n      <td>0.230000</td>\n      <td>47.760000</td>\n      <td>70.000000</td>\n      <td>202.000000</td>\n      <td>1.0</td>\n      <td>0.000000</td>\n      <td>0.000000</td>\n      <td>1.000000</td>\n      <td>1.000000</td>\n    </tr>\n    <tr>\n      <th>max</th>\n      <td>45.000000</td>\n      <td>3827.000000</td>\n      <td>6.000000</td>\n      <td>3830.000000</td>\n      <td>9.000000</td>\n      <td>6300.000000</td>\n      <td>6916.140000</td>\n      <td>24.000000</td>\n      <td>35.000000</td>\n      <td>92.000000</td>\n      <td>151.000000</td>\n      <td>2.410000</td>\n      <td>1.120000</td>\n      <td>1.080000</td>\n      <td>1.200000</td>\n      <td>1.200000</td>\n      <td>0.430000</td>\n      <td>414.490000</td>\n      <td>246.000000</td>\n      <td>511.000000</td>\n      <td>1.0</td>\n      <td>8.000000</td>\n      <td>342.000000</td>\n      <td>1.000000</td>\n      <td>1.440000</td>\n    </tr>\n  </tbody>\n</table>\n</div>"
     },
     "execution_count": 5,
     "metadata": {},
     "output_type": "execute_result"
    },
    {
     "data": {
      "text/plain": "  Pokemon  Level     RP   Nature  MS lvl                 Source  ModelRP  \\\n0   Arbok    8.0  531.0    Hardy     1.0  Questions help guides    531.0   \n1   Arbok    8.0  538.0    Quiet     1.0  Questions help guides    538.0   \n2   Arbok    9.0  528.0     Bold     1.0                           528.0   \n3   Arbok    9.0  539.0    Hardy     1.0          Double Jumper    539.0   \n4   Arbok    9.0  574.0  Naughty     1.0            Rate My Mon    574.0   \n\n   Difference  Nature2              ID             NatureP            NatureN  \\\n0         0.0  Neutral  ArbokNeutral81                   -                  -   \n1         0.0    Quiet    ArbokQuiet81  Ingredient Finding          Exp Gains   \n2         0.0     Bold     ArbokBold91     Energy Recovery      Speed of Help   \n3         0.0  Neutral  ArbokNeutral91                   -                  -   \n4         0.0  Naughty  ArbokNaughty91       Speed of Help  Main Skill Chance   \n\n    Freq1    FreqL    Type    Class           MSkill   Inv  Berry1  BerryL  \\\n0  3700.0  3648.20  Poison  Berries  Charge Energy S  14.0    32.0      39   \n1  3700.0  3648.20  Poison  Berries  Charge Energy S  14.0    32.0      39   \n2  3700.0  4004.88  Poison  Berries  Charge Energy S  14.0    32.0      40   \n3  3700.0  3640.80  Poison  Berries  Charge Energy S  14.0    32.0      40   \n4  3700.0  3276.72  Poison  Berries  Charge Energy S  14.0    32.0      40   \n\n           Ing1  Ing1P  Helps per hour  Helps Neutral  NrgMult  IngrMult  \\\n0  Bean Sausage  103.0            0.98            1.0     1.00       1.0   \n1  Bean Sausage  103.0            0.98            1.0     1.00       1.2   \n2  Bean Sausage  103.0            0.89            1.1     1.08       1.0   \n3  Bean Sausage  103.0            0.98            1.0     1.00       1.0   \n4  Bean Sausage  103.0            1.09            0.9     1.00       1.0   \n\n   SkillMult  Ingr%  SklContr RPneutral       IDNeutral  BerryD   IngD  Dupes  \\\n0        1.0   0.26     22.75    531.00  ArbokNeutral81    78.0  103.0      1   \n1        1.0   0.26     22.75    530.61  ArbokNeutral81    78.0  103.0      1   \n2        1.0   0.26     22.75    538.33  ArbokNeutral91    80.0  103.0      1   \n3        1.0   0.26     22.75    539.00  ArbokNeutral91    80.0  103.0      1   \n4        0.8   0.26     22.75    538.35  ArbokNeutral91    80.0  103.0      1   \n\n  DupeMatch Sub Skill 1 Sub Skill 2 Ingredient 2  Amnt  Ing2P  \\\n0      True                                        0.0    0.0   \n1      True                                        0.0    0.0   \n2      True                                        0.0    0.0   \n3      True                                        0.0    0.0   \n4      True                                        0.0    0.0   \n\n   Help skill bonus  RP Multiplier  \n0               1.0            1.0  \n1               1.0            1.0  \n2               1.0            1.0  \n3               1.0            1.0  \n4               1.0            1.0  ",
      "text/html": "<div>\n<style scoped>\n    .dataframe tbody tr th:only-of-type {\n        vertical-align: middle;\n    }\n\n    .dataframe tbody tr th {\n        vertical-align: top;\n    }\n\n    .dataframe thead th {\n        text-align: right;\n    }\n</style>\n<table border=\"1\" class=\"dataframe\">\n  <thead>\n    <tr style=\"text-align: right;\">\n      <th></th>\n      <th>Pokemon</th>\n      <th>Level</th>\n      <th>RP</th>\n      <th>Nature</th>\n      <th>MS lvl</th>\n      <th>Source</th>\n      <th>ModelRP</th>\n      <th>Difference</th>\n      <th>Nature2</th>\n      <th>ID</th>\n      <th>NatureP</th>\n      <th>NatureN</th>\n      <th>Freq1</th>\n      <th>FreqL</th>\n      <th>Type</th>\n      <th>Class</th>\n      <th>MSkill</th>\n      <th>Inv</th>\n      <th>Berry1</th>\n      <th>BerryL</th>\n      <th>Ing1</th>\n      <th>Ing1P</th>\n      <th>Helps per hour</th>\n      <th>Helps Neutral</th>\n      <th>NrgMult</th>\n      <th>IngrMult</th>\n      <th>SkillMult</th>\n      <th>Ingr%</th>\n      <th>SklContr</th>\n      <th>RPneutral</th>\n      <th>IDNeutral</th>\n      <th>BerryD</th>\n      <th>IngD</th>\n      <th>Dupes</th>\n      <th>DupeMatch</th>\n      <th>Sub Skill 1</th>\n      <th>Sub Skill 2</th>\n      <th>Ingredient 2</th>\n      <th>Amnt</th>\n      <th>Ing2P</th>\n      <th>Help skill bonus</th>\n      <th>RP Multiplier</th>\n    </tr>\n  </thead>\n  <tbody>\n    <tr>\n      <th>0</th>\n      <td>Arbok</td>\n      <td>8.0</td>\n      <td>531.0</td>\n      <td>Hardy</td>\n      <td>1.0</td>\n      <td>Questions help guides</td>\n      <td>531.0</td>\n      <td>0.0</td>\n      <td>Neutral</td>\n      <td>ArbokNeutral81</td>\n      <td>-</td>\n      <td>-</td>\n      <td>3700.0</td>\n      <td>3648.20</td>\n      <td>Poison</td>\n      <td>Berries</td>\n      <td>Charge Energy S</td>\n      <td>14.0</td>\n      <td>32.0</td>\n      <td>39</td>\n      <td>Bean Sausage</td>\n      <td>103.0</td>\n      <td>0.98</td>\n      <td>1.0</td>\n      <td>1.00</td>\n      <td>1.0</td>\n      <td>1.0</td>\n      <td>0.26</td>\n      <td>22.75</td>\n      <td>531.00</td>\n      <td>ArbokNeutral81</td>\n      <td>78.0</td>\n      <td>103.0</td>\n      <td>1</td>\n      <td>True</td>\n      <td></td>\n      <td></td>\n      <td></td>\n      <td>0.0</td>\n      <td>0.0</td>\n      <td>1.0</td>\n      <td>1.0</td>\n    </tr>\n    <tr>\n      <th>1</th>\n      <td>Arbok</td>\n      <td>8.0</td>\n      <td>538.0</td>\n      <td>Quiet</td>\n      <td>1.0</td>\n      <td>Questions help guides</td>\n      <td>538.0</td>\n      <td>0.0</td>\n      <td>Quiet</td>\n      <td>ArbokQuiet81</td>\n      <td>Ingredient Finding</td>\n      <td>Exp Gains</td>\n      <td>3700.0</td>\n      <td>3648.20</td>\n      <td>Poison</td>\n      <td>Berries</td>\n      <td>Charge Energy S</td>\n      <td>14.0</td>\n      <td>32.0</td>\n      <td>39</td>\n      <td>Bean Sausage</td>\n      <td>103.0</td>\n      <td>0.98</td>\n      <td>1.0</td>\n      <td>1.00</td>\n      <td>1.2</td>\n      <td>1.0</td>\n      <td>0.26</td>\n      <td>22.75</td>\n      <td>530.61</td>\n      <td>ArbokNeutral81</td>\n      <td>78.0</td>\n      <td>103.0</td>\n      <td>1</td>\n      <td>True</td>\n      <td></td>\n      <td></td>\n      <td></td>\n      <td>0.0</td>\n      <td>0.0</td>\n      <td>1.0</td>\n      <td>1.0</td>\n    </tr>\n    <tr>\n      <th>2</th>\n      <td>Arbok</td>\n      <td>9.0</td>\n      <td>528.0</td>\n      <td>Bold</td>\n      <td>1.0</td>\n      <td></td>\n      <td>528.0</td>\n      <td>0.0</td>\n      <td>Bold</td>\n      <td>ArbokBold91</td>\n      <td>Energy Recovery</td>\n      <td>Speed of Help</td>\n      <td>3700.0</td>\n      <td>4004.88</td>\n      <td>Poison</td>\n      <td>Berries</td>\n      <td>Charge Energy S</td>\n      <td>14.0</td>\n      <td>32.0</td>\n      <td>40</td>\n      <td>Bean Sausage</td>\n      <td>103.0</td>\n      <td>0.89</td>\n      <td>1.1</td>\n      <td>1.08</td>\n      <td>1.0</td>\n      <td>1.0</td>\n      <td>0.26</td>\n      <td>22.75</td>\n      <td>538.33</td>\n      <td>ArbokNeutral91</td>\n      <td>80.0</td>\n      <td>103.0</td>\n      <td>1</td>\n      <td>True</td>\n      <td></td>\n      <td></td>\n      <td></td>\n      <td>0.0</td>\n      <td>0.0</td>\n      <td>1.0</td>\n      <td>1.0</td>\n    </tr>\n    <tr>\n      <th>3</th>\n      <td>Arbok</td>\n      <td>9.0</td>\n      <td>539.0</td>\n      <td>Hardy</td>\n      <td>1.0</td>\n      <td>Double Jumper</td>\n      <td>539.0</td>\n      <td>0.0</td>\n      <td>Neutral</td>\n      <td>ArbokNeutral91</td>\n      <td>-</td>\n      <td>-</td>\n      <td>3700.0</td>\n      <td>3640.80</td>\n      <td>Poison</td>\n      <td>Berries</td>\n      <td>Charge Energy S</td>\n      <td>14.0</td>\n      <td>32.0</td>\n      <td>40</td>\n      <td>Bean Sausage</td>\n      <td>103.0</td>\n      <td>0.98</td>\n      <td>1.0</td>\n      <td>1.00</td>\n      <td>1.0</td>\n      <td>1.0</td>\n      <td>0.26</td>\n      <td>22.75</td>\n      <td>539.00</td>\n      <td>ArbokNeutral91</td>\n      <td>80.0</td>\n      <td>103.0</td>\n      <td>1</td>\n      <td>True</td>\n      <td></td>\n      <td></td>\n      <td></td>\n      <td>0.0</td>\n      <td>0.0</td>\n      <td>1.0</td>\n      <td>1.0</td>\n    </tr>\n    <tr>\n      <th>4</th>\n      <td>Arbok</td>\n      <td>9.0</td>\n      <td>574.0</td>\n      <td>Naughty</td>\n      <td>1.0</td>\n      <td>Rate My Mon</td>\n      <td>574.0</td>\n      <td>0.0</td>\n      <td>Naughty</td>\n      <td>ArbokNaughty91</td>\n      <td>Speed of Help</td>\n      <td>Main Skill Chance</td>\n      <td>3700.0</td>\n      <td>3276.72</td>\n      <td>Poison</td>\n      <td>Berries</td>\n      <td>Charge Energy S</td>\n      <td>14.0</td>\n      <td>32.0</td>\n      <td>40</td>\n      <td>Bean Sausage</td>\n      <td>103.0</td>\n      <td>1.09</td>\n      <td>0.9</td>\n      <td>1.00</td>\n      <td>1.0</td>\n      <td>0.8</td>\n      <td>0.26</td>\n      <td>22.75</td>\n      <td>538.35</td>\n      <td>ArbokNeutral91</td>\n      <td>80.0</td>\n      <td>103.0</td>\n      <td>1</td>\n      <td>True</td>\n      <td></td>\n      <td></td>\n      <td></td>\n      <td>0.0</td>\n      <td>0.0</td>\n      <td>1.0</td>\n      <td>1.0</td>\n    </tr>\n  </tbody>\n</table>\n</div>"
     },
     "execution_count": 5,
     "metadata": {},
     "output_type": "execute_result"
    }
   ],
   "source": [
    "data = pd.read_pickle(FitOptions.data_file)\n",
    "data.describe()\n",
    "data.head()"
   ]
  },
  {
   "cell_type": "code",
   "execution_count": 6,
   "id": "7ef7081c",
   "metadata": {
    "scrolled": true,
    "ExecuteTime": {
     "end_time": "2023-11-14T08:17:02.805284400Z",
     "start_time": "2023-11-14T08:17:01.272872500Z"
    }
   },
   "outputs": [
    {
     "ename": "KeyError",
     "evalue": "'Sub Skill 3'",
     "output_type": "error",
     "traceback": [
      "\u001B[1;31m---------------------------------------------------------------------------\u001B[0m",
      "\u001B[1;31mKeyError\u001B[0m                                  Traceback (most recent call last)",
      "File \u001B[1;32m~\\Documents\\Projects\\PokemonSleep\\pokemon-sleep-rp\\venv\\Lib\\site-packages\\pandas\\core\\indexes\\base.py:3790\u001B[0m, in \u001B[0;36mIndex.get_loc\u001B[1;34m(self, key)\u001B[0m\n\u001B[0;32m   3789\u001B[0m \u001B[38;5;28;01mtry\u001B[39;00m:\n\u001B[1;32m-> 3790\u001B[0m     \u001B[38;5;28;01mreturn\u001B[39;00m \u001B[38;5;28;43mself\u001B[39;49m\u001B[38;5;241;43m.\u001B[39;49m\u001B[43m_engine\u001B[49m\u001B[38;5;241;43m.\u001B[39;49m\u001B[43mget_loc\u001B[49m\u001B[43m(\u001B[49m\u001B[43mcasted_key\u001B[49m\u001B[43m)\u001B[49m\n\u001B[0;32m   3791\u001B[0m \u001B[38;5;28;01mexcept\u001B[39;00m \u001B[38;5;167;01mKeyError\u001B[39;00m \u001B[38;5;28;01mas\u001B[39;00m err:\n",
      "File \u001B[1;32mindex.pyx:152\u001B[0m, in \u001B[0;36mpandas._libs.index.IndexEngine.get_loc\u001B[1;34m()\u001B[0m\n",
      "File \u001B[1;32mindex.pyx:181\u001B[0m, in \u001B[0;36mpandas._libs.index.IndexEngine.get_loc\u001B[1;34m()\u001B[0m\n",
      "File \u001B[1;32mpandas\\_libs\\hashtable_class_helper.pxi:7080\u001B[0m, in \u001B[0;36mpandas._libs.hashtable.PyObjectHashTable.get_item\u001B[1;34m()\u001B[0m\n",
      "File \u001B[1;32mpandas\\_libs\\hashtable_class_helper.pxi:7088\u001B[0m, in \u001B[0;36mpandas._libs.hashtable.PyObjectHashTable.get_item\u001B[1;34m()\u001B[0m\n",
      "\u001B[1;31mKeyError\u001B[0m: 'Sub Skill 3'",
      "\nThe above exception was the direct cause of the following exception:\n",
      "\u001B[1;31mKeyError\u001B[0m                                  Traceback (most recent call last)",
      "Cell \u001B[1;32mIn[6], line 6\u001B[0m\n\u001B[0;32m      1\u001B[0m \u001B[38;5;66;03m# Make an initial guess\u001B[39;00m\n\u001B[0;32m      2\u001B[0m \u001B[38;5;66;03m# Pack the dictionary into a 1-D vector.\u001B[39;00m\n\u001B[0;32m      3\u001B[0m \u001B[38;5;66;03m# Also store information on how to unpack that vector\u001B[39;00m\n\u001B[0;32m      5\u001B[0m x0, unpack_info \u001B[38;5;241m=\u001B[39m pack(\u001B[38;5;241m*\u001B[39mmake_initial_guess())\n\u001B[1;32m----> 6\u001B[0m computed \u001B[38;5;241m=\u001B[39m \u001B[43mmake_precomputed_columns\u001B[49m\u001B[43m(\u001B[49m\u001B[43mdata\u001B[49m\u001B[43m)\u001B[49m\n",
      "File \u001B[1;32m~\\Documents\\Projects\\PokemonSleep\\pokemon-sleep-rp\\rp_model\\calc\\rp.py:217\u001B[0m, in \u001B[0;36mmake_precomputed_columns\u001B[1;34m(data)\u001B[0m\n\u001B[0;32m    213\u001B[0m subskills \u001B[38;5;241m=\u001B[39m game\u001B[38;5;241m.\u001B[39mdata\u001B[38;5;241m.\u001B[39msubskills\n\u001B[0;32m    214\u001B[0m subs \u001B[38;5;241m=\u001B[39m subskills[\u001B[38;5;124m\"\u001B[39m\u001B[38;5;124mSubskill\u001B[39m\u001B[38;5;124m\"\u001B[39m]\u001B[38;5;241m.\u001B[39munique()\n\u001B[0;32m    216\u001B[0m computed\u001B[38;5;241m.\u001B[39mhas_subskill \u001B[38;5;241m=\u001B[39m \\\n\u001B[1;32m--> 217\u001B[0m     \u001B[38;5;28mdict\u001B[39m(\u001B[43m[\u001B[49m\u001B[43m(\u001B[49m\u001B[43ms\u001B[49m\u001B[43m,\u001B[49m\u001B[43m \u001B[49m\u001B[43m(\u001B[49m\n\u001B[0;32m    218\u001B[0m \u001B[43m            \u001B[49m\u001B[43m(\u001B[49m\u001B[43m(\u001B[49m\u001B[43mdata\u001B[49m\u001B[43m[\u001B[49m\u001B[38;5;124;43m\"\u001B[39;49m\u001B[38;5;124;43mSub Skill 1\u001B[39;49m\u001B[38;5;124;43m\"\u001B[39;49m\u001B[43m]\u001B[49m\u001B[38;5;241;43m.\u001B[39;49m\u001B[43mstr\u001B[49m\u001B[38;5;241;43m.\u001B[39;49m\u001B[43mlower\u001B[49m\u001B[43m(\u001B[49m\u001B[43m)\u001B[49m\u001B[43m \u001B[49m\u001B[38;5;241;43m==\u001B[39;49m\u001B[43m \u001B[49m\u001B[43ms\u001B[49m\u001B[38;5;241;43m.\u001B[39;49m\u001B[43mlower\u001B[49m\u001B[43m(\u001B[49m\u001B[43m)\u001B[49m\u001B[43m)\u001B[49m\u001B[43m \u001B[49m\u001B[38;5;241;43m&\u001B[39;49m\u001B[43m \u001B[49m\u001B[43m(\u001B[49m\u001B[43mdata\u001B[49m\u001B[43m[\u001B[49m\u001B[38;5;124;43m\"\u001B[39;49m\u001B[38;5;124;43mLevel\u001B[39;49m\u001B[38;5;124;43m\"\u001B[39;49m\u001B[43m]\u001B[49m\u001B[43m \u001B[49m\u001B[38;5;241;43m>\u001B[39;49m\u001B[38;5;241;43m=\u001B[39;49m\u001B[43m \u001B[49m\u001B[38;5;241;43m10\u001B[39;49m\u001B[43m)\u001B[49m\u001B[43m)\u001B[49m\u001B[43m \u001B[49m\u001B[38;5;241;43m|\u001B[39;49m\n\u001B[0;32m    219\u001B[0m \u001B[43m            \u001B[49m\u001B[43m(\u001B[49m\u001B[43m(\u001B[49m\u001B[43mdata\u001B[49m\u001B[43m[\u001B[49m\u001B[38;5;124;43m\"\u001B[39;49m\u001B[38;5;124;43mSub Skill 2\u001B[39;49m\u001B[38;5;124;43m\"\u001B[39;49m\u001B[43m]\u001B[49m\u001B[38;5;241;43m.\u001B[39;49m\u001B[43mstr\u001B[49m\u001B[38;5;241;43m.\u001B[39;49m\u001B[43mlower\u001B[49m\u001B[43m(\u001B[49m\u001B[43m)\u001B[49m\u001B[43m \u001B[49m\u001B[38;5;241;43m==\u001B[39;49m\u001B[43m \u001B[49m\u001B[43ms\u001B[49m\u001B[38;5;241;43m.\u001B[39;49m\u001B[43mlower\u001B[49m\u001B[43m(\u001B[49m\u001B[43m)\u001B[49m\u001B[43m)\u001B[49m\u001B[43m \u001B[49m\u001B[38;5;241;43m&\u001B[39;49m\u001B[43m \u001B[49m\u001B[43m(\u001B[49m\u001B[43mdata\u001B[49m\u001B[43m[\u001B[49m\u001B[38;5;124;43m\"\u001B[39;49m\u001B[38;5;124;43mLevel\u001B[39;49m\u001B[38;5;124;43m\"\u001B[39;49m\u001B[43m]\u001B[49m\u001B[43m \u001B[49m\u001B[38;5;241;43m>\u001B[39;49m\u001B[38;5;241;43m=\u001B[39;49m\u001B[43m \u001B[49m\u001B[38;5;241;43m25\u001B[39;49m\u001B[43m)\u001B[49m\u001B[43m)\u001B[49m\u001B[43m \u001B[49m\u001B[38;5;241;43m|\u001B[39;49m\n\u001B[0;32m    220\u001B[0m \u001B[43m            \u001B[49m\u001B[43m(\u001B[49m\u001B[43m(\u001B[49m\u001B[43mdata\u001B[49m\u001B[43m[\u001B[49m\u001B[38;5;124;43m\"\u001B[39;49m\u001B[38;5;124;43mSub Skill 3\u001B[39;49m\u001B[38;5;124;43m\"\u001B[39;49m\u001B[43m]\u001B[49m\u001B[38;5;241;43m.\u001B[39;49m\u001B[43mstr\u001B[49m\u001B[38;5;241;43m.\u001B[39;49m\u001B[43mlower\u001B[49m\u001B[43m(\u001B[49m\u001B[43m)\u001B[49m\u001B[43m \u001B[49m\u001B[38;5;241;43m==\u001B[39;49m\u001B[43m \u001B[49m\u001B[43ms\u001B[49m\u001B[38;5;241;43m.\u001B[39;49m\u001B[43mlower\u001B[49m\u001B[43m(\u001B[49m\u001B[43m)\u001B[49m\u001B[43m)\u001B[49m\u001B[43m \u001B[49m\u001B[38;5;241;43m&\u001B[39;49m\u001B[43m \u001B[49m\u001B[43m(\u001B[49m\u001B[43mdata\u001B[49m\u001B[43m[\u001B[49m\u001B[38;5;124;43m\"\u001B[39;49m\u001B[38;5;124;43mLevel\u001B[39;49m\u001B[38;5;124;43m\"\u001B[39;49m\u001B[43m]\u001B[49m\u001B[43m \u001B[49m\u001B[38;5;241;43m>\u001B[39;49m\u001B[38;5;241;43m=\u001B[39;49m\u001B[43m \u001B[49m\u001B[38;5;241;43m50\u001B[39;49m\u001B[43m)\u001B[49m\u001B[43m)\u001B[49m\n\u001B[0;32m    221\u001B[0m \u001B[43m    \u001B[49m\u001B[43m)\u001B[49m\u001B[38;5;241;43m.\u001B[39;49m\u001B[43mastype\u001B[49m\u001B[43m(\u001B[49m\u001B[38;5;28;43mint\u001B[39;49m\u001B[43m)\u001B[49m\u001B[38;5;241;43m.\u001B[39;49m\u001B[43mto_numpy\u001B[49m\u001B[43m(\u001B[49m\u001B[43m)\u001B[49m\u001B[43m)\u001B[49m\u001B[43m \u001B[49m\u001B[38;5;28;43;01mfor\u001B[39;49;00m\u001B[43m \u001B[49m\u001B[43ms\u001B[49m\u001B[43m \u001B[49m\u001B[38;5;129;43;01min\u001B[39;49;00m\u001B[43m \u001B[49m\u001B[43msubs\u001B[49m\u001B[43m]\u001B[49m)\n\u001B[0;32m    223\u001B[0m \u001B[38;5;66;03m# Food\u001B[39;00m\n\u001B[0;32m    224\u001B[0m \u001B[38;5;66;03m# We could redo that work, but it's not related to the optimization\u001B[39;00m\n\u001B[0;32m    225\u001B[0m computed\u001B[38;5;241m.\u001B[39ming1_power_base \u001B[38;5;241m=\u001B[39m data[\u001B[38;5;124m\"\u001B[39m\u001B[38;5;124mIng1P\u001B[39m\u001B[38;5;124m\"\u001B[39m]\u001B[38;5;241m.\u001B[39mto_numpy()\n",
      "File \u001B[1;32m~\\Documents\\Projects\\PokemonSleep\\pokemon-sleep-rp\\rp_model\\calc\\rp.py:220\u001B[0m, in \u001B[0;36m<listcomp>\u001B[1;34m(.0)\u001B[0m\n\u001B[0;32m    213\u001B[0m subskills \u001B[38;5;241m=\u001B[39m game\u001B[38;5;241m.\u001B[39mdata\u001B[38;5;241m.\u001B[39msubskills\n\u001B[0;32m    214\u001B[0m subs \u001B[38;5;241m=\u001B[39m subskills[\u001B[38;5;124m\"\u001B[39m\u001B[38;5;124mSubskill\u001B[39m\u001B[38;5;124m\"\u001B[39m]\u001B[38;5;241m.\u001B[39munique()\n\u001B[0;32m    216\u001B[0m computed\u001B[38;5;241m.\u001B[39mhas_subskill \u001B[38;5;241m=\u001B[39m \\\n\u001B[0;32m    217\u001B[0m     \u001B[38;5;28mdict\u001B[39m([(s, (\n\u001B[0;32m    218\u001B[0m             ((data[\u001B[38;5;124m\"\u001B[39m\u001B[38;5;124mSub Skill 1\u001B[39m\u001B[38;5;124m\"\u001B[39m]\u001B[38;5;241m.\u001B[39mstr\u001B[38;5;241m.\u001B[39mlower() \u001B[38;5;241m==\u001B[39m s\u001B[38;5;241m.\u001B[39mlower()) \u001B[38;5;241m&\u001B[39m (data[\u001B[38;5;124m\"\u001B[39m\u001B[38;5;124mLevel\u001B[39m\u001B[38;5;124m\"\u001B[39m] \u001B[38;5;241m>\u001B[39m\u001B[38;5;241m=\u001B[39m \u001B[38;5;241m10\u001B[39m)) \u001B[38;5;241m|\u001B[39m\n\u001B[0;32m    219\u001B[0m             ((data[\u001B[38;5;124m\"\u001B[39m\u001B[38;5;124mSub Skill 2\u001B[39m\u001B[38;5;124m\"\u001B[39m]\u001B[38;5;241m.\u001B[39mstr\u001B[38;5;241m.\u001B[39mlower() \u001B[38;5;241m==\u001B[39m s\u001B[38;5;241m.\u001B[39mlower()) \u001B[38;5;241m&\u001B[39m (data[\u001B[38;5;124m\"\u001B[39m\u001B[38;5;124mLevel\u001B[39m\u001B[38;5;124m\"\u001B[39m] \u001B[38;5;241m>\u001B[39m\u001B[38;5;241m=\u001B[39m \u001B[38;5;241m25\u001B[39m)) \u001B[38;5;241m|\u001B[39m\n\u001B[1;32m--> 220\u001B[0m             ((\u001B[43mdata\u001B[49m\u001B[43m[\u001B[49m\u001B[38;5;124;43m\"\u001B[39;49m\u001B[38;5;124;43mSub Skill 3\u001B[39;49m\u001B[38;5;124;43m\"\u001B[39;49m\u001B[43m]\u001B[49m\u001B[38;5;241m.\u001B[39mstr\u001B[38;5;241m.\u001B[39mlower() \u001B[38;5;241m==\u001B[39m s\u001B[38;5;241m.\u001B[39mlower()) \u001B[38;5;241m&\u001B[39m (data[\u001B[38;5;124m\"\u001B[39m\u001B[38;5;124mLevel\u001B[39m\u001B[38;5;124m\"\u001B[39m] \u001B[38;5;241m>\u001B[39m\u001B[38;5;241m=\u001B[39m \u001B[38;5;241m50\u001B[39m))\n\u001B[0;32m    221\u001B[0m     )\u001B[38;5;241m.\u001B[39mastype(\u001B[38;5;28mint\u001B[39m)\u001B[38;5;241m.\u001B[39mto_numpy()) \u001B[38;5;28;01mfor\u001B[39;00m s \u001B[38;5;129;01min\u001B[39;00m subs])\n\u001B[0;32m    223\u001B[0m \u001B[38;5;66;03m# Food\u001B[39;00m\n\u001B[0;32m    224\u001B[0m \u001B[38;5;66;03m# We could redo that work, but it's not related to the optimization\u001B[39;00m\n\u001B[0;32m    225\u001B[0m computed\u001B[38;5;241m.\u001B[39ming1_power_base \u001B[38;5;241m=\u001B[39m data[\u001B[38;5;124m\"\u001B[39m\u001B[38;5;124mIng1P\u001B[39m\u001B[38;5;124m\"\u001B[39m]\u001B[38;5;241m.\u001B[39mto_numpy()\n",
      "File \u001B[1;32m~\\Documents\\Projects\\PokemonSleep\\pokemon-sleep-rp\\venv\\Lib\\site-packages\\pandas\\core\\frame.py:3893\u001B[0m, in \u001B[0;36mDataFrame.__getitem__\u001B[1;34m(self, key)\u001B[0m\n\u001B[0;32m   3891\u001B[0m \u001B[38;5;28;01mif\u001B[39;00m \u001B[38;5;28mself\u001B[39m\u001B[38;5;241m.\u001B[39mcolumns\u001B[38;5;241m.\u001B[39mnlevels \u001B[38;5;241m>\u001B[39m \u001B[38;5;241m1\u001B[39m:\n\u001B[0;32m   3892\u001B[0m     \u001B[38;5;28;01mreturn\u001B[39;00m \u001B[38;5;28mself\u001B[39m\u001B[38;5;241m.\u001B[39m_getitem_multilevel(key)\n\u001B[1;32m-> 3893\u001B[0m indexer \u001B[38;5;241m=\u001B[39m \u001B[38;5;28;43mself\u001B[39;49m\u001B[38;5;241;43m.\u001B[39;49m\u001B[43mcolumns\u001B[49m\u001B[38;5;241;43m.\u001B[39;49m\u001B[43mget_loc\u001B[49m\u001B[43m(\u001B[49m\u001B[43mkey\u001B[49m\u001B[43m)\u001B[49m\n\u001B[0;32m   3894\u001B[0m \u001B[38;5;28;01mif\u001B[39;00m is_integer(indexer):\n\u001B[0;32m   3895\u001B[0m     indexer \u001B[38;5;241m=\u001B[39m [indexer]\n",
      "File \u001B[1;32m~\\Documents\\Projects\\PokemonSleep\\pokemon-sleep-rp\\venv\\Lib\\site-packages\\pandas\\core\\indexes\\base.py:3797\u001B[0m, in \u001B[0;36mIndex.get_loc\u001B[1;34m(self, key)\u001B[0m\n\u001B[0;32m   3792\u001B[0m     \u001B[38;5;28;01mif\u001B[39;00m \u001B[38;5;28misinstance\u001B[39m(casted_key, \u001B[38;5;28mslice\u001B[39m) \u001B[38;5;129;01mor\u001B[39;00m (\n\u001B[0;32m   3793\u001B[0m         \u001B[38;5;28misinstance\u001B[39m(casted_key, abc\u001B[38;5;241m.\u001B[39mIterable)\n\u001B[0;32m   3794\u001B[0m         \u001B[38;5;129;01mand\u001B[39;00m \u001B[38;5;28many\u001B[39m(\u001B[38;5;28misinstance\u001B[39m(x, \u001B[38;5;28mslice\u001B[39m) \u001B[38;5;28;01mfor\u001B[39;00m x \u001B[38;5;129;01min\u001B[39;00m casted_key)\n\u001B[0;32m   3795\u001B[0m     ):\n\u001B[0;32m   3796\u001B[0m         \u001B[38;5;28;01mraise\u001B[39;00m InvalidIndexError(key)\n\u001B[1;32m-> 3797\u001B[0m     \u001B[38;5;28;01mraise\u001B[39;00m \u001B[38;5;167;01mKeyError\u001B[39;00m(key) \u001B[38;5;28;01mfrom\u001B[39;00m \u001B[38;5;21;01merr\u001B[39;00m\n\u001B[0;32m   3798\u001B[0m \u001B[38;5;28;01mexcept\u001B[39;00m \u001B[38;5;167;01mTypeError\u001B[39;00m:\n\u001B[0;32m   3799\u001B[0m     \u001B[38;5;66;03m# If we have a listlike key, _check_indexing_error will raise\u001B[39;00m\n\u001B[0;32m   3800\u001B[0m     \u001B[38;5;66;03m#  InvalidIndexError. Otherwise we fall through and re-raise\u001B[39;00m\n\u001B[0;32m   3801\u001B[0m     \u001B[38;5;66;03m#  the TypeError.\u001B[39;00m\n\u001B[0;32m   3802\u001B[0m     \u001B[38;5;28mself\u001B[39m\u001B[38;5;241m.\u001B[39m_check_indexing_error(key)\n",
      "\u001B[1;31mKeyError\u001B[0m: 'Sub Skill 3'"
     ]
    }
   ],
   "source": [
    "# Make an initial guess\n",
    "# Pack the dictionary into a 1-D vector.\n",
    "# Also store information on how to unpack that vector\n",
    "\n",
    "x0, unpack_info = pack(*make_initial_guess())\n",
    "computed = make_precomputed_columns(data)"
   ]
  },
  {
   "cell_type": "code",
   "execution_count": null,
   "id": "2d6739e0",
   "metadata": {
    "scrolled": true,
    "ExecuteTime": {
     "start_time": "2023-11-14T08:17:02.807498500Z"
    }
   },
   "outputs": [],
   "source": [
    "# We compute the RP model in rp_model.py\n",
    "# Here we create closure to glue the pieces together.\n",
    "\n",
    "def RP(x):\n",
    "    return compute_rp(x, data, computed, unpack_info)\n",
    "\n",
    "\n",
    "# for the error analysis page,\n",
    "# we'll compute the residual with exact rounding.\n",
    "\n",
    "def residual(x):\n",
    "    return data[\"RP\"] - np.round(RP(x))\n",
    "\n",
    "\n",
    "def sum_squares(x, **kwargs):\n",
    "    r = residual(x)\n",
    "    return np.dot(r, r)\n"
   ]
  },
  {
   "cell_type": "code",
   "execution_count": null,
   "outputs": [],
   "source": [
    "filename = FitOptions.get_result_file(digest(data, x0))\n",
    "opt = load(filename)\n",
    "opt"
   ],
   "metadata": {
    "collapsed": false,
    "ExecuteTime": {
     "start_time": "2023-11-14T08:17:02.809505900Z"
    }
   },
   "id": "a56a89c672930844"
  },
  {
   "cell_type": "code",
   "execution_count": null,
   "outputs": [],
   "source": [
    "\n"
   ],
   "metadata": {
    "collapsed": false,
    "ExecuteTime": {
     "start_time": "2023-11-14T08:17:02.812506200Z"
    }
   },
   "id": "74429cb7b631a933"
  },
  {
   "cell_type": "code",
   "execution_count": null,
   "outputs": [],
   "source": [
    "inject_x0 = False,\n",
    "\n",
    "# For this library, those are more a sampling region than real constraints\n",
    "# Init between 0.5x and 1.5x. But swap bound if value is negative\n",
    "\n",
    "optx = opt.x\n",
    "choice_list = [0.5 * optx, 1.5 * optx]\n",
    "bounds_low = np.select([optx >= 0, optx < 0], choice_list)\n",
    "bounds_high = np.select([optx < 0, optx >= 0], choice_list)\n",
    "\n",
    "problem = dict(fitness_function=sum_squares, ndim_problem=len(optx), upper_boundary=bounds_high,\n",
    "    lower_boundary=bounds_low)\n",
    "options = dict(max_function_evaluations=10000)\n",
    "\n",
    "if not inject_x0:\n",
    "    algo = SHADE(problem, options)\n",
    "\n",
    "else:\n",
    "\n",
    "    class ShadeCustom(SHADE):\n",
    "        def initialize(self, args=None):\n",
    "            x, y, a = SHADE.initialize(self, args)\n",
    "\n",
    "            if (args is not None and 'x0' in args):\n",
    "                x[0] = args['x0']\n",
    "                y[0] = self._evaluate_fitness(x[0], args)\n",
    "\n",
    "            return (x, y, a)\n",
    "\n",
    "\n",
    "    algo = ShadeCustom(problem, options)\n",
    "\n",
    "result_de = algo.optimize(fitness_function=None, args={\"x0\": optx})"
   ],
   "metadata": {
    "collapsed": false,
    "ExecuteTime": {
     "start_time": "2023-11-14T08:17:02.814508100Z"
    }
   },
   "id": "507f68bdc4c7a6e8"
  },
  {
   "cell_type": "code",
   "execution_count": null,
   "outputs": [],
   "source": [
    "table(result_de)"
   ],
   "metadata": {
    "collapsed": false,
    "ExecuteTime": {
     "start_time": "2023-11-14T08:17:02.816017700Z"
    }
   },
   "id": "3b6efc3da3268fb9"
  },
  {
   "cell_type": "code",
   "execution_count": null,
   "outputs": [],
   "source": [
    "r_opt = data[\"RP\"] - np.round(RP(result_de['best_so_far_x']))\n",
    "pd.Series(r_opt).describe()\n",
    "\n",
    "_ = plt.figure()\n",
    "g = sns.histplot(x=np.clip(np.abs(r_opt), 1e-1, 1e3), log_scale=True, bins=20)\n",
    "g.axes.set_yscale('log')\n",
    "_ = g.bar_label(g.containers[1], labels=[str(v) if v else '' for v in g.containers[1].datavalues])\n",
    "\n",
    "_ = plt.figure()\n",
    "g = sns.histplot(x=r_opt)\n",
    "_ = g.axes.set_yscale('log')\n",
    "_ = g.bar_label(g.containers[1], labels=[str(v) if v else '' for v in g.containers[1].datavalues])"
   ],
   "metadata": {
    "collapsed": false,
    "ExecuteTime": {
     "start_time": "2023-11-14T08:17:02.818028600Z"
    }
   },
   "id": "af467b6569243ea2"
  },
  {
   "cell_type": "code",
   "execution_count": null,
   "outputs": [],
   "source": [
    "sol = unpack(opt.x, unpack_info)\n",
    "table(sol)"
   ],
   "metadata": {
    "collapsed": false,
    "ExecuteTime": {
     "start_time": "2023-11-14T08:17:02.819028600Z"
    }
   },
   "id": "66bf411d1aeda860"
  },
  {
   "cell_type": "code",
   "execution_count": null,
   "outputs": [],
   "source": [],
   "metadata": {
    "collapsed": false,
    "ExecuteTime": {
     "start_time": "2023-11-14T08:17:02.821248900Z"
    }
   },
   "id": "b78f7e7ee664db27"
  }
 ],
 "metadata": {
  "kernelspec": {
   "display_name": "Python 3 (ipykernel)",
   "language": "python",
   "name": "python3"
  },
  "language_info": {
   "codemirror_mode": {
    "name": "ipython",
    "version": 3
   },
   "file_extension": ".py",
   "mimetype": "text/x-python",
   "name": "python",
   "nbconvert_exporter": "python",
   "pygments_lexer": "ipython3",
   "version": "3.8.17"
  }
 },
 "nbformat": 4,
 "nbformat_minor": 5
}
