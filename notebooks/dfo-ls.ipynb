{
 "cells": [
  {
   "cell_type": "code",
   "execution_count": 1,
   "id": "6a97514a",
   "metadata": {
    "scrolled": true,
    "ExecuteTime": {
     "end_time": "2023-11-14T09:10:31.106490Z",
     "start_time": "2023-11-14T09:10:31.095450200Z"
    }
   },
   "outputs": [],
   "source": [
    "import numpy as np\n",
    "import pandas as pd\n",
    "import seaborn as sns\n",
    "from matplotlib import pyplot as plt\n",
    "\n",
    "sns.set()"
   ]
  },
  {
   "cell_type": "markdown",
   "source": [
    "\n",
    " Derivative-Free Optimization for Least-Squares (DFO-LS) is a\n",
    " nonlinear least-squares solver that only requires function values.\n",
    "\n",
    " Documentation\n",
    " [https://numericalalgorithmsgroup.github.io/dfols/build/html/index.html](https://numericalalgorithmsgroup.github.io/dfols/build/html/index.html)\n",
    "\n",
    " Repository\n",
    " [https://github.com/numericalalgorithmsgroup/dfols](https://github.com/numericalalgorithmsgroup/dfols)\n",
    "\n",
    " Install using either:\n",
    " `conda install -c conda-forge dfo-ls`\n",
    " `pip install DFO-LS`"
   ],
   "metadata": {
    "collapsed": false
   },
   "id": "84d3650dc6ce8018"
  },
  {
   "cell_type": "code",
   "execution_count": 2,
   "outputs": [],
   "source": [
    "from dfols import solve\n"
   ],
   "metadata": {
    "collapsed": false,
    "ExecuteTime": {
     "end_time": "2023-11-14T09:10:31.726429500Z",
     "start_time": "2023-11-14T09:10:31.713239300Z"
    }
   },
   "id": "2034f24259f603cd"
  },
  {
   "cell_type": "code",
   "execution_count": 3,
   "id": "d6358028",
   "metadata": {
    "ExecuteTime": {
     "end_time": "2023-11-14T09:10:32.043328900Z",
     "start_time": "2023-11-14T09:10:31.946045400Z"
    }
   },
   "outputs": [
    {
     "name": "stdout",
     "output_type": "stream",
     "text": [
      "Configured files path to: C:\\Users\\RaenonX\\Documents\\Projects\\PokemonSleep\\pokemon-sleep-rp\\files\n"
     ]
    }
   ],
   "source": [
    "# project files\n",
    "from rp_model.const import set_files_directory\n",
    "set_files_directory(\"../files\")\n",
    "\n",
    "from rp_model.utils import pack, table, load, digest\n",
    "from rp_model.calc import FitOptions, RoundApprox, compute_rp, make_precomputed_columns, make_initial_guess"
   ]
  },
  {
   "cell_type": "code",
   "execution_count": 4,
   "id": "b2b22bda",
   "metadata": {
    "ExecuteTime": {
     "end_time": "2023-11-14T09:10:32.178835200Z",
     "start_time": "2023-11-14T09:10:32.158362100Z"
    }
   },
   "outputs": [],
   "source": [
    "# stuff for display\n",
    "\n",
    "from IPython.core.interactiveshell import InteractiveShell\n",
    "\n",
    "InteractiveShell.ast_node_interactivity = \"all\"\n",
    "\n",
    "# progress bar\n",
    "\n",
    "pd.set_option('display.max_columns', 100)\n",
    "pd.set_option('display.max_rows', 120)"
   ]
  },
  {
   "cell_type": "code",
   "execution_count": 5,
   "id": "079e9a71",
   "metadata": {
    "scrolled": true,
    "ExecuteTime": {
     "end_time": "2023-11-14T09:10:32.534112600Z",
     "start_time": "2023-11-14T09:10:32.397980200Z"
    }
   },
   "outputs": [
    {
     "data": {
      "text/plain": "             Level          RP       MS lvl      ModelRP   Difference  \\\ncount  8787.000000  8787.00000  8787.000000  8787.000000  8787.000000   \nmean     12.395698   695.38079     1.596449   695.340958    -0.039832   \nstd       8.331491   484.76049     1.077205   484.769106     0.663172   \nmin       1.000000   245.00000     1.000000   245.000000   -17.000000   \n25%       6.000000   371.00000     1.000000   371.000000     0.000000   \n50%      10.000000   525.00000     1.000000   525.000000     0.000000   \n75%      16.000000   815.00000     2.000000   815.000000     0.000000   \nmax      50.000000  5217.00000     6.000000  5220.000000     9.000000   \n\n             Freq1        FreqL          Inv       Berry1       BerryL  \\\ncount  8787.000000  8787.000000  8787.000000  8787.000000  8787.000000   \nmean   3828.064186  3657.953618    12.684534    28.062706    39.696825   \nstd     989.486008  1058.222871     3.626789     2.616258     9.588010   \nmin    2200.000000  1489.118400     7.000000    24.000000    24.000000   \n25%    3000.000000  2760.800000    10.000000    26.000000    33.000000   \n50%    3800.000000  3618.600000    12.000000    28.000000    37.000000   \n75%    4500.000000  4374.720000    15.000000    31.000000    44.000000   \nmax    6300.000000  6916.140000    24.000000    35.000000   107.000000   \n\n             Ing1P  Helps per hour  Helps Neutral      NrgMult     IngrMult  \\\ncount  8787.000000     8787.000000    8787.000000  8787.000000  8787.000000   \nmean    108.746102        1.069347       0.987252     0.994155     0.998794   \nstd      16.052627        0.329581       0.058245     0.044961     0.119004   \nmin      90.000000        0.520000       0.890000     0.920000     0.800000   \n25%      98.000000        0.820000       1.000000     1.000000     1.000000   \n50%     103.000000        0.990000       1.000000     1.000000     1.000000   \n75%     115.000000        1.300000       1.000000     1.000000     1.000000   \nmax     151.000000        2.410000       1.120000     1.080000     1.200000   \n\n         SkillMult        Ingr%     SklContr       BerryD         IngD  \\\ncount  8787.000000  8787.000000  8787.000000  8787.000000  8787.000000   \nmean      1.007784     0.208745    36.137822    59.160464   150.109195   \nstd       0.119348     0.046446    41.313861    31.365461    65.009024   \nmin       0.800000     0.130000     5.940000    25.000000    90.000000   \n25%       1.000000     0.180000    14.050000    37.000000   101.000000   \n50%       1.000000     0.210000    20.750000    50.000000   121.000000   \n75%       1.000000     0.230000    47.800000    72.000000   202.000000   \nmax       1.200000     0.430000   414.490000   321.000000   511.000000   \n\n        Dupes         Amnt        Ing2P  Help skill bonus  RP Multiplier  \ncount  8787.0  8787.000000  8787.000000       8787.000000    8787.000000  \nmean      1.0     0.147832     6.356436          0.984036       1.033762  \nstd       0.0     0.707426    29.638081          0.042410       0.075987  \nmin       1.0     0.000000     0.000000          0.790000       1.000000  \n25%       1.0     0.000000     0.000000          1.000000       1.000000  \n50%       1.0     0.000000     0.000000          1.000000       1.000000  \n75%       1.0     0.000000     0.000000          1.000000       1.000000  \nmax       1.0     8.000000   342.000000          1.000000       1.440000  ",
      "text/html": "<div>\n<style scoped>\n    .dataframe tbody tr th:only-of-type {\n        vertical-align: middle;\n    }\n\n    .dataframe tbody tr th {\n        vertical-align: top;\n    }\n\n    .dataframe thead th {\n        text-align: right;\n    }\n</style>\n<table border=\"1\" class=\"dataframe\">\n  <thead>\n    <tr style=\"text-align: right;\">\n      <th></th>\n      <th>Level</th>\n      <th>RP</th>\n      <th>MS lvl</th>\n      <th>ModelRP</th>\n      <th>Difference</th>\n      <th>Freq1</th>\n      <th>FreqL</th>\n      <th>Inv</th>\n      <th>Berry1</th>\n      <th>BerryL</th>\n      <th>Ing1P</th>\n      <th>Helps per hour</th>\n      <th>Helps Neutral</th>\n      <th>NrgMult</th>\n      <th>IngrMult</th>\n      <th>SkillMult</th>\n      <th>Ingr%</th>\n      <th>SklContr</th>\n      <th>BerryD</th>\n      <th>IngD</th>\n      <th>Dupes</th>\n      <th>Amnt</th>\n      <th>Ing2P</th>\n      <th>Help skill bonus</th>\n      <th>RP Multiplier</th>\n    </tr>\n  </thead>\n  <tbody>\n    <tr>\n      <th>count</th>\n      <td>8787.000000</td>\n      <td>8787.00000</td>\n      <td>8787.000000</td>\n      <td>8787.000000</td>\n      <td>8787.000000</td>\n      <td>8787.000000</td>\n      <td>8787.000000</td>\n      <td>8787.000000</td>\n      <td>8787.000000</td>\n      <td>8787.000000</td>\n      <td>8787.000000</td>\n      <td>8787.000000</td>\n      <td>8787.000000</td>\n      <td>8787.000000</td>\n      <td>8787.000000</td>\n      <td>8787.000000</td>\n      <td>8787.000000</td>\n      <td>8787.000000</td>\n      <td>8787.000000</td>\n      <td>8787.000000</td>\n      <td>8787.0</td>\n      <td>8787.000000</td>\n      <td>8787.000000</td>\n      <td>8787.000000</td>\n      <td>8787.000000</td>\n    </tr>\n    <tr>\n      <th>mean</th>\n      <td>12.395698</td>\n      <td>695.38079</td>\n      <td>1.596449</td>\n      <td>695.340958</td>\n      <td>-0.039832</td>\n      <td>3828.064186</td>\n      <td>3657.953618</td>\n      <td>12.684534</td>\n      <td>28.062706</td>\n      <td>39.696825</td>\n      <td>108.746102</td>\n      <td>1.069347</td>\n      <td>0.987252</td>\n      <td>0.994155</td>\n      <td>0.998794</td>\n      <td>1.007784</td>\n      <td>0.208745</td>\n      <td>36.137822</td>\n      <td>59.160464</td>\n      <td>150.109195</td>\n      <td>1.0</td>\n      <td>0.147832</td>\n      <td>6.356436</td>\n      <td>0.984036</td>\n      <td>1.033762</td>\n    </tr>\n    <tr>\n      <th>std</th>\n      <td>8.331491</td>\n      <td>484.76049</td>\n      <td>1.077205</td>\n      <td>484.769106</td>\n      <td>0.663172</td>\n      <td>989.486008</td>\n      <td>1058.222871</td>\n      <td>3.626789</td>\n      <td>2.616258</td>\n      <td>9.588010</td>\n      <td>16.052627</td>\n      <td>0.329581</td>\n      <td>0.058245</td>\n      <td>0.044961</td>\n      <td>0.119004</td>\n      <td>0.119348</td>\n      <td>0.046446</td>\n      <td>41.313861</td>\n      <td>31.365461</td>\n      <td>65.009024</td>\n      <td>0.0</td>\n      <td>0.707426</td>\n      <td>29.638081</td>\n      <td>0.042410</td>\n      <td>0.075987</td>\n    </tr>\n    <tr>\n      <th>min</th>\n      <td>1.000000</td>\n      <td>245.00000</td>\n      <td>1.000000</td>\n      <td>245.000000</td>\n      <td>-17.000000</td>\n      <td>2200.000000</td>\n      <td>1489.118400</td>\n      <td>7.000000</td>\n      <td>24.000000</td>\n      <td>24.000000</td>\n      <td>90.000000</td>\n      <td>0.520000</td>\n      <td>0.890000</td>\n      <td>0.920000</td>\n      <td>0.800000</td>\n      <td>0.800000</td>\n      <td>0.130000</td>\n      <td>5.940000</td>\n      <td>25.000000</td>\n      <td>90.000000</td>\n      <td>1.0</td>\n      <td>0.000000</td>\n      <td>0.000000</td>\n      <td>0.790000</td>\n      <td>1.000000</td>\n    </tr>\n    <tr>\n      <th>25%</th>\n      <td>6.000000</td>\n      <td>371.00000</td>\n      <td>1.000000</td>\n      <td>371.000000</td>\n      <td>0.000000</td>\n      <td>3000.000000</td>\n      <td>2760.800000</td>\n      <td>10.000000</td>\n      <td>26.000000</td>\n      <td>33.000000</td>\n      <td>98.000000</td>\n      <td>0.820000</td>\n      <td>1.000000</td>\n      <td>1.000000</td>\n      <td>1.000000</td>\n      <td>1.000000</td>\n      <td>0.180000</td>\n      <td>14.050000</td>\n      <td>37.000000</td>\n      <td>101.000000</td>\n      <td>1.0</td>\n      <td>0.000000</td>\n      <td>0.000000</td>\n      <td>1.000000</td>\n      <td>1.000000</td>\n    </tr>\n    <tr>\n      <th>50%</th>\n      <td>10.000000</td>\n      <td>525.00000</td>\n      <td>1.000000</td>\n      <td>525.000000</td>\n      <td>0.000000</td>\n      <td>3800.000000</td>\n      <td>3618.600000</td>\n      <td>12.000000</td>\n      <td>28.000000</td>\n      <td>37.000000</td>\n      <td>103.000000</td>\n      <td>0.990000</td>\n      <td>1.000000</td>\n      <td>1.000000</td>\n      <td>1.000000</td>\n      <td>1.000000</td>\n      <td>0.210000</td>\n      <td>20.750000</td>\n      <td>50.000000</td>\n      <td>121.000000</td>\n      <td>1.0</td>\n      <td>0.000000</td>\n      <td>0.000000</td>\n      <td>1.000000</td>\n      <td>1.000000</td>\n    </tr>\n    <tr>\n      <th>75%</th>\n      <td>16.000000</td>\n      <td>815.00000</td>\n      <td>2.000000</td>\n      <td>815.000000</td>\n      <td>0.000000</td>\n      <td>4500.000000</td>\n      <td>4374.720000</td>\n      <td>15.000000</td>\n      <td>31.000000</td>\n      <td>44.000000</td>\n      <td>115.000000</td>\n      <td>1.300000</td>\n      <td>1.000000</td>\n      <td>1.000000</td>\n      <td>1.000000</td>\n      <td>1.000000</td>\n      <td>0.230000</td>\n      <td>47.800000</td>\n      <td>72.000000</td>\n      <td>202.000000</td>\n      <td>1.0</td>\n      <td>0.000000</td>\n      <td>0.000000</td>\n      <td>1.000000</td>\n      <td>1.000000</td>\n    </tr>\n    <tr>\n      <th>max</th>\n      <td>50.000000</td>\n      <td>5217.00000</td>\n      <td>6.000000</td>\n      <td>5220.000000</td>\n      <td>9.000000</td>\n      <td>6300.000000</td>\n      <td>6916.140000</td>\n      <td>24.000000</td>\n      <td>35.000000</td>\n      <td>107.000000</td>\n      <td>151.000000</td>\n      <td>2.410000</td>\n      <td>1.120000</td>\n      <td>1.080000</td>\n      <td>1.200000</td>\n      <td>1.200000</td>\n      <td>0.430000</td>\n      <td>414.490000</td>\n      <td>321.000000</td>\n      <td>511.000000</td>\n      <td>1.0</td>\n      <td>8.000000</td>\n      <td>342.000000</td>\n      <td>1.000000</td>\n      <td>1.440000</td>\n    </tr>\n  </tbody>\n</table>\n</div>"
     },
     "execution_count": 5,
     "metadata": {},
     "output_type": "execute_result"
    },
    {
     "data": {
      "text/plain": "  Pokemon  Level     RP   Nature  MS lvl                 Source  ModelRP  \\\n0   Arbok    8.0  531.0    Hardy     1.0  Questions help guides    531.0   \n1   Arbok    8.0  538.0    Quiet     1.0  Questions help guides    538.0   \n2   Arbok    9.0  528.0     Bold     1.0                           528.0   \n3   Arbok    9.0  539.0    Hardy     1.0          Double Jumper    539.0   \n4   Arbok    9.0  574.0  Naughty     1.0            Rate My Mon    574.0   \n\n   Difference  Nature2              ID             NatureP            NatureN  \\\n0         0.0  Neutral  ArbokNeutral81                   -                  -   \n1         0.0    Quiet    ArbokQuiet81  Ingredient Finding          Exp Gains   \n2         0.0     Bold     ArbokBold91     Energy Recovery      Speed of Help   \n3         0.0  Neutral  ArbokNeutral91                   -                  -   \n4         0.0  Naughty  ArbokNaughty91       Speed of Help  Main Skill Chance   \n\n    Freq1    FreqL    Type    Class           MSkill   Inv  Berry1  BerryL  \\\n0  3700.0  3648.20  Poison  Berries  Charge Energy S  14.0    32.0      39   \n1  3700.0  3648.20  Poison  Berries  Charge Energy S  14.0    32.0      39   \n2  3700.0  4004.88  Poison  Berries  Charge Energy S  14.0    32.0      40   \n3  3700.0  3640.80  Poison  Berries  Charge Energy S  14.0    32.0      40   \n4  3700.0  3276.72  Poison  Berries  Charge Energy S  14.0    32.0      40   \n\n           Ing1  Ing1P  Helps per hour  Helps Neutral  NrgMult  IngrMult  \\\n0  Bean Sausage  103.0            0.98            1.0     1.00       1.0   \n1  Bean Sausage  103.0            0.98            1.0     1.00       1.2   \n2  Bean Sausage  103.0            0.89            1.1     1.08       1.0   \n3  Bean Sausage  103.0            0.98            1.0     1.00       1.0   \n4  Bean Sausage  103.0            1.09            0.9     1.00       1.0   \n\n   SkillMult  Ingr%  SklContr RPneutral       IDNeutral  BerryD   IngD  Dupes  \\\n0        1.0   0.26     22.75    531.00  ArbokNeutral81    78.0  103.0      1   \n1        1.0   0.26     22.75    530.61  ArbokNeutral81    78.0  103.0      1   \n2        1.0   0.26     22.75    538.33  ArbokNeutral91    80.0  103.0      1   \n3        1.0   0.26     22.75    539.00  ArbokNeutral91    80.0  103.0      1   \n4        0.8   0.26     22.75    538.35  ArbokNeutral91    80.0  103.0      1   \n\n  DupeMatch Sub Skill 1 Sub Skill 2 Ingredient 2  Amnt  Ing2P  \\\n0      True                                        0.0    0.0   \n1      True                                        0.0    0.0   \n2      True                                        0.0    0.0   \n3      True                                        0.0    0.0   \n4      True                                        0.0    0.0   \n\n   Help skill bonus  RP Multiplier Sub Skill 3  \n0               1.0            1.0              \n1               1.0            1.0              \n2               1.0            1.0              \n3               1.0            1.0              \n4               1.0            1.0              ",
      "text/html": "<div>\n<style scoped>\n    .dataframe tbody tr th:only-of-type {\n        vertical-align: middle;\n    }\n\n    .dataframe tbody tr th {\n        vertical-align: top;\n    }\n\n    .dataframe thead th {\n        text-align: right;\n    }\n</style>\n<table border=\"1\" class=\"dataframe\">\n  <thead>\n    <tr style=\"text-align: right;\">\n      <th></th>\n      <th>Pokemon</th>\n      <th>Level</th>\n      <th>RP</th>\n      <th>Nature</th>\n      <th>MS lvl</th>\n      <th>Source</th>\n      <th>ModelRP</th>\n      <th>Difference</th>\n      <th>Nature2</th>\n      <th>ID</th>\n      <th>NatureP</th>\n      <th>NatureN</th>\n      <th>Freq1</th>\n      <th>FreqL</th>\n      <th>Type</th>\n      <th>Class</th>\n      <th>MSkill</th>\n      <th>Inv</th>\n      <th>Berry1</th>\n      <th>BerryL</th>\n      <th>Ing1</th>\n      <th>Ing1P</th>\n      <th>Helps per hour</th>\n      <th>Helps Neutral</th>\n      <th>NrgMult</th>\n      <th>IngrMult</th>\n      <th>SkillMult</th>\n      <th>Ingr%</th>\n      <th>SklContr</th>\n      <th>RPneutral</th>\n      <th>IDNeutral</th>\n      <th>BerryD</th>\n      <th>IngD</th>\n      <th>Dupes</th>\n      <th>DupeMatch</th>\n      <th>Sub Skill 1</th>\n      <th>Sub Skill 2</th>\n      <th>Ingredient 2</th>\n      <th>Amnt</th>\n      <th>Ing2P</th>\n      <th>Help skill bonus</th>\n      <th>RP Multiplier</th>\n      <th>Sub Skill 3</th>\n    </tr>\n  </thead>\n  <tbody>\n    <tr>\n      <th>0</th>\n      <td>Arbok</td>\n      <td>8.0</td>\n      <td>531.0</td>\n      <td>Hardy</td>\n      <td>1.0</td>\n      <td>Questions help guides</td>\n      <td>531.0</td>\n      <td>0.0</td>\n      <td>Neutral</td>\n      <td>ArbokNeutral81</td>\n      <td>-</td>\n      <td>-</td>\n      <td>3700.0</td>\n      <td>3648.20</td>\n      <td>Poison</td>\n      <td>Berries</td>\n      <td>Charge Energy S</td>\n      <td>14.0</td>\n      <td>32.0</td>\n      <td>39</td>\n      <td>Bean Sausage</td>\n      <td>103.0</td>\n      <td>0.98</td>\n      <td>1.0</td>\n      <td>1.00</td>\n      <td>1.0</td>\n      <td>1.0</td>\n      <td>0.26</td>\n      <td>22.75</td>\n      <td>531.00</td>\n      <td>ArbokNeutral81</td>\n      <td>78.0</td>\n      <td>103.0</td>\n      <td>1</td>\n      <td>True</td>\n      <td></td>\n      <td></td>\n      <td></td>\n      <td>0.0</td>\n      <td>0.0</td>\n      <td>1.0</td>\n      <td>1.0</td>\n      <td></td>\n    </tr>\n    <tr>\n      <th>1</th>\n      <td>Arbok</td>\n      <td>8.0</td>\n      <td>538.0</td>\n      <td>Quiet</td>\n      <td>1.0</td>\n      <td>Questions help guides</td>\n      <td>538.0</td>\n      <td>0.0</td>\n      <td>Quiet</td>\n      <td>ArbokQuiet81</td>\n      <td>Ingredient Finding</td>\n      <td>Exp Gains</td>\n      <td>3700.0</td>\n      <td>3648.20</td>\n      <td>Poison</td>\n      <td>Berries</td>\n      <td>Charge Energy S</td>\n      <td>14.0</td>\n      <td>32.0</td>\n      <td>39</td>\n      <td>Bean Sausage</td>\n      <td>103.0</td>\n      <td>0.98</td>\n      <td>1.0</td>\n      <td>1.00</td>\n      <td>1.2</td>\n      <td>1.0</td>\n      <td>0.26</td>\n      <td>22.75</td>\n      <td>530.61</td>\n      <td>ArbokNeutral81</td>\n      <td>78.0</td>\n      <td>103.0</td>\n      <td>1</td>\n      <td>True</td>\n      <td></td>\n      <td></td>\n      <td></td>\n      <td>0.0</td>\n      <td>0.0</td>\n      <td>1.0</td>\n      <td>1.0</td>\n      <td></td>\n    </tr>\n    <tr>\n      <th>2</th>\n      <td>Arbok</td>\n      <td>9.0</td>\n      <td>528.0</td>\n      <td>Bold</td>\n      <td>1.0</td>\n      <td></td>\n      <td>528.0</td>\n      <td>0.0</td>\n      <td>Bold</td>\n      <td>ArbokBold91</td>\n      <td>Energy Recovery</td>\n      <td>Speed of Help</td>\n      <td>3700.0</td>\n      <td>4004.88</td>\n      <td>Poison</td>\n      <td>Berries</td>\n      <td>Charge Energy S</td>\n      <td>14.0</td>\n      <td>32.0</td>\n      <td>40</td>\n      <td>Bean Sausage</td>\n      <td>103.0</td>\n      <td>0.89</td>\n      <td>1.1</td>\n      <td>1.08</td>\n      <td>1.0</td>\n      <td>1.0</td>\n      <td>0.26</td>\n      <td>22.75</td>\n      <td>538.33</td>\n      <td>ArbokNeutral91</td>\n      <td>80.0</td>\n      <td>103.0</td>\n      <td>1</td>\n      <td>True</td>\n      <td></td>\n      <td></td>\n      <td></td>\n      <td>0.0</td>\n      <td>0.0</td>\n      <td>1.0</td>\n      <td>1.0</td>\n      <td></td>\n    </tr>\n    <tr>\n      <th>3</th>\n      <td>Arbok</td>\n      <td>9.0</td>\n      <td>539.0</td>\n      <td>Hardy</td>\n      <td>1.0</td>\n      <td>Double Jumper</td>\n      <td>539.0</td>\n      <td>0.0</td>\n      <td>Neutral</td>\n      <td>ArbokNeutral91</td>\n      <td>-</td>\n      <td>-</td>\n      <td>3700.0</td>\n      <td>3640.80</td>\n      <td>Poison</td>\n      <td>Berries</td>\n      <td>Charge Energy S</td>\n      <td>14.0</td>\n      <td>32.0</td>\n      <td>40</td>\n      <td>Bean Sausage</td>\n      <td>103.0</td>\n      <td>0.98</td>\n      <td>1.0</td>\n      <td>1.00</td>\n      <td>1.0</td>\n      <td>1.0</td>\n      <td>0.26</td>\n      <td>22.75</td>\n      <td>539.00</td>\n      <td>ArbokNeutral91</td>\n      <td>80.0</td>\n      <td>103.0</td>\n      <td>1</td>\n      <td>True</td>\n      <td></td>\n      <td></td>\n      <td></td>\n      <td>0.0</td>\n      <td>0.0</td>\n      <td>1.0</td>\n      <td>1.0</td>\n      <td></td>\n    </tr>\n    <tr>\n      <th>4</th>\n      <td>Arbok</td>\n      <td>9.0</td>\n      <td>574.0</td>\n      <td>Naughty</td>\n      <td>1.0</td>\n      <td>Rate My Mon</td>\n      <td>574.0</td>\n      <td>0.0</td>\n      <td>Naughty</td>\n      <td>ArbokNaughty91</td>\n      <td>Speed of Help</td>\n      <td>Main Skill Chance</td>\n      <td>3700.0</td>\n      <td>3276.72</td>\n      <td>Poison</td>\n      <td>Berries</td>\n      <td>Charge Energy S</td>\n      <td>14.0</td>\n      <td>32.0</td>\n      <td>40</td>\n      <td>Bean Sausage</td>\n      <td>103.0</td>\n      <td>1.09</td>\n      <td>0.9</td>\n      <td>1.00</td>\n      <td>1.0</td>\n      <td>0.8</td>\n      <td>0.26</td>\n      <td>22.75</td>\n      <td>538.35</td>\n      <td>ArbokNeutral91</td>\n      <td>80.0</td>\n      <td>103.0</td>\n      <td>1</td>\n      <td>True</td>\n      <td></td>\n      <td></td>\n      <td></td>\n      <td>0.0</td>\n      <td>0.0</td>\n      <td>1.0</td>\n      <td>1.0</td>\n      <td></td>\n    </tr>\n  </tbody>\n</table>\n</div>"
     },
     "execution_count": 5,
     "metadata": {},
     "output_type": "execute_result"
    }
   ],
   "source": [
    "data = pd.read_pickle(FitOptions.data_file)\n",
    "data.describe()\n",
    "data.head()"
   ]
  },
  {
   "cell_type": "code",
   "execution_count": 6,
   "outputs": [],
   "source": [
    "# Use exact rounding for this worksheet\n",
    "\n",
    "FitOptions.rounding.final_rp = RoundApprox.Exact\n",
    "FitOptions.rounding.bonus = RoundApprox.Exact\n",
    "FitOptions.rounding.period = RoundApprox.Exact\n",
    "FitOptions.rounding.components = RoundApprox.Pass\n",
    "\n",
    "#FitOptions.rounding.period = RoundApprox.Pass\n",
    "#FitOptions.rounding.components = RoundApprox.Pass\n",
    "\n",
    "\n"
   ],
   "metadata": {
    "collapsed": false,
    "ExecuteTime": {
     "end_time": "2023-11-14T09:10:33.077936500Z",
     "start_time": "2023-11-14T09:10:32.799164900Z"
    }
   },
   "id": "4f1ff80deaf8d7d3"
  },
  {
   "cell_type": "code",
   "execution_count": 7,
   "id": "7ef7081c",
   "metadata": {
    "scrolled": true,
    "ExecuteTime": {
     "end_time": "2023-11-14T09:10:33.818549400Z",
     "start_time": "2023-11-14T09:10:33.615439Z"
    }
   },
   "outputs": [],
   "source": [
    "# Make an initial guess\n",
    "# Pack the dictionary into a 1-D vector.\n",
    "# Also store information on how to unpack that vector\n",
    "\n",
    "x0, unpack_info = pack(*make_initial_guess())\n",
    "computed = make_precomputed_columns(data)"
   ]
  },
  {
   "cell_type": "code",
   "execution_count": 10,
   "id": "2d6739e0",
   "metadata": {
    "scrolled": true,
    "ExecuteTime": {
     "end_time": "2023-11-14T09:14:24.458326500Z",
     "start_time": "2023-11-14T09:14:24.448814Z"
    }
   },
   "outputs": [],
   "source": [
    "# We compute the RP model in rp_model.py\n",
    "# Here we create closure to glue the pieces together.\n",
    "\n",
    "def RP(x):\n",
    "    return compute_rp(x, data, computed, unpack_info)\n",
    "\n",
    "\n",
    "# for the error analysis page,\n",
    "# we'll compute the residual with exact rounding.\n",
    "\n",
    "def residual(x):\n",
    "    return data[\"RP\"] - np.round(RP(x))\n"
   ]
  },
  {
   "cell_type": "code",
   "execution_count": 13,
   "outputs": [
    {
     "data": {
      "text/plain": "    message: `ftol` termination condition is satisfied.\n    success: True\n     status: 2\n          x: [ 5.614e-01  5.442e-01 ...  3.641e-01  3.695e-01]\n       cost: 1603.5023071734222\n       grad: [-1.899e-05 -2.721e-05 ...  0.000e+00  0.000e+00]\n optimality: 0.03646952503913781\n       nfev: 20\n       njev: 10"
     },
     "execution_count": 13,
     "metadata": {},
     "output_type": "execute_result"
    }
   ],
   "source": [
    "filename = FitOptions.get_result_file(digest(data, x0))\n",
    "opt = load(filename)\n",
    "opt"
   ],
   "metadata": {
    "collapsed": false,
    "ExecuteTime": {
     "end_time": "2023-11-14T09:17:50.507416700Z",
     "start_time": "2023-11-14T09:17:50.461223Z"
    }
   },
   "id": "4cafc4b62d63f441"
  },
  {
   "cell_type": "code",
   "execution_count": null,
   "outputs": [
    {
     "name": "stdout",
     "output_type": "stream",
     "text": [
      " Run  Iter     Obj       Grad     Delta      rho     Evals \n",
      "  1     1    2.59e+03  1.52e+05  2.00e-01  2.00e-01   260  \n",
      "  1     2    2.59e+03  1.52e+05  1.00e-01  2.00e-02   260  \n",
      "  1     3    2.59e+03  1.52e+05  5.00e-02  2.00e-02   262  \n",
      "  1     4    2.59e+03  1.54e+05  2.00e-02  2.00e-02   264  \n",
      "  1     5    2.59e+03  1.56e+05  2.00e-02  2.00e-02   266  \n",
      "  1     6    2.59e+03  1.56e+05  2.00e-02  2.00e-02   268  \n",
      "  1     7    2.59e+03  1.61e+05  2.00e-02  2.00e-02   270  \n",
      "  1     8    2.59e+03  1.61e+05  2.00e-02  2.00e-02   272  \n",
      "  1     9    2.59e+03  1.64e+05  2.00e-02  2.00e-02   274  \n",
      "  1    10    2.59e+03  1.60e+05  2.00e-02  2.00e-02   276  \n",
      "  1    11    2.59e+03  1.61e+05  2.00e-02  2.00e-02   278  \n",
      "  1    12    2.59e+03  1.62e+05  2.00e-02  2.00e-02   280  \n",
      "  1    13    2.59e+03  1.61e+05  2.00e-02  2.00e-02   282  \n",
      "  1    14    2.59e+03  1.63e+05  2.00e-02  2.00e-02   284  \n",
      "  1    15    2.59e+03  1.63e+05  1.00e-02  2.00e-03   285  \n",
      "  1    16    2.59e+03  1.64e+05  5.00e-03  2.00e-03   287  \n",
      "  1    17    2.59e+03  1.66e+05  2.00e-03  2.00e-03   289  \n",
      "  1    18    2.59e+03  2.16e+05  2.00e-03  2.00e-03   291  \n",
      "  1    19    2.59e+03  2.77e+05  2.00e-03  2.00e-03   293  \n",
      "  1    20    2.59e+03  2.96e+05  2.00e-03  2.00e-03   295  \n",
      "  1    21    2.57e+03  9.65e+05  2.00e-03  2.00e-03   296  \n",
      "  1    22    2.57e+03  8.48e+05  2.00e-03  2.00e-03   298  \n",
      "  1    23    2.57e+03  8.37e+05  2.00e-03  2.00e-03   300  \n",
      "  1    24    2.57e+03  7.44e+05  2.00e-03  2.00e-03   302  \n",
      "  1    25    2.57e+03  7.51e+05  2.00e-03  2.00e-03   304  \n",
      "  1    26    2.57e+03  7.68e+05  2.00e-03  2.00e-03   306  \n",
      "  1    27    2.57e+03  7.23e+05  2.00e-03  2.00e-03   308  \n",
      "  1    28    2.57e+03  6.83e+05  2.00e-03  2.00e-03   310  \n",
      "  1    29    2.57e+03  8.86e+05  2.00e-03  2.00e-03   312  \n",
      "  1    30    2.57e+03  9.43e+05  2.00e-03  2.00e-03   314  \n",
      "  1    31    2.57e+03  9.63e+05  2.00e-03  2.00e-03   316  \n",
      "  1    32    2.57e+03  1.14e+06  2.00e-03  2.00e-03   318  \n",
      "  1    33    2.57e+03  1.19e+06  2.00e-03  2.00e-03   320  \n",
      "  1    34    2.57e+03  1.40e+06  2.00e-03  2.00e-03   322  \n",
      "  1    35    2.57e+03  1.53e+06  2.00e-03  2.00e-03   324  \n",
      "  1    36    2.57e+03  1.38e+06  2.00e-03  2.00e-03   326  \n",
      "  1    37    2.57e+03  1.38e+06  2.00e-03  2.00e-03   328  \n",
      "  1    38    2.56e+03  1.51e+06  2.00e-03  2.00e-03   330  \n",
      "  1    39    2.56e+03  1.28e+06  2.00e-03  2.00e-03   332  \n",
      "  1    40    2.56e+03  1.46e+06  2.00e-03  2.00e-03   334  \n",
      "  1    41    2.56e+03  1.39e+06  2.00e-03  2.00e-03   336  \n",
      "  1    42    2.56e+03  1.98e+06  2.00e-03  2.00e-03   338  \n",
      "  1    43    2.56e+03  1.18e+06  2.00e-03  2.00e-03   340  \n",
      "  1    44    2.56e+03  1.74e+06  2.00e-03  2.00e-03   342  \n",
      "  1    45    2.56e+03  1.85e+06  2.00e-03  2.00e-03   344  \n",
      "  1    46    2.56e+03  1.93e+06  2.00e-03  2.00e-03   346  \n",
      "  1    47    2.56e+03  2.09e+06  2.00e-03  2.00e-03   348  \n",
      "  1    48    2.56e+03  2.09e+06  2.00e-03  2.00e-03   350  \n",
      "  1    49    2.56e+03  2.01e+06  2.00e-03  2.00e-03   352  \n",
      "  1    50    2.56e+03  2.38e+06  2.00e-03  2.00e-03   354  \n",
      "  1    51    2.56e+03  2.29e+06  2.00e-03  2.00e-03   356  \n",
      "  1    52    2.56e+03  2.27e+06  2.00e-03  2.00e-03   358  \n",
      "  1    53    2.56e+03  2.39e+06  2.00e-03  2.00e-03   360  \n",
      "  1    54    2.56e+03  2.59e+06  2.00e-03  2.00e-03   362  \n",
      "  1    55    2.56e+03  2.89e+06  2.00e-03  2.00e-03   364  \n",
      "  1    56    2.56e+03  2.00e+06  2.00e-03  2.00e-03   366  \n",
      "  1    57    2.56e+03  3.12e+06  2.00e-03  2.00e-03   368  \n",
      "  1    58    2.56e+03  2.84e+06  2.00e-03  2.00e-03   370  \n",
      "  1    59    2.56e+03  2.90e+06  2.00e-03  2.00e-03   372  \n",
      "  1    60    2.56e+03  2.80e+06  2.00e-03  2.00e-03   374  \n",
      "  1    61    2.56e+03  4.08e+06  2.00e-03  2.00e-03   376  \n",
      "  1    62    2.56e+03  3.91e+06  2.00e-03  2.00e-03   378  \n",
      "  1    63    2.56e+03  4.68e+06  2.00e-03  2.00e-03   380  \n",
      "  1    64    2.56e+03  3.43e+06  2.00e-03  2.00e-03   382  \n",
      "  1    65    2.56e+03  3.45e+06  2.00e-03  2.00e-03   384  \n",
      "  1    66    2.56e+03  3.26e+06  2.00e-03  2.00e-03   386  \n",
      "  1    67    2.56e+03  3.93e+06  2.00e-03  2.00e-03   388  \n",
      "  1    68    2.56e+03  3.42e+06  2.00e-03  2.00e-03   390  \n",
      "  1    69    2.56e+03  3.91e+06  2.00e-03  2.00e-03   392  \n",
      "  1    70    2.56e+03  4.01e+06  2.00e-03  2.00e-03   394  \n",
      "  1    71    2.56e+03  3.95e+06  2.00e-03  2.00e-03   396  \n",
      "  1    72    2.56e+03  4.29e+06  2.00e-03  2.00e-03   398  \n",
      "  1    73    2.56e+03  4.44e+06  2.00e-03  2.00e-03   400  \n",
      "  1    74    2.56e+03  4.43e+06  2.00e-03  2.00e-03   402  \n",
      "  1    75    2.56e+03  4.92e+06  2.00e-03  2.00e-03   404  \n",
      "  1    76    2.56e+03  4.33e+06  2.00e-03  2.00e-03   406  \n",
      "  1    77    2.56e+03  4.43e+06  2.00e-03  2.00e-03   408  \n",
      "  1    78    2.56e+03  3.94e+06  2.00e-03  2.00e-03   410  \n",
      "  1    79    2.56e+03  4.33e+06  2.00e-03  2.00e-03   412  \n",
      "  1    80    2.56e+03  4.60e+06  2.00e-03  2.00e-03   414  \n",
      "  1    81    2.56e+03  4.91e+06  2.00e-03  2.00e-03   416  \n",
      "  1    82    2.56e+03  5.14e+06  2.00e-03  2.00e-03   418  \n",
      "  1    83    2.56e+03  5.46e+06  2.00e-03  2.00e-03   420  \n",
      "  1    84    2.56e+03  6.52e+06  2.00e-03  2.00e-03   422  \n",
      "  1    85    2.56e+03  5.77e+06  2.00e-03  2.00e-03   424  \n",
      "  1    86    2.56e+03  6.01e+06  2.00e-03  2.00e-03   426  \n",
      "  1    87    2.56e+03  5.35e+06  2.00e-03  2.00e-03   428  \n",
      "  1    88    2.56e+03  6.06e+06  2.00e-03  2.00e-03   430  \n",
      "  1    89    2.56e+03  6.48e+06  2.00e-03  2.00e-03   432  \n",
      "  1    90    2.56e+03  5.60e+06  2.00e-03  2.00e-03   434  \n",
      "  1    91    2.56e+03  5.96e+06  2.00e-03  2.00e-03   436  \n",
      "  1    92    2.56e+03  6.52e+06  2.00e-03  2.00e-03   438  \n",
      "  1    93    2.56e+03  6.82e+06  2.00e-03  2.00e-03   440  \n",
      "  1    94    2.56e+03  7.28e+06  2.00e-03  2.00e-03   442  \n",
      "  1    95    2.56e+03  6.18e+06  2.00e-03  2.00e-03   444  \n",
      "  1    96    2.56e+03  8.72e+06  2.00e-03  2.00e-03   446  \n",
      "  1    97    2.56e+03  7.81e+06  2.00e-03  2.00e-03   448  \n",
      "  1    98    2.56e+03  9.51e+06  2.00e-03  2.00e-03   450  \n",
      "  1    99    2.56e+03  9.03e+06  2.00e-03  2.00e-03   452  \n",
      "  1    100   2.56e+03  8.37e+06  2.00e-03  2.00e-03   454  \n",
      "  1    101   2.56e+03  9.56e+06  2.00e-03  2.00e-03   456  \n",
      "  1    102   2.56e+03  1.81e+07  2.00e-03  2.00e-03   458  \n",
      "  1    103   2.56e+03  2.21e+07  2.00e-03  2.00e-03   460  \n",
      "  1    104   2.56e+03  1.21e+07  2.00e-03  2.00e-03   462  \n",
      "  1    105   2.56e+03  1.25e+07  2.00e-03  2.00e-03   464  \n",
      "  1    106   2.56e+03  9.72e+06  2.00e-03  2.00e-03   466  \n",
      "  1    107   2.56e+03  1.43e+07  2.00e-03  2.00e-03   468  \n",
      "  1    108   2.56e+03  1.42e+07  2.00e-03  2.00e-03   470  \n",
      "  1    109   2.56e+03  1.23e+07  2.00e-03  2.00e-03   472  \n",
      "  1    110   2.56e+03  2.60e+07  2.00e-03  2.00e-03   474  \n",
      "  1    111   2.56e+03  2.02e+07  2.00e-03  2.00e-03   476  \n",
      "  1    112   2.56e+03  2.01e+07  2.00e-03  2.00e-03   478  \n",
      "  1    113   2.56e+03  2.02e+07  2.00e-03  2.00e-03   480  \n",
      "  1    114   2.56e+03  2.52e+07  2.00e-03  2.00e-03   482  \n",
      "  1    115   2.56e+03  2.16e+07  2.00e-03  2.00e-03   484  \n",
      "  1    116   2.56e+03  2.50e+07  2.00e-03  2.00e-03   486  \n",
      "  1    117   2.56e+03  2.70e+07  2.00e-03  2.00e-03   488  \n",
      "  1    118   2.56e+03  2.32e+07  2.00e-03  2.00e-03   490  \n",
      "  1    119   2.56e+03  1.98e+07  2.00e-03  2.00e-03   492  \n",
      "  1    120   2.56e+03  2.04e+07  2.00e-03  2.00e-03   494  \n",
      "  1    121   2.56e+03  2.07e+07  2.00e-03  2.00e-03   496  \n",
      "  1    122   2.56e+03  2.75e+07  2.00e-03  2.00e-03   498  \n",
      "  1    123   2.56e+03  2.98e+07  2.00e-03  2.00e-03   500  \n",
      "  1    124   2.56e+03  2.46e+07  2.00e-03  2.00e-03   502  \n",
      "  1    125   2.56e+03  2.88e+07  2.00e-03  2.00e-03   504  \n",
      "  1    126   2.56e+03  3.11e+07  2.00e-03  2.00e-03   506  \n",
      "  1    127   2.56e+03  2.57e+07  2.00e-03  2.00e-03   508  \n",
      "  1    128   2.56e+03  2.92e+07  2.00e-03  2.00e-03   510  \n",
      "  1    129   2.56e+03  2.74e+07  2.00e-03  2.00e-03   512  \n",
      "  1    130   2.56e+03  3.05e+07  2.00e-03  2.00e-03   514  \n",
      "  1    131   2.56e+03  3.79e+07  2.00e-03  2.00e-03   516  \n",
      "  1    132   2.56e+03  4.01e+07  2.00e-03  2.00e-03   518  \n",
      "  1    133   2.56e+03  6.07e+06  2.00e-03  2.00e-03   520  \n",
      "  1    134   2.56e+03  4.33e+06  2.00e-03  2.00e-03   522  \n",
      "  1    135   2.56e+03  4.32e+06  2.00e-03  2.00e-03   524  \n",
      "  1    136   2.56e+03  4.42e+06  2.00e-03  2.00e-03   526  \n",
      "  1    137   2.56e+03  1.09e+07  2.00e-03  2.00e-03   528  \n",
      "  1    138   2.56e+03  1.46e+07  2.00e-03  2.00e-03   530  \n",
      "  1    139   2.56e+03  4.35e+06  2.00e-03  2.00e-03   532  \n",
      "  1    140   2.56e+03  7.84e+06  2.00e-03  2.00e-03   534  \n",
      "  1    141   2.56e+03  8.30e+06  1.00e-03  2.00e-04   535  \n",
      "  1    142   2.56e+03  1.63e+07  5.00e-04  2.00e-04   537  \n",
      "  1    143   2.56e+03  1.51e+07  2.00e-04  2.00e-04   539  \n",
      "  1    144   2.56e+03  1.20e+07  2.00e-04  2.00e-04   541  \n",
      "  1    145   2.56e+03  1.76e+07  2.00e-04  2.00e-04   543  \n",
      "  1    146   2.56e+03  7.92e+06  2.00e-04  2.00e-04   545  \n",
      "  1    147   2.56e+03  9.06e+06  2.00e-04  2.00e-04   547  \n",
      "  1    148   2.55e+03  7.73e+06  2.00e-04  2.00e-04   549  \n",
      "  1    149   2.55e+03  7.46e+06  2.00e-04  2.00e-04   551  \n",
      "  1    150   2.55e+03  1.28e+07  2.00e-04  2.00e-04   553  \n",
      "  1    151   2.55e+03  1.04e+07  2.00e-04  2.00e-04   555  \n",
      "  1    152   2.55e+03  1.18e+07  2.00e-04  2.00e-04   557  \n",
      "  1    153   2.55e+03  9.04e+06  2.00e-04  2.00e-04   559  \n",
      "  1    154   2.55e+03  1.71e+07  2.00e-04  2.00e-04   561  \n",
      "  1    155   2.55e+03  2.07e+07  2.00e-04  2.00e-04   563  \n",
      "  1    156   2.55e+03  1.26e+07  2.00e-04  2.00e-04   565  \n",
      "  1    157   2.55e+03  1.88e+07  2.00e-04  2.00e-04   567  \n",
      "  1    158   2.55e+03  1.18e+07  2.00e-04  2.00e-04   569  \n",
      "  1    159   2.55e+03  1.95e+07  2.00e-04  2.00e-04   571  \n",
      "  1    160   2.55e+03  1.53e+07  2.00e-04  2.00e-04   573  \n",
      "  1    161   2.55e+03  1.43e+07  2.00e-04  2.00e-04   575  \n",
      "  1    162   2.55e+03  1.33e+07  2.00e-04  2.00e-04   577  \n",
      "  1    163   2.55e+03  1.29e+07  2.00e-04  2.00e-04   579  \n",
      "  1    164   2.55e+03  6.26e+06  2.00e-04  2.00e-04   581  \n",
      "  1    165   2.55e+03  1.78e+07  2.00e-04  2.00e-04   583  \n",
      "  1    166   2.55e+03  1.60e+07  2.00e-04  2.00e-04   585  \n",
      "  1    167   2.55e+03  1.53e+07  2.00e-04  2.00e-04   587  \n",
      "  1    168   2.55e+03  1.08e+07  2.00e-04  2.00e-04   589  \n",
      "  1    169   2.55e+03  9.94e+06  2.00e-04  2.00e-04   591  \n",
      "  1    170   2.55e+03  1.12e+07  2.00e-04  2.00e-04   593  \n",
      "  1    171   2.55e+03  1.76e+07  2.00e-04  2.00e-04   595  \n",
      "  1    172   2.55e+03  1.94e+07  2.00e-04  2.00e-04   597  \n",
      "  1    173   2.55e+03  4.52e+07  2.00e-04  2.00e-04   599  \n",
      "  1    174   2.55e+03  2.69e+07  2.00e-04  2.00e-04   601  \n",
      "  1    175   2.55e+03  2.96e+07  2.00e-04  2.00e-04   603  \n",
      "  1    176   2.55e+03  1.34e+07  2.00e-04  2.00e-04   605  \n",
      "  1    177   2.55e+03  2.80e+07  2.00e-04  2.00e-04   607  \n",
      "  1    178   2.55e+03  1.84e+07  2.00e-04  2.00e-04   609  \n",
      "  1    179   2.55e+03  2.39e+07  2.00e-04  2.00e-04   611  \n",
      "  1    180   2.55e+03  1.71e+07  2.00e-04  2.00e-04   613  \n",
      "  1    181   2.55e+03  2.69e+07  2.00e-04  2.00e-04   615  \n",
      "  1    182   2.55e+03  3.09e+07  2.00e-04  2.00e-04   617  \n",
      "  1    183   2.55e+03  2.18e+07  2.00e-04  2.00e-04   619  \n",
      "  1    184   2.55e+03  1.27e+07  2.00e-04  2.00e-04   621  \n",
      "  1    185   2.55e+03  1.89e+07  2.00e-04  2.00e-04   623  \n",
      "  1    186   2.55e+03  2.72e+07  2.00e-04  2.00e-04   625  \n",
      "  1    187   2.55e+03  2.73e+07  2.00e-04  2.00e-04   627  \n",
      "  1    188   2.55e+03  2.19e+07  2.00e-04  2.00e-04   629  \n",
      "  1    189   2.55e+03  2.34e+07  2.00e-04  2.00e-04   631  \n",
      "  1    190   2.55e+03  2.55e+07  2.00e-04  2.00e-04   633  \n",
      "  1    191   2.55e+03  2.88e+07  2.00e-04  2.00e-04   635  \n",
      "  1    192   2.55e+03  6.23e+07  2.00e-04  2.00e-04   637  \n",
      "  1    193   2.55e+03  2.74e+07  2.00e-04  2.00e-04   639  \n",
      "  1    194   2.55e+03  4.70e+07  2.00e-04  2.00e-04   641  \n",
      "  1    195   2.55e+03  3.97e+07  2.00e-04  2.00e-04   643  \n",
      "  1    196   2.55e+03  2.67e+07  2.00e-04  2.00e-04   645  \n",
      "  1    197   2.55e+03  2.90e+07  2.00e-04  2.00e-04   647  \n",
      "  1    198   2.55e+03  2.79e+07  2.00e-04  2.00e-04   649  \n",
      "  1    199   2.55e+03  2.93e+07  2.00e-04  2.00e-04   651  \n",
      "  1    200   2.55e+03  2.54e+07  2.00e-04  2.00e-04   653  \n",
      "  1    201   2.55e+03  4.74e+07  2.00e-04  2.00e-04   655  \n",
      "  1    202   2.55e+03  4.17e+07  2.00e-04  2.00e-04   657  \n",
      "  1    203   2.54e+03  3.72e+07  2.00e-04  2.00e-04   659  \n",
      "  1    204   2.54e+03  4.40e+07  2.00e-04  2.00e-04   661  \n",
      "  1    205   2.54e+03  5.84e+07  2.00e-04  2.00e-04   663  \n",
      "  1    206   2.54e+03  4.83e+07  2.00e-04  2.00e-04   665  \n",
      "  1    207   2.54e+03  5.52e+07  2.00e-04  2.00e-04   667  \n",
      "  1    208   2.54e+03  2.10e+07  2.00e-04  2.00e-04   669  \n",
      "  1    209   2.54e+03  4.11e+07  2.00e-04  2.00e-04   671  \n",
      "  1    210   2.54e+03  7.25e+07  2.00e-04  2.00e-04   673  \n",
      "  1    211   2.54e+03  3.43e+07  2.00e-04  2.00e-04   675  \n",
      "  1    212   2.54e+03  6.48e+07  2.00e-04  2.00e-04   677  \n",
      "  1    213   2.54e+03  2.56e+07  2.00e-04  2.00e-04   679  \n",
      "  1    214   2.54e+03  3.07e+07  2.00e-04  2.00e-04   681  \n",
      "  1    215   2.54e+03  2.95e+07  2.00e-04  2.00e-04   683  \n",
      "  1    216   2.54e+03  1.63e+07  2.00e-04  2.00e-04   685  \n",
      "  1    217   2.54e+03  2.88e+07  2.00e-04  2.00e-04   687  \n",
      "  1    218   2.54e+03  2.23e+07  2.00e-04  2.00e-04   689  \n",
      "  1    219   2.54e+03  6.06e+07  2.00e-04  2.00e-04   691  \n"
     ]
    }
   ],
   "source": [
    "\n",
    "#FitOptions.soft_round.alpha = 18\n",
    "\n",
    "optx = opt.x\n",
    "#choice_list = [0.5*optx, 1.5*optx]\n",
    "#bounds_low =  np.select([optx>=0, optx<0], choice_list)\n",
    "#bounds_high = np.select([optx<0, optx>=0], choice_list)\n",
    "#result = solve(residual, optx, bounds=( bounds_low, bounds_high ), scaling_within_bounds=True, print_progress=True, maxfun=2200)\n",
    "\n",
    "result = solve(residual, optx, print_progress=True, maxfun=2200)\n"
   ],
   "metadata": {
    "collapsed": false,
    "is_executing": true,
    "ExecuteTime": {
     "start_time": "2023-11-14T09:17:51.449244600Z"
    }
   },
   "id": "2e39ad4776d30b2"
  },
  {
   "cell_type": "code",
   "execution_count": null,
   "outputs": [],
   "source": [
    "table(result)"
   ],
   "metadata": {
    "collapsed": false,
    "ExecuteTime": {
     "end_time": "2023-11-14T09:17:28.001565500Z",
     "start_time": "2023-11-14T09:17:27.958422Z"
    }
   },
   "id": "b0e262c95344c185"
  },
  {
   "cell_type": "code",
   "execution_count": null,
   "outputs": [],
   "source": [
    "r_opt = data[\"RP\"] - np.round(RP(result.x))\n",
    "pd.Series(r_opt).describe()\n",
    "\n",
    "_ = plt.figure()\n",
    "g = sns.histplot(x=np.clip(np.abs(r_opt), 1e-1, 1e3), log_scale=True, bins=20)\n",
    "g.axes.set_yscale('log')\n",
    "_ = g.bar_label(g.containers[1], labels=[str(v) if v else '' for v in g.containers[1].datavalues])\n",
    "\n",
    "_ = plt.figure()\n",
    "g = sns.histplot(x=r_opt, discrete=1)\n",
    "_ = g.axes.set_yscale('log')\n",
    "_ = g.bar_label(g.containers[1], labels=[str(v) if v else '' for v in g.containers[1].datavalues])"
   ],
   "metadata": {
    "collapsed": false,
    "ExecuteTime": {
     "start_time": "2023-11-14T09:09:21.398317300Z"
    }
   },
   "id": "c95c53e4f7ae03e7"
  },
  {
   "cell_type": "code",
   "execution_count": null,
   "outputs": [],
   "source": [
    "\n",
    "# What are the worst points?\n",
    "\n",
    "df = data[[\"Pokemon\", \"ID\", \"Level\", \"MS lvl\", \"NatureP\", \"NatureN\", \"Sub Skill 1\", \"Sub Skill 2\", \"RP\"]].copy()\n",
    "\n",
    "df[\"fit\"] = RP(result.x)\n",
    "df[\"error\"] = data[\"RP\"] - np.round(RP(result.x))\n",
    "df[\"error2\"] = df[\"error\"] ** 2\n",
    "\n",
    "df = df.sort_values(\"error2\", ascending=False).reset_index(drop=True)\n",
    "df.head(100)"
   ],
   "metadata": {
    "collapsed": false,
    "ExecuteTime": {
     "start_time": "2023-11-14T09:09:21.400336700Z"
    }
   },
   "id": "b5c7aa133da43942"
  },
  {
   "cell_type": "code",
   "execution_count": null,
   "outputs": [],
   "source": [],
   "metadata": {
    "collapsed": false,
    "ExecuteTime": {
     "start_time": "2023-11-14T09:09:21.402337300Z"
    }
   },
   "id": "29e478b1a01e39d0"
  }
 ],
 "metadata": {
  "kernelspec": {
   "display_name": "Python 3 (ipykernel)",
   "language": "python",
   "name": "python3"
  },
  "language_info": {
   "codemirror_mode": {
    "name": "ipython",
    "version": 3
   },
   "file_extension": ".py",
   "mimetype": "text/x-python",
   "name": "python",
   "nbconvert_exporter": "python",
   "pygments_lexer": "ipython3",
   "version": "3.8.17"
  }
 },
 "nbformat": 4,
 "nbformat_minor": 5
}
