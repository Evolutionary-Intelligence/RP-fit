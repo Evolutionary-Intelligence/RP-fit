{
 "cells": [
  {
   "cell_type": "code",
   "execution_count": 1,
   "id": "6a97514a",
   "metadata": {
    "scrolled": true,
    "ExecuteTime": {
     "end_time": "2023-11-14T10:17:17.257262200Z",
     "start_time": "2023-11-14T10:17:17.246883800Z"
    }
   },
   "outputs": [],
   "source": [
    "import os\n",
    "\n",
    "import numpy as np\n",
    "import pandas as pd\n",
    "import seaborn as sns\n",
    "from matplotlib import pyplot as plt\n",
    "\n",
    "sns.set()"
   ]
  },
  {
   "cell_type": "markdown",
   "source": [
    "https://docs.scipy.org/doc/scipy/reference/generated/scipy.optimize.direct.html"
   ],
   "metadata": {
    "collapsed": false
   },
   "id": "27fb22a283c054f6"
  },
  {
   "cell_type": "code",
   "execution_count": 2,
   "id": "d6358028",
   "metadata": {
    "ExecuteTime": {
     "end_time": "2023-11-14T10:17:18.408967700Z",
     "start_time": "2023-11-14T10:17:18.312599Z"
    }
   },
   "outputs": [],
   "source": [
    "# project files\n",
    "os.environ.setdefault(\"RP_MODEL_FILE_PATH\", \"../files\")\n",
    "\n",
    "from rp_model.utils import pack, table, load, digest\n",
    "from rp_model.calc import FitOptions, RoundApprox, compute_rp, make_precomputed_columns, make_initial_guess"
   ]
  },
  {
   "cell_type": "code",
   "execution_count": null,
   "id": "b2b22bda",
   "metadata": {
    "ExecuteTime": {
     "end_time": "2023-11-14T10:16:06.542974500Z",
     "start_time": "2023-11-14T10:16:06.536454400Z"
    }
   },
   "outputs": [],
   "source": [
    "# stuff for display\n",
    "\n",
    "from IPython.core.interactiveshell import InteractiveShell\n",
    "\n",
    "InteractiveShell.ast_node_interactivity = \"all\"\n",
    "\n",
    "# progress bar\n",
    "\n",
    "pd.set_option('display.max_columns', 100)\n",
    "pd.set_option('display.max_rows', 120)"
   ]
  },
  {
   "cell_type": "code",
   "execution_count": null,
   "id": "079e9a71",
   "metadata": {
    "scrolled": true,
    "ExecuteTime": {
     "start_time": "2023-11-14T10:16:06.540954300Z"
    }
   },
   "outputs": [],
   "source": [
    "data = pd.read_pickle(FitOptions.data_file)\n",
    "data.describe()\n",
    "data.head()"
   ]
  },
  {
   "cell_type": "code",
   "execution_count": 5,
   "id": "7ef7081c",
   "metadata": {
    "scrolled": true,
    "ExecuteTime": {
     "end_time": "2023-11-14T08:16:55.232675600Z",
     "start_time": "2023-11-14T08:16:53.866046300Z"
    }
   },
   "outputs": [
    {
     "ename": "KeyError",
     "evalue": "'Sub Skill 3'",
     "output_type": "error",
     "traceback": [
      "\u001B[1;31m---------------------------------------------------------------------------\u001B[0m",
      "\u001B[1;31mKeyError\u001B[0m                                  Traceback (most recent call last)",
      "File \u001B[1;32m~\\Documents\\Projects\\PokemonSleep\\pokemon-sleep-rp\\venv\\Lib\\site-packages\\pandas\\core\\indexes\\base.py:3790\u001B[0m, in \u001B[0;36mIndex.get_loc\u001B[1;34m(self, key)\u001B[0m\n\u001B[0;32m   3789\u001B[0m \u001B[38;5;28;01mtry\u001B[39;00m:\n\u001B[1;32m-> 3790\u001B[0m     \u001B[38;5;28;01mreturn\u001B[39;00m \u001B[38;5;28;43mself\u001B[39;49m\u001B[38;5;241;43m.\u001B[39;49m\u001B[43m_engine\u001B[49m\u001B[38;5;241;43m.\u001B[39;49m\u001B[43mget_loc\u001B[49m\u001B[43m(\u001B[49m\u001B[43mcasted_key\u001B[49m\u001B[43m)\u001B[49m\n\u001B[0;32m   3791\u001B[0m \u001B[38;5;28;01mexcept\u001B[39;00m \u001B[38;5;167;01mKeyError\u001B[39;00m \u001B[38;5;28;01mas\u001B[39;00m err:\n",
      "File \u001B[1;32mindex.pyx:152\u001B[0m, in \u001B[0;36mpandas._libs.index.IndexEngine.get_loc\u001B[1;34m()\u001B[0m\n",
      "File \u001B[1;32mindex.pyx:181\u001B[0m, in \u001B[0;36mpandas._libs.index.IndexEngine.get_loc\u001B[1;34m()\u001B[0m\n",
      "File \u001B[1;32mpandas\\_libs\\hashtable_class_helper.pxi:7080\u001B[0m, in \u001B[0;36mpandas._libs.hashtable.PyObjectHashTable.get_item\u001B[1;34m()\u001B[0m\n",
      "File \u001B[1;32mpandas\\_libs\\hashtable_class_helper.pxi:7088\u001B[0m, in \u001B[0;36mpandas._libs.hashtable.PyObjectHashTable.get_item\u001B[1;34m()\u001B[0m\n",
      "\u001B[1;31mKeyError\u001B[0m: 'Sub Skill 3'",
      "\nThe above exception was the direct cause of the following exception:\n",
      "\u001B[1;31mKeyError\u001B[0m                                  Traceback (most recent call last)",
      "Cell \u001B[1;32mIn[5], line 6\u001B[0m\n\u001B[0;32m      1\u001B[0m \u001B[38;5;66;03m# Make an initial guess\u001B[39;00m\n\u001B[0;32m      2\u001B[0m \u001B[38;5;66;03m# Pack the dictionary into a 1-D vector.\u001B[39;00m\n\u001B[0;32m      3\u001B[0m \u001B[38;5;66;03m# Also store information on how to unpack that vector\u001B[39;00m\n\u001B[0;32m      5\u001B[0m x0, unpack_info \u001B[38;5;241m=\u001B[39m pack(\u001B[38;5;241m*\u001B[39mmake_initial_guess())\n\u001B[1;32m----> 6\u001B[0m computed \u001B[38;5;241m=\u001B[39m \u001B[43mmake_precomputed_columns\u001B[49m\u001B[43m(\u001B[49m\u001B[43mdata\u001B[49m\u001B[43m)\u001B[49m\n",
      "File \u001B[1;32m~\\Documents\\Projects\\PokemonSleep\\pokemon-sleep-rp\\rp_model\\calc\\rp.py:217\u001B[0m, in \u001B[0;36mmake_precomputed_columns\u001B[1;34m(data)\u001B[0m\n\u001B[0;32m    213\u001B[0m subskills \u001B[38;5;241m=\u001B[39m game\u001B[38;5;241m.\u001B[39mdata\u001B[38;5;241m.\u001B[39msubskills\n\u001B[0;32m    214\u001B[0m subs \u001B[38;5;241m=\u001B[39m subskills[\u001B[38;5;124m\"\u001B[39m\u001B[38;5;124mSubskill\u001B[39m\u001B[38;5;124m\"\u001B[39m]\u001B[38;5;241m.\u001B[39munique()\n\u001B[0;32m    216\u001B[0m computed\u001B[38;5;241m.\u001B[39mhas_subskill \u001B[38;5;241m=\u001B[39m \\\n\u001B[1;32m--> 217\u001B[0m     \u001B[38;5;28mdict\u001B[39m(\u001B[43m[\u001B[49m\u001B[43m(\u001B[49m\u001B[43ms\u001B[49m\u001B[43m,\u001B[49m\u001B[43m \u001B[49m\u001B[43m(\u001B[49m\n\u001B[0;32m    218\u001B[0m \u001B[43m            \u001B[49m\u001B[43m(\u001B[49m\u001B[43m(\u001B[49m\u001B[43mdata\u001B[49m\u001B[43m[\u001B[49m\u001B[38;5;124;43m\"\u001B[39;49m\u001B[38;5;124;43mSub Skill 1\u001B[39;49m\u001B[38;5;124;43m\"\u001B[39;49m\u001B[43m]\u001B[49m\u001B[38;5;241;43m.\u001B[39;49m\u001B[43mstr\u001B[49m\u001B[38;5;241;43m.\u001B[39;49m\u001B[43mlower\u001B[49m\u001B[43m(\u001B[49m\u001B[43m)\u001B[49m\u001B[43m \u001B[49m\u001B[38;5;241;43m==\u001B[39;49m\u001B[43m \u001B[49m\u001B[43ms\u001B[49m\u001B[38;5;241;43m.\u001B[39;49m\u001B[43mlower\u001B[49m\u001B[43m(\u001B[49m\u001B[43m)\u001B[49m\u001B[43m)\u001B[49m\u001B[43m \u001B[49m\u001B[38;5;241;43m&\u001B[39;49m\u001B[43m \u001B[49m\u001B[43m(\u001B[49m\u001B[43mdata\u001B[49m\u001B[43m[\u001B[49m\u001B[38;5;124;43m\"\u001B[39;49m\u001B[38;5;124;43mLevel\u001B[39;49m\u001B[38;5;124;43m\"\u001B[39;49m\u001B[43m]\u001B[49m\u001B[43m \u001B[49m\u001B[38;5;241;43m>\u001B[39;49m\u001B[38;5;241;43m=\u001B[39;49m\u001B[43m \u001B[49m\u001B[38;5;241;43m10\u001B[39;49m\u001B[43m)\u001B[49m\u001B[43m)\u001B[49m\u001B[43m \u001B[49m\u001B[38;5;241;43m|\u001B[39;49m\n\u001B[0;32m    219\u001B[0m \u001B[43m            \u001B[49m\u001B[43m(\u001B[49m\u001B[43m(\u001B[49m\u001B[43mdata\u001B[49m\u001B[43m[\u001B[49m\u001B[38;5;124;43m\"\u001B[39;49m\u001B[38;5;124;43mSub Skill 2\u001B[39;49m\u001B[38;5;124;43m\"\u001B[39;49m\u001B[43m]\u001B[49m\u001B[38;5;241;43m.\u001B[39;49m\u001B[43mstr\u001B[49m\u001B[38;5;241;43m.\u001B[39;49m\u001B[43mlower\u001B[49m\u001B[43m(\u001B[49m\u001B[43m)\u001B[49m\u001B[43m \u001B[49m\u001B[38;5;241;43m==\u001B[39;49m\u001B[43m \u001B[49m\u001B[43ms\u001B[49m\u001B[38;5;241;43m.\u001B[39;49m\u001B[43mlower\u001B[49m\u001B[43m(\u001B[49m\u001B[43m)\u001B[49m\u001B[43m)\u001B[49m\u001B[43m \u001B[49m\u001B[38;5;241;43m&\u001B[39;49m\u001B[43m \u001B[49m\u001B[43m(\u001B[49m\u001B[43mdata\u001B[49m\u001B[43m[\u001B[49m\u001B[38;5;124;43m\"\u001B[39;49m\u001B[38;5;124;43mLevel\u001B[39;49m\u001B[38;5;124;43m\"\u001B[39;49m\u001B[43m]\u001B[49m\u001B[43m \u001B[49m\u001B[38;5;241;43m>\u001B[39;49m\u001B[38;5;241;43m=\u001B[39;49m\u001B[43m \u001B[49m\u001B[38;5;241;43m25\u001B[39;49m\u001B[43m)\u001B[49m\u001B[43m)\u001B[49m\u001B[43m \u001B[49m\u001B[38;5;241;43m|\u001B[39;49m\n\u001B[0;32m    220\u001B[0m \u001B[43m            \u001B[49m\u001B[43m(\u001B[49m\u001B[43m(\u001B[49m\u001B[43mdata\u001B[49m\u001B[43m[\u001B[49m\u001B[38;5;124;43m\"\u001B[39;49m\u001B[38;5;124;43mSub Skill 3\u001B[39;49m\u001B[38;5;124;43m\"\u001B[39;49m\u001B[43m]\u001B[49m\u001B[38;5;241;43m.\u001B[39;49m\u001B[43mstr\u001B[49m\u001B[38;5;241;43m.\u001B[39;49m\u001B[43mlower\u001B[49m\u001B[43m(\u001B[49m\u001B[43m)\u001B[49m\u001B[43m \u001B[49m\u001B[38;5;241;43m==\u001B[39;49m\u001B[43m \u001B[49m\u001B[43ms\u001B[49m\u001B[38;5;241;43m.\u001B[39;49m\u001B[43mlower\u001B[49m\u001B[43m(\u001B[49m\u001B[43m)\u001B[49m\u001B[43m)\u001B[49m\u001B[43m \u001B[49m\u001B[38;5;241;43m&\u001B[39;49m\u001B[43m \u001B[49m\u001B[43m(\u001B[49m\u001B[43mdata\u001B[49m\u001B[43m[\u001B[49m\u001B[38;5;124;43m\"\u001B[39;49m\u001B[38;5;124;43mLevel\u001B[39;49m\u001B[38;5;124;43m\"\u001B[39;49m\u001B[43m]\u001B[49m\u001B[43m \u001B[49m\u001B[38;5;241;43m>\u001B[39;49m\u001B[38;5;241;43m=\u001B[39;49m\u001B[43m \u001B[49m\u001B[38;5;241;43m50\u001B[39;49m\u001B[43m)\u001B[49m\u001B[43m)\u001B[49m\n\u001B[0;32m    221\u001B[0m \u001B[43m    \u001B[49m\u001B[43m)\u001B[49m\u001B[38;5;241;43m.\u001B[39;49m\u001B[43mastype\u001B[49m\u001B[43m(\u001B[49m\u001B[38;5;28;43mint\u001B[39;49m\u001B[43m)\u001B[49m\u001B[38;5;241;43m.\u001B[39;49m\u001B[43mto_numpy\u001B[49m\u001B[43m(\u001B[49m\u001B[43m)\u001B[49m\u001B[43m)\u001B[49m\u001B[43m \u001B[49m\u001B[38;5;28;43;01mfor\u001B[39;49;00m\u001B[43m \u001B[49m\u001B[43ms\u001B[49m\u001B[43m \u001B[49m\u001B[38;5;129;43;01min\u001B[39;49;00m\u001B[43m \u001B[49m\u001B[43msubs\u001B[49m\u001B[43m]\u001B[49m)\n\u001B[0;32m    223\u001B[0m \u001B[38;5;66;03m# Food\u001B[39;00m\n\u001B[0;32m    224\u001B[0m \u001B[38;5;66;03m# We could redo that work, but it's not related to the optimization\u001B[39;00m\n\u001B[0;32m    225\u001B[0m computed\u001B[38;5;241m.\u001B[39ming1_power_base \u001B[38;5;241m=\u001B[39m data[\u001B[38;5;124m\"\u001B[39m\u001B[38;5;124mIng1P\u001B[39m\u001B[38;5;124m\"\u001B[39m]\u001B[38;5;241m.\u001B[39mto_numpy()\n",
      "File \u001B[1;32m~\\Documents\\Projects\\PokemonSleep\\pokemon-sleep-rp\\rp_model\\calc\\rp.py:220\u001B[0m, in \u001B[0;36m<listcomp>\u001B[1;34m(.0)\u001B[0m\n\u001B[0;32m    213\u001B[0m subskills \u001B[38;5;241m=\u001B[39m game\u001B[38;5;241m.\u001B[39mdata\u001B[38;5;241m.\u001B[39msubskills\n\u001B[0;32m    214\u001B[0m subs \u001B[38;5;241m=\u001B[39m subskills[\u001B[38;5;124m\"\u001B[39m\u001B[38;5;124mSubskill\u001B[39m\u001B[38;5;124m\"\u001B[39m]\u001B[38;5;241m.\u001B[39munique()\n\u001B[0;32m    216\u001B[0m computed\u001B[38;5;241m.\u001B[39mhas_subskill \u001B[38;5;241m=\u001B[39m \\\n\u001B[0;32m    217\u001B[0m     \u001B[38;5;28mdict\u001B[39m([(s, (\n\u001B[0;32m    218\u001B[0m             ((data[\u001B[38;5;124m\"\u001B[39m\u001B[38;5;124mSub Skill 1\u001B[39m\u001B[38;5;124m\"\u001B[39m]\u001B[38;5;241m.\u001B[39mstr\u001B[38;5;241m.\u001B[39mlower() \u001B[38;5;241m==\u001B[39m s\u001B[38;5;241m.\u001B[39mlower()) \u001B[38;5;241m&\u001B[39m (data[\u001B[38;5;124m\"\u001B[39m\u001B[38;5;124mLevel\u001B[39m\u001B[38;5;124m\"\u001B[39m] \u001B[38;5;241m>\u001B[39m\u001B[38;5;241m=\u001B[39m \u001B[38;5;241m10\u001B[39m)) \u001B[38;5;241m|\u001B[39m\n\u001B[0;32m    219\u001B[0m             ((data[\u001B[38;5;124m\"\u001B[39m\u001B[38;5;124mSub Skill 2\u001B[39m\u001B[38;5;124m\"\u001B[39m]\u001B[38;5;241m.\u001B[39mstr\u001B[38;5;241m.\u001B[39mlower() \u001B[38;5;241m==\u001B[39m s\u001B[38;5;241m.\u001B[39mlower()) \u001B[38;5;241m&\u001B[39m (data[\u001B[38;5;124m\"\u001B[39m\u001B[38;5;124mLevel\u001B[39m\u001B[38;5;124m\"\u001B[39m] \u001B[38;5;241m>\u001B[39m\u001B[38;5;241m=\u001B[39m \u001B[38;5;241m25\u001B[39m)) \u001B[38;5;241m|\u001B[39m\n\u001B[1;32m--> 220\u001B[0m             ((\u001B[43mdata\u001B[49m\u001B[43m[\u001B[49m\u001B[38;5;124;43m\"\u001B[39;49m\u001B[38;5;124;43mSub Skill 3\u001B[39;49m\u001B[38;5;124;43m\"\u001B[39;49m\u001B[43m]\u001B[49m\u001B[38;5;241m.\u001B[39mstr\u001B[38;5;241m.\u001B[39mlower() \u001B[38;5;241m==\u001B[39m s\u001B[38;5;241m.\u001B[39mlower()) \u001B[38;5;241m&\u001B[39m (data[\u001B[38;5;124m\"\u001B[39m\u001B[38;5;124mLevel\u001B[39m\u001B[38;5;124m\"\u001B[39m] \u001B[38;5;241m>\u001B[39m\u001B[38;5;241m=\u001B[39m \u001B[38;5;241m50\u001B[39m))\n\u001B[0;32m    221\u001B[0m     )\u001B[38;5;241m.\u001B[39mastype(\u001B[38;5;28mint\u001B[39m)\u001B[38;5;241m.\u001B[39mto_numpy()) \u001B[38;5;28;01mfor\u001B[39;00m s \u001B[38;5;129;01min\u001B[39;00m subs])\n\u001B[0;32m    223\u001B[0m \u001B[38;5;66;03m# Food\u001B[39;00m\n\u001B[0;32m    224\u001B[0m \u001B[38;5;66;03m# We could redo that work, but it's not related to the optimization\u001B[39;00m\n\u001B[0;32m    225\u001B[0m computed\u001B[38;5;241m.\u001B[39ming1_power_base \u001B[38;5;241m=\u001B[39m data[\u001B[38;5;124m\"\u001B[39m\u001B[38;5;124mIng1P\u001B[39m\u001B[38;5;124m\"\u001B[39m]\u001B[38;5;241m.\u001B[39mto_numpy()\n",
      "File \u001B[1;32m~\\Documents\\Projects\\PokemonSleep\\pokemon-sleep-rp\\venv\\Lib\\site-packages\\pandas\\core\\frame.py:3893\u001B[0m, in \u001B[0;36mDataFrame.__getitem__\u001B[1;34m(self, key)\u001B[0m\n\u001B[0;32m   3891\u001B[0m \u001B[38;5;28;01mif\u001B[39;00m \u001B[38;5;28mself\u001B[39m\u001B[38;5;241m.\u001B[39mcolumns\u001B[38;5;241m.\u001B[39mnlevels \u001B[38;5;241m>\u001B[39m \u001B[38;5;241m1\u001B[39m:\n\u001B[0;32m   3892\u001B[0m     \u001B[38;5;28;01mreturn\u001B[39;00m \u001B[38;5;28mself\u001B[39m\u001B[38;5;241m.\u001B[39m_getitem_multilevel(key)\n\u001B[1;32m-> 3893\u001B[0m indexer \u001B[38;5;241m=\u001B[39m \u001B[38;5;28;43mself\u001B[39;49m\u001B[38;5;241;43m.\u001B[39;49m\u001B[43mcolumns\u001B[49m\u001B[38;5;241;43m.\u001B[39;49m\u001B[43mget_loc\u001B[49m\u001B[43m(\u001B[49m\u001B[43mkey\u001B[49m\u001B[43m)\u001B[49m\n\u001B[0;32m   3894\u001B[0m \u001B[38;5;28;01mif\u001B[39;00m is_integer(indexer):\n\u001B[0;32m   3895\u001B[0m     indexer \u001B[38;5;241m=\u001B[39m [indexer]\n",
      "File \u001B[1;32m~\\Documents\\Projects\\PokemonSleep\\pokemon-sleep-rp\\venv\\Lib\\site-packages\\pandas\\core\\indexes\\base.py:3797\u001B[0m, in \u001B[0;36mIndex.get_loc\u001B[1;34m(self, key)\u001B[0m\n\u001B[0;32m   3792\u001B[0m     \u001B[38;5;28;01mif\u001B[39;00m \u001B[38;5;28misinstance\u001B[39m(casted_key, \u001B[38;5;28mslice\u001B[39m) \u001B[38;5;129;01mor\u001B[39;00m (\n\u001B[0;32m   3793\u001B[0m         \u001B[38;5;28misinstance\u001B[39m(casted_key, abc\u001B[38;5;241m.\u001B[39mIterable)\n\u001B[0;32m   3794\u001B[0m         \u001B[38;5;129;01mand\u001B[39;00m \u001B[38;5;28many\u001B[39m(\u001B[38;5;28misinstance\u001B[39m(x, \u001B[38;5;28mslice\u001B[39m) \u001B[38;5;28;01mfor\u001B[39;00m x \u001B[38;5;129;01min\u001B[39;00m casted_key)\n\u001B[0;32m   3795\u001B[0m     ):\n\u001B[0;32m   3796\u001B[0m         \u001B[38;5;28;01mraise\u001B[39;00m InvalidIndexError(key)\n\u001B[1;32m-> 3797\u001B[0m     \u001B[38;5;28;01mraise\u001B[39;00m \u001B[38;5;167;01mKeyError\u001B[39;00m(key) \u001B[38;5;28;01mfrom\u001B[39;00m \u001B[38;5;21;01merr\u001B[39;00m\n\u001B[0;32m   3798\u001B[0m \u001B[38;5;28;01mexcept\u001B[39;00m \u001B[38;5;167;01mTypeError\u001B[39;00m:\n\u001B[0;32m   3799\u001B[0m     \u001B[38;5;66;03m# If we have a listlike key, _check_indexing_error will raise\u001B[39;00m\n\u001B[0;32m   3800\u001B[0m     \u001B[38;5;66;03m#  InvalidIndexError. Otherwise we fall through and re-raise\u001B[39;00m\n\u001B[0;32m   3801\u001B[0m     \u001B[38;5;66;03m#  the TypeError.\u001B[39;00m\n\u001B[0;32m   3802\u001B[0m     \u001B[38;5;28mself\u001B[39m\u001B[38;5;241m.\u001B[39m_check_indexing_error(key)\n",
      "\u001B[1;31mKeyError\u001B[0m: 'Sub Skill 3'"
     ]
    }
   ],
   "source": [
    "# Make an initial guess\n",
    "# Pack the dictionary into a 1-D vector.\n",
    "# Also store information on how to unpack that vector\n",
    "\n",
    "x0, unpack_info = pack(*make_initial_guess())\n",
    "computed = make_precomputed_columns(data)"
   ]
  },
  {
   "cell_type": "code",
   "execution_count": null,
   "id": "2d6739e0",
   "metadata": {
    "scrolled": true,
    "ExecuteTime": {
     "start_time": "2023-11-14T08:16:55.236180500Z"
    }
   },
   "outputs": [],
   "source": [
    "# We compute the RP model in rp_model.py\n",
    "# Here we create closure to glue the pieces together.\n",
    "\n",
    "def RP(x):\n",
    "    return compute_rp(x, data, computed, unpack_info)\n",
    "\n",
    "\n",
    "# for the error analysis page,\n",
    "# we'll compute the residual with exact rounding.\n",
    "\n",
    "def residual(x):\n",
    "    return data[\"RP\"] - np.round(RP(x))\n"
   ]
  },
  {
   "cell_type": "code",
   "execution_count": null,
   "outputs": [],
   "source": [
    "filename = FitOptions.get_result_file(digest(data, x0))\n",
    "opt = load(filename)\n",
    "opt"
   ],
   "metadata": {
    "collapsed": false,
    "ExecuteTime": {
     "end_time": "2023-11-14T08:16:55.257235Z",
     "start_time": "2023-11-14T08:16:55.239194Z"
    }
   },
   "id": "b34453eb67afda47"
  },
  {
   "cell_type": "code",
   "execution_count": null,
   "outputs": [],
   "source": [
    "FitOptions.rounding.rp = RoundApprox.Exact\n",
    "FitOptions.rounding.bonus = RoundApprox.Exact\n",
    "#FitOptions.soft_round.alpha = 18\n",
    "\n",
    "optx = opt.x\n",
    "choice_list = [0.5 * optx, 1.5 * optx]\n",
    "bounds_low = np.select([optx >= 0, optx < 0], choice_list)\n",
    "bounds_high = np.select([optx < 0, optx >= 0], choice_list)\n",
    "\n",
    "result = solve(residual, optx, bounds=(bounds_low, bounds_high), scaling_within_bounds=True, print_progress=True,\n",
    "    maxfun=2000)"
   ],
   "metadata": {
    "collapsed": false,
    "ExecuteTime": {
     "start_time": "2023-11-14T08:16:55.241193100Z"
    }
   },
   "id": "4e68ab4d420f241e"
  },
  {
   "cell_type": "code",
   "execution_count": null,
   "outputs": [],
   "source": [
    "table(result)"
   ],
   "metadata": {
    "collapsed": false,
    "ExecuteTime": {
     "start_time": "2023-11-14T08:16:55.245194200Z"
    }
   },
   "id": "fc76cf3c9121b424"
  },
  {
   "cell_type": "code",
   "execution_count": null,
   "outputs": [],
   "source": [
    "r_opt = data[\"RP\"] - np.round(RP(result.x))\n",
    "pd.Series(r_opt).describe()\n",
    "\n",
    "_ = plt.figure()\n",
    "g = sns.histplot(x=np.clip(np.abs(r_opt), 1e-1, 1e3), log_scale=True, bins=20)\n",
    "g.axes.set_yscale('log')\n",
    "_ = g.bar_label(g.containers[1], labels=[str(v) if v else '' for v in g.containers[1].datavalues])\n",
    "\n",
    "_ = plt.figure()\n",
    "g = sns.histplot(x=r_opt, discrete=1)\n",
    "_ = g.axes.set_yscale('log')\n",
    "_ = g.bar_label(g.containers[1], labels=[str(v) if v else '' for v in g.containers[1].datavalues])"
   ],
   "metadata": {
    "collapsed": false,
    "ExecuteTime": {
     "start_time": "2023-11-14T08:16:55.246717400Z"
    }
   },
   "id": "b0df811be7d9be02"
  },
  {
   "cell_type": "code",
   "execution_count": null,
   "outputs": [],
   "source": [],
   "metadata": {
    "collapsed": false,
    "ExecuteTime": {
     "start_time": "2023-11-14T08:16:55.248723Z"
    }
   },
   "id": "1399ce723ff0adb"
  }
 ],
 "metadata": {
  "kernelspec": {
   "display_name": "Python 3 (ipykernel)",
   "language": "python",
   "name": "python3"
  },
  "language_info": {
   "codemirror_mode": {
    "name": "ipython",
    "version": 3
   },
   "file_extension": ".py",
   "mimetype": "text/x-python",
   "name": "python",
   "nbconvert_exporter": "python",
   "pygments_lexer": "ipython3",
   "version": "3.8.17"
  }
 },
 "nbformat": 4,
 "nbformat_minor": 5
}
