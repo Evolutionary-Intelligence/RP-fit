{
 "cells": [
  {
   "cell_type": "code",
   "execution_count": 1,
   "id": "dea901dd",
   "metadata": {
    "ExecuteTime": {
     "end_time": "2023-10-07T21:14:59.029684400Z",
     "start_time": "2023-10-07T21:14:59.016660100Z"
    }
   },
   "outputs": [],
   "source": [
    "import pandas as pd\n",
    "from io import StringIO\n",
    "\n",
    "from game_model import game"
   ]
  },
  {
   "cell_type": "code",
   "execution_count": 2,
   "id": "a93bd657",
   "metadata": {
    "ExecuteTime": {
     "end_time": "2023-10-07T21:14:59.061791100Z",
     "start_time": "2023-10-07T21:14:59.038683100Z"
    }
   },
   "outputs": [],
   "source": [
    "datastr = StringIO(\"\"\"\n",
    "Pokemon\tFrequency\tType\tSleep\tClass\tSkill\tInv\tBerry\tBerry Power\tIng1\tIng 1 Power\tIng2 option 1\tamnt\tIng2 option 2\tamnt\tLast fit ing\tLast fit skl\n",
    "Bulbasaur\t4400\tGrass\tDozing\tIngredients\tIngredient Magnet S\t11\tDurin Berry\t30\tHoney\t101\tHoney\t5\tSnoozy Tomato\t4\t0.2563\t16.71\n",
    "Ivysaur\t3300\tGrass\tDozing\tIngredients\tIngredient Magnet S\t14\tDurin Berry\t30\tHoney\t101\tHoney\t5\tSnoozy Tomato\t4\t0.2544\t16.71\n",
    "Venusaur\t2800\tGrass\tDozing\tIngredients\tIngredient Magnet S\t17\tDurin Berry\t30\tHoney\t101\tHoney\t5\tSnoozy Tomato\t4\t0.2656\t18.48\n",
    "Charmander\t3500\tFire\tSnoozing\tIngredients\tIngredient Magnet S\t12\tLeppa Berry\t27\tBean Sausage\t103\tBean Sausage\t5\tWarming Ginger\t4\t0.2004\t9.67\n",
    "Charmeleon\t3000\tFire\tSnoozing\tIngredients\tIngredient Magnet S\t15\tLeppa Berry\t27\tBean Sausage\t103\tBean Sausage\t5\tWarming Ginger\t4\t0.2267\t14.05\n",
    "Charizard\t2400\tFire\tSnoozing\tIngredients\tIngredient Magnet S\t19\tLeppa Berry\t27\tBean Sausage\t103\tBean Sausage\t5\tWarming Ginger\t4\t0.2234\t14.13\n",
    "Squirtle\t4500\tWater\tSlumbering\tIngredients\tIngredient Magnet S\t10\tOran Berry\t31\tMoomoo Milk\t98\tMoomoo Milk\t5\tSoothing Cacao\t3\t0.2702\t17.60\n",
    "Wartortle\t3400\tWater\tSlumbering\tIngredients\tIngredient Magnet S\t14\tOran Berry\t31\tMoomoo Milk\t98\tMoomoo Milk\t5\tSoothing Cacao\t3\t0.2704\t17.59\n",
    "Blastoise\t2800\tWater\tSlumbering\tIngredients\tIngredient Magnet S\t17\tOran Berry\t31\tMoomoo Milk\t98\tMoomoo Milk\t5\tSoothing Cacao\t3\t0.2743\t18.46\n",
    "Caterpie\t4400\tBug\tDozing\tBerries\tIngredient Magnet S\t11\tLum Berry\t24\tHoney\t101\tHoney\t2\tSnoozy Tomato\t2\t0.1789\t7.00\n",
    "Metapod\t4200\tBug\tDozing\tBerries\tIngredient Magnet S\t13\tLum Berry\t24\tHoney\t101\tHoney\t2\tSnoozy Tomato\t2\t0.2077\t15.81\n",
    "Butterfree\t2600\tBug\tDozing\tBerries\tIngredient Magnet S\t21\tLum Berry\t24\tHoney\t101\tHoney\t2\tSnoozy Tomato\t2\t0.1971\t12.31\n",
    "Rattata\t4900\tNormal\tSnoozing\tBerries\tCharge Energy S\t10\tPersim Berry\t28\tFancy Apple\t90\tFancy Apple\t2\tGreengrass Soybeans\t2\t0.2363\t11.96\n",
    "Raticate\t3200\tNormal\tSnoozing\tBerries\tCharge Energy S\t16\tPersim Berry\t28\tFancy Apple\t90\tFancy Apple\t2\tGreengrass Soybeans\t2\t0.2364\t11.96\n",
    "Ekans\t5000\tPoison\tDozing\tBerries\tCharge Energy S\t10\tChesto Berry\t32\tBean Sausage\t103\tBean Sausage\t2\tFancy Egg\t2\t0.2343\t13.16\n",
    "Arbok\t3700\tPoison\tDozing\tBerries\tCharge Energy S\t14\tChesto Berry\t32\tBean Sausage\t103\tBean Sausage\t2\tFancy Egg\t2\t0.2631\t22.75\n",
    "Pikachu\t2700\tElectric\tSnoozing\tBerries\tCharge Strength S\t17\tGrepa Berry\t25\tFancy Apple\t90\tFancy Apple\t2\tWarming Ginger\t2\t0.2067\t8.37\n",
    "Raichu\t2200\tElectric\tSnoozing\tBerries\tCharge Strength S\t21\tGrepa Berry\t25\tFancy Apple\t90\tFancy Apple\t2\tWarming Ginger\t2\t0.2239\t12.77\n",
    "Clefairy\t4000\tFairy\tSnoozing\tBerries\tMetronome\t16\tPecha Berry\t26\tFancy Apple\t90\tFancy Apple\t2\tHoney\t2\t0.1680\t31.63\n",
    "Clefable\t2800\tFairy\tSnoozing\tBerries\tMetronome\t24\tPecha Berry\t26\tFancy Apple\t90\tFancy Apple\t2\tHoney\t2\t0.1678\t31.64\n",
    "Jigglypuff\t3900\tFairy\tSnoozing\tSkills\tEnergy for Everyone S\t9\tPecha Berry\t26\tHoney\t101\tHoney\t2\tPure Oil\t2\t0.1829\t48.06\n",
    "Wigglytuff\t2900\tFairy\tSnoozing\tSkills\tEnergy for Everyone S\t13\tPecha Berry\t26\tHoney\t101\tHoney\t2\tPure Oil\t2\t0.1745\t44.69\n",
    "Diglett\t4300\tGround\tSnoozing\tIngredients\tCharge Strength S\t10\tFigy Berry\t29\tSnoozy Tomato\t110\tSnoozy Tomato\t5\tLarge Leek\t3\t0.1916\t8.39\n",
    "Dugtrio\t2800\tGround\tSnoozing\tIngredients\tCharge Strength S\t16\tFigy Berry\t29\tSnoozy Tomato\t110\tSnoozy Tomato\t5\tLarge Leek\t3\t0.1895\t8.00\n",
    "Meowth\t4400\tNormal\tSnoozing\tSkills\tDream Shard Magnet S\t9\tPersim Berry\t28\tMoomoo Milk\t98\tMoomoo Milk\t2\tBean Sausage\t2\t0.1629\t36.91\n",
    "Persian\t3000\tNormal\tSnoozing\tSkills\tDream Shard Magnet S\t12\tPersim Berry\t28\tMoomoo Milk\t98\tMoomoo Milk\t2\tBean Sausage\t2\t0.1685\t38.69\n",
    "Psyduck\t5400\tWater\tDozing\tSkills\tCharge Strength S\t8\tOran Berry\t31\tSoothing Cacao\t151\tSoothing Cacao\t2\tFancy Apple\t4\t0.1359\t50.38\n",
    "Golduck\t3400\tWater\tSlumbering\tSkills\tCharge Strength S\t11\tOran Berry\t31\tSoothing Cacao\t151\tSoothing Cacao\t2\tFancy Apple\t4\t0.1337\t50.06\n",
    "Mankey\t4200\tFighting\tDozing\tBerries\tCharge Strength S\t12\tCheri Berry\t27\tBean Sausage\t103\tBean Sausage\t2\tTasty Mushroom\t1\t0.1965\t8.77\n",
    "Primeape\t2800\tFighting\tDozing\tBerries\tCharge Strength S\t17\tCheri Berry\t27\tBean Sausage\t103\tBean Sausage\t2\tTasty Mushroom\t1\t0.1996\t9.57\n",
    "Growlithe\t4300\tFire\tSnoozing\tSkills\tExtra Helpful S\t8\tLeppa Berry\t27\tFiery Herb\t130\tFiery Herb\t2\tBean Sausage\t3\t0.1378\t43.98\n",
    "Arcanine\t2500\tFire\tSnoozing\tSkills\tExtra Helpful S\t16\tLeppa Berry\t27\tFiery Herb\t130\tFiery Herb\t2\tBean Sausage\t3\t0.1358\t43.08\n",
    "Bellsprout\t5200\tGrass\tDozing\tIngredients\tCharge Energy S\t8\tDurin Berry\t30\tSnoozy Tomato\t110\tSnoozy Tomato\t5\tSoft Potato\t4\t0.2319\t15.68\n",
    "Weepinbell\t3800\tGrass\tDozing\tIngredients\tCharge Energy S\t12\tDurin Berry\t30\tSnoozy Tomato\t110\tSnoozy Tomato\t5\tSoft Potato\t4\t0.2348\t15.93\n",
    "Victreebel\t2800\tGrass\tDozing\tIngredients\tCharge Energy S\t17\tDurin Berry\t30\tSnoozy Tomato\t110\tSnoozy Tomato\t5\tSoft Potato\t4\t0.2328\t15.55\n",
    "Geodude\t5700\tRock\tSlumbering\tIngredients\tCharge Strength S\t9\tSitrus Berry\t30\tGreengrass Soybeans\t100\tGreengrass Soybeans\t5\tSoft Potato\t4\t0.2806\t20.74\n",
    "Graveler\t4000\tRock\tSlumbering\tIngredients\tCharge Strength S\t12\tSitrus Berry\t30\tGreengrass Soybeans\t100\tGreengrass Soybeans\t5\tSoft Potato\t4\t0.2711\t19.23\n",
    "Golem\t3100\tRock\tSlumbering\tIngredients\tCharge Strength S\t16\tSitrus Berry\t30\tGreengrass Soybeans\t100\tGreengrass Soybeans\t5\tSoft Potato\t4\t0.2798\t20.73\n",
    "Slowpoke\t5700\tWater\tSnoozing\tSkills\tEnergizing Cheer S\t9\tOran Berry\t31\tSoothing Cacao\t151\tSoothing Cacao\t2\tSlowpoke Tail\t1\t0.1504\t58.96\n",
    "Slowbro\t3800\tWater\tSnoozing\tSkills\tEnergizing Cheer S\t10\tOran Berry\t31\tSoothing Cacao\t151\tSoothing Cacao\t2\tSlowpoke Tail\t1\t0.1507\t59.83\n",
    "Magnemite\t5800\tSteel\tSlumbering\tSkills\tCooking Power-Up S\t8\tBelue Berry\t33\tPure Oil\t121\tPure Oil\t2\tFiery Herb\t2\t0.1819\t56.27\n",
    "Magneton\t4000\tSteel\tSlumbering\tSkills\tCooking Power-Up S\t11\tBelue Berry\t33\tPure Oil\t121\tPure Oil\t2\tFiery Herb\t2\t0.1819\t55.39\n",
    "Doduo\t3800\tFlying\tSlumbering\tBerries\tCharge Energy S\t13\tPamtre Berry\t24\tGreengrass Soybeans\t100\tGreengrass Soybeans\t2\tSoothing Cacao\t1\t0.1831\t7.99\n",
    "Dodrio\t2400\tFlying\tSlumbering\tBerries\tCharge Energy S\t21\tPamtre Berry\t24\tGreengrass Soybeans\t100\tGreengrass Soybeans\t2\tSoothing Cacao\t1\t0.1838\t7.97\n",
    "Gastly\t3800\tGhost\tDozing\tIngredients\tCharge Strength S\t10\tBluk Berry\t26\tFiery Herb\t130\tFiery Herb\t5\tTasty Mushroom\t4\t0.1439\t5.94\n",
    "Haunter\t3000\tGhost\tDozing\tIngredients\tCharge Strength S\t14\tBluk Berry\t26\tFiery Herb\t130\tFiery Herb\t5\tTasty Mushroom\t4\t0.1569\t8.76\n",
    "Gengar\t2200\tGhost\tDozing\tIngredients\tCharge Strength S\t18\tBluk Berry\t26\tFiery Herb\t130\tFiery Herb\t5\tTasty Mushroom\t4\t0.1609\t9.57\n",
    "Cubone\t4800\tGround\tSlumbering\tBerries\tCharge Energy S\t10\tFigy Berry\t29\tWarming Ginger\t109\tWarming Ginger\t2\tSoothing Cacao\t2\t0.2215\t17.59\n",
    "Marowak\t3500\tGround\tSlumbering\tBerries\tCharge Energy S\t15\tFigy Berry\t29\tWarming Ginger\t109\tWarming Ginger\t2\tSoothing Cacao\t2\t0.2250\t17.95\n",
    "Kangaskhan\t2800\tNormal\tSnoozing\tIngredients\tIngredient Magnet S\t16\tPersim Berry\t28\tWarming Ginger\t109\tWarming Ginger\t5\tSoft Potato\t4\t0.2216\t14.92\n",
    "Pinsir\t2400\tBug\tDozing\tIngredients\tCharge Strength S\t19\tLum Berry\t24\tHoney\t101\tHoney\t5\tFancy Apple\t5\t0.2055\t12.39\n",
    "Ditto\t3500\tNormal\tSnoozing\tIngredients\tCharge Strength S\t13\tPersim Berry\t28\tPure Oil\t121\tPure Oil\t5\tLarge Leek\t3\t0.2007\t14.37\n",
    "Eevee\t3700\tNormal\tSnoozing\tSkills\tIngredient Magnet S\t12\tPersim Berry\t28\tMoomoo Milk\t98\tMoomoo Milk\t2\tSoothing Cacao\t1\t0.1919\t48.36\n",
    "Vaporeon\t3100\tWater\tSlumbering\tSkills\tIngredient Magnet S\t13\tOran Berry\t31\tMoomoo Milk\t98\tMoomoo Milk\t2\tSoothing Cacao\t1\t0.2119\t53.63\n",
    "Jolteon\t2200\tElectric\tSnoozing\tSkills\tExtra Helpful S\t17\tGrepa Berry\t25\tMoomoo Milk\t98\tMoomoo Milk\t2\tSoothing Cacao\t1\t0.1505\t34.31\n",
    "Flareon\t2700\tFire\tSnoozing\tSkills\tCooking Power-Up S\t14\tLeppa Berry\t27\tMoomoo Milk\t98\tMoomoo Milk\t2\tSoothing Cacao\t1\t0.1871\t45.67\n",
    "Chikorita\t4400\tGrass\tDozing\tBerries\tCharge Strength S\t12\tDurin Berry\t30\tSoothing Cacao\t151\tSoothing Cacao\t2\tHoney\t3\t0.1687\t15.56\n",
    "Bayleef\t3300\tGrass\tDozing\tBerries\tCharge Strength S\t17\tDurin Berry\t30\tSoothing Cacao\t151\tSoothing Cacao\t2\tHoney\t3\t0.1683\t15.14\n",
    "Meganium\t2800\tGrass\tDozing\tBerries\tCharge Strength S\t22\tDurin Berry\t30\tSoothing Cacao\t151\tSoothing Cacao\t2\tHoney\t3\t0.1747\t18.37\n",
    "Cyndaquil\t3500\tFire\tSnoozing\tBerries\tCharge Strength S\t14\tLeppa Berry\t27\tWarming Ginger\t109\tWarming Ginger\t2\tFiery Herb\t2\t0.1856\t8.37\n",
    "Quilava\t3000\tFire\tSnoozing\tBerries\tCharge Strength S\t18\tLeppa Berry\t27\tWarming Ginger\t109\tWarming Ginger\t2\tFiery Herb\t2\t0.2110\t16.36\n",
    "Typhlosion\t2400\tFire\tSnoozing\tBerries\tCharge Strength S\t23\tLeppa Berry\t27\tWarming Ginger\t109\tWarming Ginger\t2\tFiery Herb\t2\t0.2016\t15.66\n",
    "Totodile\t4500\tWater\tSlumbering\tBerries\tCharge Strength S\t11\tOran Berry\t31\tBean Sausage\t103\tBean Sausage\t2\tPure Oil\t2\t0.2522\t20.76\n",
    "Croconaw\t3400\tWater\tSlumbering\tBerries\tCharge Strength S\t15\tOran Berry\t31\tBean Sausage\t103\tBean Sausage\t2\tPure Oil\t2\t0.2528\t20.76\n",
    "Feraligatr\t2800\tWater\tSlumbering\tBerries\tCharge Strength S\t19\tOran Berry\t31\tBean Sausage\t103\tBean Sausage\t2\tPure Oil\t2\t0.2561\t21.95\n",
    "Pichu\t4300\tElectric\tSlumbering\tBerries\tCharge Strength S\t10\tGrepa Berry\t25\tFancy Apple\t90\tFancy Apple\t2\tWarming Ginger\t2\t0.2098\t9.16\n",
    "Cleffa\t5600\tFairy\tSlumbering\tBerries\tMetronome\t10\tPecha Berry\t26\tFancy Apple\t90\tFancy Apple\t2\tHoney\t2\t0.1627\t29.93\n",
    "Igglybuff\t5200\tFairy\tSlumbering\tSkills\tEnergy for Everyone S\t8\tPecha Berry\t26\tHoney\t101\tHoney\t2\tPure Oil\t2\t0.1702\t42.50\n",
    "Togepi\t4800\tFairy\tSlumbering\tSkills\tMetronome\t8\tPecha Berry\t26\tFancy Egg\t115\tFancy Egg\t2\tWarming Ginger\t2\t0.1507\t43.07\n",
    "Togetic\t3800\tFairy\tSnoozing\tSkills\tMetronome\t10\tPecha Berry\t26\tFancy Egg\t115\tFancy Egg\t2\tWarming Ginger\t2\t0.1631\t49.23\n",
    "Mareep\t4600\tElectric\tSnoozing\tSkills\tCharge Strength M\t9\tGrepa Berry\t25\tFiery Herb\t130\tFiery Herb\t2\tFancy Egg\t3\t0.1274\t41.38\n",
    "Flaaffy\t3300\tElectric\tSnoozing\tSkills\tCharge Strength M\t11\tGrepa Berry\t25\tFiery Herb\t130\tFiery Herb\t2\tFancy Egg\t3\t0.1273\t40.41\n",
    "Ampharos\t2500\tElectric\tSnoozing\tSkills\tCharge Strength M\t15\tGrepa Berry\t25\tFiery Herb\t130\tFiery Herb\t2\tFancy Egg\t3\t0.1292\t41.33\n",
    "Sudowoodo\t4000\tRock\tSlumbering\tSkills\tCharge Strength M\t10\tSitrus Berry\t30\tSnoozy Tomato\t110\tSnoozy Tomato\t2\tGreengrass Soybeans\t2\t0.1970\t57.15\n",
    "Espeon\t2400\tPsychic\tSnoozing\tSkills\tCharge Strength M\t16\tMago Berry\t26\tMoomoo Milk\t98\tMoomoo Milk\t2\tSoothing Cacao\t1\t0.1632\t38.71\n",
    "Umbreon\t3200\tDark\tDozing\tSkills\tCharge Energy S\t14\tWiki Berry\t31\tMoomoo Milk\t98\tMoomoo Milk\t2\tSoothing Cacao\t1\t0.2190\t56.28\n",
    "Slowking\t3400\tWater\tSnoozing\tSkills\tEnergizing Cheer S\t11\tOran Berry\t31\tSoothing Cacao\t151\tSoothing Cacao\t2\tSlowpoke Tail\t1\t0.1504\t59.86\n",
    "Wobbuffet\t3500\tPsychic\tSnoozing\tSkills\tEnergizing Cheer S\t10\tMago Berry\t26\tFancy Apple\t90\tFancy Apple\t2\tTasty Mushroom\t1\t0.2105\t51.03\n",
    "Heracross\t2500\tBug\tDozing\tSkills\tIngredient Magnet S\t15\tLum Berry\t24\tHoney\t101\tHoney\t2\tTasty Mushroom\t1\t0.1579\t39.57\n",
    "Houndour\t4900\tDark\tDozing\tBerries\tCharge Strength S\t10\tWiki Berry\t31\tFiery Herb\t130\tFiery Herb\t2\tWarming Ginger\t3\t0.2006\t17.56\n",
    "Houndoom\t3300\tDark\tDozing\tBerries\tCharge Strength S\t16\tWiki Berry\t31\tFiery Herb\t130\tFiery Herb\t2\tWarming Ginger\t3\t0.2024\t18.37\n",
    "Larvitar\t4800\tRock\tSlumbering\tIngredients\tCharge Energy S\t9\tSitrus Berry\t30\tWarming Ginger\t109\tWarming Ginger\t5\tGreengrass Soybeans\t5\t0.2373\t16.40\n",
    "Pupitar\t3600\tRock\tSlumbering\tIngredients\tCharge Energy S\t13\tSitrus Berry\t30\tWarming Ginger\t109\tWarming Ginger\t5\tGreengrass Soybeans\t5\t0.2471\t17.89\n",
    "Tyranitar\t2700\tDark\tDozing\tIngredients\tCharge Energy S\t19\tWiki Berry\t31\tWarming Ginger\t109\tWarming Ginger\t5\tGreengrass Soybeans\t5\t0.2656\t20.85\n",
    "Slakoth\t4900\tNormal\tSnoozing\tBerries\tIngredient Magnet S\t7\tPersim Berry\t28\tSnoozy Tomato\t110\tSnoozy Tomato\t2\tHoney\t2\t0.2140\t16.74\n",
    "Vigoroth\t3200\tNormal\tDozing\tBerries\tIngredient Magnet S\t9\tPersim Berry\t28\tSnoozy Tomato\t110\tSnoozy Tomato\t2\tHoney\t2\t0.2034\t13.20\n",
    "Slaking\t3800\tNormal\tSnoozing\tBerries\tIngredient Magnet S\t12\tPersim Berry\t28\tSnoozy Tomato\t110\tSnoozy Tomato\t2\tHoney\t2\t0.3385\t58.95\n",
    "Sableye\t3600\tDark\tDozing\tSkills\tDream Shard Magnet S\t10\tWiki Berry\t31\tPure Oil\t121\tPure Oil\t2\tTasty Mushroom\t2\t0.1695\t51.99\n",
    "Gulpin\t5900\tPoison\tDozing\tSkills\tDream Shard Magnet S\t8\tChesto Berry\t32\tGreengrass Soybeans\t100\tGreengrass Soybeans\t2\tTasty Mushroom\t1\t0.2140\t55.38\n",
    "Swalot\t3500\tPoison\tDozing\tSkills\tDream Shard Magnet S\t13\tChesto Berry\t32\tGreengrass Soybeans\t100\tGreengrass Soybeans\t2\tTasty Mushroom\t1\t0.2088\t53.68\n",
    "Swablu\t4200\tFlying\tSlumbering\tBerries\tCharge Energy S\t12\tPamtre Berry\t24\tFancy Egg\t115\tFancy Egg\t2\tGreengrass Soybeans\t3\t0.1764\t12.78\n",
    "Altaria\t3700\tDragon\tDozing\tBerries\tCharge Energy S\t14\tYache Berry\t35\tFancy Egg\t115\tFancy Egg\t2\tGreengrass Soybeans\t3\t0.2564\t24.33\n",
    "Absol\t3100\tDark\tDozing\tIngredients\tCharge Strength S\t14\tWiki Berry\t31\tSoothing Cacao\t151\tSoothing Cacao\t5\tFancy Apple\t8\t0.1776\t15.21\n",
    "Wynaut\t5800\tPsychic\tSlumbering\tSkills\tEnergizing Cheer S\t7\tMago Berry\t26\tFancy Apple\t90\tFancy Apple\t2\tTasty Mushroom\t1\t0.2115\t51.98\n",
    "Spheal\t5600\tIce\tSlumbering\tBerries\tIngredient Magnet S\t9\tRawst Berry\t32\tPure Oil\t121\tPure Oil\t2\tBean Sausage\t3\t0.2240\t20.19\n",
    "Sealeo\t4000\tIce\tSlumbering\tBerries\tIngredient Magnet S\t13\tRawst Berry\t32\tPure Oil\t121\tPure Oil\t2\tBean Sausage\t3\t0.2206\t18.44\n",
    "Walrein\t3000\tIce\tSlumbering\tBerries\tIngredient Magnet S\t18\tRawst Berry\t32\tPure Oil\t121\tPure Oil\t2\tBean Sausage\t3\t0.2235\t19.32\n",
    "Bonsly\t6300\tRock\tSlumbering\tSkills\tCharge Strength M\t8\tSitrus Berry\t30\tSnoozy Tomato\t110\tSnoozy Tomato\t2\tGreengrass Soybeans\t2\t0.1889\t53.63\n",
    "Riolu\t4200\tFighting\tSlumbering\tSkills\tDream Shard Magnet S\t9\tCheri Berry\t27\tPure Oil\t121\tPure Oil\t2\tSoft Potato\t2\t0.1258\t33.43\n",
    "Lucario\t2700\tFighting\tSlumbering\tSkills\tDream Shard Magnet S\t14\tCheri Berry\t27\tPure Oil\t121\tPure Oil\t2\tSoft Potato\t2\t0.1503\t44.87\n",
    "Croagunk\t5600\tPoison\tDozing\tIngredients\tCharge Strength S\t10\tChesto Berry\t32\tPure Oil\t121\tPure Oil\t5\tBean Sausage\t5\t0.2273\t16.79\n",
    "Toxicroak\t3400\tPoison\tDozing\tIngredients\tCharge Strength S\t14\tChesto Berry\t32\tPure Oil\t121\tPure Oil\t5\tBean Sausage\t5\t0.2286\t17.14\n",
    "Magnezone\t3100\tSteel\tSlumbering\tSkills\tCooking Power-Up S\t13\tBelue Berry\t33\tPure Oil\t121\tPure Oil\t2\tFiery Herb\t2\t0.1802\t54.44\n",
    "Togekiss\t2600\tFairy\tSnoozing\tSkills\tMetronome\t16\tPecha Berry\t26\tFancy Egg\t115\tFancy Egg\t2\tWarming Ginger\t2\t0.1583\t46.56\n",
    "Leafeon\t3000\tGrass\tDozing\tSkills\tEnergizing Cheer S\t13\tDurin Berry\t30\tMoomoo Milk\t98\tMoomoo Milk\t2\tSoothing Cacao\t1\t0.2062\t51.89\n",
    "Glaceon\t3200\tIce\tSlumbering\tSkills\tCooking Power-Up S\t12\tRawst Berry\t32\tMoomoo Milk\t98\tMoomoo Milk\t2\tSoothing Cacao\t1\t0.2176\t55.46\n",
    "Sylveon\t2600\tFairy\tSnoozing\tSkills\tEnergy for Everyone S\t15\tPecha Berry\t26\tMoomoo Milk\t98\tMoomoo Milk\t2\tSoothing Cacao\t1\t0.1804\t44.68\n",
    "Mime Jr.\t4300\tPsychic\tSlumbering\tIngredients\tCharge Strength S\t10\tMago Berry\t26\tSnoozy Tomato\t110\tSnoozy Tomato\t5\tSoft Potato\t4\t0.2005\t12.79\n",
    "Mr. Mime\t2800\tPsychic\tSnoozing\tIngredients\tCharge Strength S\t17\tMago Berry\t26\tSnoozy Tomato\t110\tSnoozy Tomato\t5\tSoft Potato\t4\t0.2158\t15.51\n",
    "\"\"\")\n",
    "\n",
    "pokedex = pd.read_csv(datastr, sep='\\t', header=0)\n",
    "pokedex = pokedex.fillna(0)\n",
    "pokedex.to_pickle(game.data_files.pokedex)"
   ]
  },
  {
   "cell_type": "code",
   "execution_count": 3,
   "id": "93f668d5",
   "metadata": {
    "ExecuteTime": {
     "end_time": "2023-10-07T21:14:59.097255300Z",
     "start_time": "2023-10-07T21:14:59.062300500Z"
    }
   },
   "outputs": [
    {
     "data": {
      "text/plain": "      Pokemon  Frequency   Type     Sleep        Class                Skill  \\\n0   Bulbasaur       4400  Grass    Dozing  Ingredients  Ingredient Magnet S   \n1     Ivysaur       3300  Grass    Dozing  Ingredients  Ingredient Magnet S   \n2    Venusaur       2800  Grass    Dozing  Ingredients  Ingredient Magnet S   \n3  Charmander       3500   Fire  Snoozing  Ingredients  Ingredient Magnet S   \n4  Charmeleon       3000   Fire  Snoozing  Ingredients  Ingredient Magnet S   \n\n   Inv        Berry  Berry Power          Ing1  Ing 1 Power Ing2 option 1  \\\n0   11  Durin Berry           30         Honey          101         Honey   \n1   14  Durin Berry           30         Honey          101         Honey   \n2   17  Durin Berry           30         Honey          101         Honey   \n3   12  Leppa Berry           27  Bean Sausage          103  Bean Sausage   \n4   15  Leppa Berry           27  Bean Sausage          103  Bean Sausage   \n\n   amnt   Ing2 option 2  amnt.1  Last fit ing  Last fit skl  \n0     5   Snoozy Tomato       4        0.2563         16.71  \n1     5   Snoozy Tomato       4        0.2544         16.71  \n2     5   Snoozy Tomato       4        0.2656         18.48  \n3     5  Warming Ginger       4        0.2004          9.67  \n4     5  Warming Ginger       4        0.2267         14.05  ",
      "text/html": "<div>\n<style scoped>\n    .dataframe tbody tr th:only-of-type {\n        vertical-align: middle;\n    }\n\n    .dataframe tbody tr th {\n        vertical-align: top;\n    }\n\n    .dataframe thead th {\n        text-align: right;\n    }\n</style>\n<table border=\"1\" class=\"dataframe\">\n  <thead>\n    <tr style=\"text-align: right;\">\n      <th></th>\n      <th>Pokemon</th>\n      <th>Frequency</th>\n      <th>Type</th>\n      <th>Sleep</th>\n      <th>Class</th>\n      <th>Skill</th>\n      <th>Inv</th>\n      <th>Berry</th>\n      <th>Berry Power</th>\n      <th>Ing1</th>\n      <th>Ing 1 Power</th>\n      <th>Ing2 option 1</th>\n      <th>amnt</th>\n      <th>Ing2 option 2</th>\n      <th>amnt.1</th>\n      <th>Last fit ing</th>\n      <th>Last fit skl</th>\n    </tr>\n  </thead>\n  <tbody>\n    <tr>\n      <th>0</th>\n      <td>Bulbasaur</td>\n      <td>4400</td>\n      <td>Grass</td>\n      <td>Dozing</td>\n      <td>Ingredients</td>\n      <td>Ingredient Magnet S</td>\n      <td>11</td>\n      <td>Durin Berry</td>\n      <td>30</td>\n      <td>Honey</td>\n      <td>101</td>\n      <td>Honey</td>\n      <td>5</td>\n      <td>Snoozy Tomato</td>\n      <td>4</td>\n      <td>0.2563</td>\n      <td>16.71</td>\n    </tr>\n    <tr>\n      <th>1</th>\n      <td>Ivysaur</td>\n      <td>3300</td>\n      <td>Grass</td>\n      <td>Dozing</td>\n      <td>Ingredients</td>\n      <td>Ingredient Magnet S</td>\n      <td>14</td>\n      <td>Durin Berry</td>\n      <td>30</td>\n      <td>Honey</td>\n      <td>101</td>\n      <td>Honey</td>\n      <td>5</td>\n      <td>Snoozy Tomato</td>\n      <td>4</td>\n      <td>0.2544</td>\n      <td>16.71</td>\n    </tr>\n    <tr>\n      <th>2</th>\n      <td>Venusaur</td>\n      <td>2800</td>\n      <td>Grass</td>\n      <td>Dozing</td>\n      <td>Ingredients</td>\n      <td>Ingredient Magnet S</td>\n      <td>17</td>\n      <td>Durin Berry</td>\n      <td>30</td>\n      <td>Honey</td>\n      <td>101</td>\n      <td>Honey</td>\n      <td>5</td>\n      <td>Snoozy Tomato</td>\n      <td>4</td>\n      <td>0.2656</td>\n      <td>18.48</td>\n    </tr>\n    <tr>\n      <th>3</th>\n      <td>Charmander</td>\n      <td>3500</td>\n      <td>Fire</td>\n      <td>Snoozing</td>\n      <td>Ingredients</td>\n      <td>Ingredient Magnet S</td>\n      <td>12</td>\n      <td>Leppa Berry</td>\n      <td>27</td>\n      <td>Bean Sausage</td>\n      <td>103</td>\n      <td>Bean Sausage</td>\n      <td>5</td>\n      <td>Warming Ginger</td>\n      <td>4</td>\n      <td>0.2004</td>\n      <td>9.67</td>\n    </tr>\n    <tr>\n      <th>4</th>\n      <td>Charmeleon</td>\n      <td>3000</td>\n      <td>Fire</td>\n      <td>Snoozing</td>\n      <td>Ingredients</td>\n      <td>Ingredient Magnet S</td>\n      <td>15</td>\n      <td>Leppa Berry</td>\n      <td>27</td>\n      <td>Bean Sausage</td>\n      <td>103</td>\n      <td>Bean Sausage</td>\n      <td>5</td>\n      <td>Warming Ginger</td>\n      <td>4</td>\n      <td>0.2267</td>\n      <td>14.05</td>\n    </tr>\n  </tbody>\n</table>\n</div>"
     },
     "execution_count": 3,
     "metadata": {},
     "output_type": "execute_result"
    }
   ],
   "source": [
    "pokedex.head()"
   ]
  },
  {
   "cell_type": "code",
   "execution_count": 4,
   "id": "29770ecd",
   "metadata": {
    "ExecuteTime": {
     "end_time": "2023-10-07T21:14:59.156067Z",
     "start_time": "2023-10-07T21:14:59.094246700Z"
    }
   },
   "outputs": [
    {
     "data": {
      "text/plain": "                   Skill  Value\n0      Charge Strength S    400\n1      Charge Strength M    880\n2    Ingredient Magnet S    829\n3     Cooking Power-Up S    484\n4        Extra Helpful S    352\n5        Charge Energy S    344\n6     Energizing Cheer S    401\n7  Energy for Everyone S    717\n8   Dream Shard Magnet S    704\n9              Metronome    589",
      "text/html": "<div>\n<style scoped>\n    .dataframe tbody tr th:only-of-type {\n        vertical-align: middle;\n    }\n\n    .dataframe tbody tr th {\n        vertical-align: top;\n    }\n\n    .dataframe thead th {\n        text-align: right;\n    }\n</style>\n<table border=\"1\" class=\"dataframe\">\n  <thead>\n    <tr style=\"text-align: right;\">\n      <th></th>\n      <th>Skill</th>\n      <th>Value</th>\n    </tr>\n  </thead>\n  <tbody>\n    <tr>\n      <th>0</th>\n      <td>Charge Strength S</td>\n      <td>400</td>\n    </tr>\n    <tr>\n      <th>1</th>\n      <td>Charge Strength M</td>\n      <td>880</td>\n    </tr>\n    <tr>\n      <th>2</th>\n      <td>Ingredient Magnet S</td>\n      <td>829</td>\n    </tr>\n    <tr>\n      <th>3</th>\n      <td>Cooking Power-Up S</td>\n      <td>484</td>\n    </tr>\n    <tr>\n      <th>4</th>\n      <td>Extra Helpful S</td>\n      <td>352</td>\n    </tr>\n    <tr>\n      <th>5</th>\n      <td>Charge Energy S</td>\n      <td>344</td>\n    </tr>\n    <tr>\n      <th>6</th>\n      <td>Energizing Cheer S</td>\n      <td>401</td>\n    </tr>\n    <tr>\n      <th>7</th>\n      <td>Energy for Everyone S</td>\n      <td>717</td>\n    </tr>\n    <tr>\n      <th>8</th>\n      <td>Dream Shard Magnet S</td>\n      <td>704</td>\n    </tr>\n    <tr>\n      <th>9</th>\n      <td>Metronome</td>\n      <td>589</td>\n    </tr>\n  </tbody>\n</table>\n</div>"
     },
     "execution_count": 4,
     "metadata": {},
     "output_type": "execute_result"
    }
   ],
   "source": [
    "datastr = StringIO(\"\"\"\n",
    "Skill\tValue\n",
    "Charge Strength S\t400\n",
    "Charge Strength M\t880\n",
    "Ingredient Magnet S\t829\n",
    "Cooking Power-Up S\t484\n",
    "Extra Helpful S\t352\n",
    "Charge Energy S\t344\n",
    "Energizing Cheer S\t401\n",
    "Energy for Everyone S\t717\n",
    "Dream Shard Magnet S\t704\n",
    "Metronome\t589\n",
    "\"\"\")\n",
    "\n",
    "mainskills = pd.read_csv(datastr, sep='\\t', header=0)\n",
    "mainskills.to_pickle(game.data_files.mainskills)\n",
    "mainskills.head(10)"
   ]
  },
  {
   "cell_type": "code",
   "execution_count": 5,
   "id": "7bf72a04",
   "metadata": {
    "ExecuteTime": {
     "end_time": "2023-10-07T21:14:59.162923800Z",
     "start_time": "2023-10-07T21:14:59.109030800Z"
    }
   },
   "outputs": [
    {
     "data": {
      "text/plain": "                 Subskill  RP Bonus Estimate\n0         Berry Finding S             0.0000\n1       Dream Shard Bonus             0.2211\n2   Energy Recovery Bonus             0.2211\n3           Helping bonus             0.2211\n4         Helping Speed S             0.0000\n5         Helping Speed M             0.0000\n6     Ingredient Finder S             0.0000\n7     Ingredient Finder M             0.0000\n8          Inventory Up S             0.0720\n9          Inventory Up M             0.1395\n10         Inventory Up L             0.1824\n11     Research EXP Bonus             0.2210\n12       Skill Level Up S             0.0000\n13       Skill Level Up M             0.0000\n14        Skill Trigger S             0.0000\n15        Skill Trigger M             0.0000\n16        Sleep EXP Bonus             0.2211\n17      Energy Recovery S             0.0000\n18      Energy Recovery M             0.0000",
      "text/html": "<div>\n<style scoped>\n    .dataframe tbody tr th:only-of-type {\n        vertical-align: middle;\n    }\n\n    .dataframe tbody tr th {\n        vertical-align: top;\n    }\n\n    .dataframe thead th {\n        text-align: right;\n    }\n</style>\n<table border=\"1\" class=\"dataframe\">\n  <thead>\n    <tr style=\"text-align: right;\">\n      <th></th>\n      <th>Subskill</th>\n      <th>RP Bonus Estimate</th>\n    </tr>\n  </thead>\n  <tbody>\n    <tr>\n      <th>0</th>\n      <td>Berry Finding S</td>\n      <td>0.0000</td>\n    </tr>\n    <tr>\n      <th>1</th>\n      <td>Dream Shard Bonus</td>\n      <td>0.2211</td>\n    </tr>\n    <tr>\n      <th>2</th>\n      <td>Energy Recovery Bonus</td>\n      <td>0.2211</td>\n    </tr>\n    <tr>\n      <th>3</th>\n      <td>Helping bonus</td>\n      <td>0.2211</td>\n    </tr>\n    <tr>\n      <th>4</th>\n      <td>Helping Speed S</td>\n      <td>0.0000</td>\n    </tr>\n    <tr>\n      <th>5</th>\n      <td>Helping Speed M</td>\n      <td>0.0000</td>\n    </tr>\n    <tr>\n      <th>6</th>\n      <td>Ingredient Finder S</td>\n      <td>0.0000</td>\n    </tr>\n    <tr>\n      <th>7</th>\n      <td>Ingredient Finder M</td>\n      <td>0.0000</td>\n    </tr>\n    <tr>\n      <th>8</th>\n      <td>Inventory Up S</td>\n      <td>0.0720</td>\n    </tr>\n    <tr>\n      <th>9</th>\n      <td>Inventory Up M</td>\n      <td>0.1395</td>\n    </tr>\n    <tr>\n      <th>10</th>\n      <td>Inventory Up L</td>\n      <td>0.1824</td>\n    </tr>\n    <tr>\n      <th>11</th>\n      <td>Research EXP Bonus</td>\n      <td>0.2210</td>\n    </tr>\n    <tr>\n      <th>12</th>\n      <td>Skill Level Up S</td>\n      <td>0.0000</td>\n    </tr>\n    <tr>\n      <th>13</th>\n      <td>Skill Level Up M</td>\n      <td>0.0000</td>\n    </tr>\n    <tr>\n      <th>14</th>\n      <td>Skill Trigger S</td>\n      <td>0.0000</td>\n    </tr>\n    <tr>\n      <th>15</th>\n      <td>Skill Trigger M</td>\n      <td>0.0000</td>\n    </tr>\n    <tr>\n      <th>16</th>\n      <td>Sleep EXP Bonus</td>\n      <td>0.2211</td>\n    </tr>\n    <tr>\n      <th>17</th>\n      <td>Energy Recovery S</td>\n      <td>0.0000</td>\n    </tr>\n    <tr>\n      <th>18</th>\n      <td>Energy Recovery M</td>\n      <td>0.0000</td>\n    </tr>\n  </tbody>\n</table>\n</div>"
     },
     "execution_count": 5,
     "metadata": {},
     "output_type": "execute_result"
    }
   ],
   "source": [
    "# The values here are the middle of the range that works when exact flooring is used\n",
    "# https://discord.com/channels/1133923264146706452/1140746163243470998/1158525493990141982\n",
    "\n",
    "datastr = StringIO(\"\"\"\n",
    "Subskill\tRP Bonus Estimate\n",
    "Berry Finding S\t0\n",
    "Dream Shard Bonus\t0.2211\n",
    "Energy Recovery Bonus\t0.2211\n",
    "Helping bonus\t0.2211\n",
    "Helping Speed S\t0\n",
    "Helping Speed M\t0\n",
    "Ingredient Finder S\t0\n",
    "Ingredient Finder M\t0\n",
    "Inventory Up S\t0.0720\n",
    "Inventory Up M\t0.1395\n",
    "Inventory Up L\t0.1824\n",
    "Research EXP Bonus\t0.221\n",
    "Skill Level Up S\t0\n",
    "Skill Level Up M\t0\n",
    "Skill Trigger S\t0\n",
    "Skill Trigger M\t0\n",
    "Sleep EXP Bonus\t0.2211\n",
    "Energy Recovery S\t0\n",
    "Energy Recovery M\t0\n",
    "\"\"\")\n",
    "\n",
    "subskills = pd.read_csv(datastr, sep='\\t', header=0)\n",
    "subskills.to_pickle(game.data_files.subskills)\n",
    "subskills.head(20)"
   ]
  },
  {
   "cell_type": "code",
   "execution_count": 6,
   "id": "f9aa29f8",
   "metadata": {
    "ExecuteTime": {
     "end_time": "2023-10-07T21:14:59.162923800Z",
     "start_time": "2023-10-07T21:14:59.125057500Z"
    }
   },
   "outputs": [
    {
     "data": {
      "text/plain": "     Nature            TraitPos            TraitNeg\n0   Relaxed     Energy Recovery           EXP Gains\n1    Impish     Energy Recovery  Ingredient Finding\n2       Lax     Energy Recovery   Main Skill Chance\n3      Bold     Energy Recovery       Speed of Help\n4     Hasty           EXP Gains     Energy Recovery\n5     Jolly           EXP Gains  Ingredient Finding\n6     Naive           EXP Gains   Main Skill Chance\n7     Timid           EXP Gains       Speed of Help\n8      Mild  Ingredient Finding     Energy Recovery\n9     Quiet  Ingredient Finding           Exp Gains\n10     Rash  Ingredient Finding   Main Skill Chance\n11   Modest  Ingredient Finding       Speed of Help\n12   Gentle   Main Skill Chance     Energy Recovery\n13    Sassy   Main Skill Chance           EXP Gains\n14  Careful   Main Skill Chance  Ingredient Finding\n15     Calm   Main Skill Chance       Speed of Help\n16   Lonely       Speed of Help     Energy Recovery\n17    Brave       Speed of Help           EXP Gains\n18  Adamant       Speed of Help  Ingredient Finding\n19  Naughty       Speed of Help   Main Skill Chance\n20  Bashful                   -                   -\n21   Docile                   -                   -\n22    Hardy                   -                   -\n23   Quirky                   -                   -\n24  Serious                   -                   -",
      "text/html": "<div>\n<style scoped>\n    .dataframe tbody tr th:only-of-type {\n        vertical-align: middle;\n    }\n\n    .dataframe tbody tr th {\n        vertical-align: top;\n    }\n\n    .dataframe thead th {\n        text-align: right;\n    }\n</style>\n<table border=\"1\" class=\"dataframe\">\n  <thead>\n    <tr style=\"text-align: right;\">\n      <th></th>\n      <th>Nature</th>\n      <th>TraitPos</th>\n      <th>TraitNeg</th>\n    </tr>\n  </thead>\n  <tbody>\n    <tr>\n      <th>0</th>\n      <td>Relaxed</td>\n      <td>Energy Recovery</td>\n      <td>EXP Gains</td>\n    </tr>\n    <tr>\n      <th>1</th>\n      <td>Impish</td>\n      <td>Energy Recovery</td>\n      <td>Ingredient Finding</td>\n    </tr>\n    <tr>\n      <th>2</th>\n      <td>Lax</td>\n      <td>Energy Recovery</td>\n      <td>Main Skill Chance</td>\n    </tr>\n    <tr>\n      <th>3</th>\n      <td>Bold</td>\n      <td>Energy Recovery</td>\n      <td>Speed of Help</td>\n    </tr>\n    <tr>\n      <th>4</th>\n      <td>Hasty</td>\n      <td>EXP Gains</td>\n      <td>Energy Recovery</td>\n    </tr>\n    <tr>\n      <th>5</th>\n      <td>Jolly</td>\n      <td>EXP Gains</td>\n      <td>Ingredient Finding</td>\n    </tr>\n    <tr>\n      <th>6</th>\n      <td>Naive</td>\n      <td>EXP Gains</td>\n      <td>Main Skill Chance</td>\n    </tr>\n    <tr>\n      <th>7</th>\n      <td>Timid</td>\n      <td>EXP Gains</td>\n      <td>Speed of Help</td>\n    </tr>\n    <tr>\n      <th>8</th>\n      <td>Mild</td>\n      <td>Ingredient Finding</td>\n      <td>Energy Recovery</td>\n    </tr>\n    <tr>\n      <th>9</th>\n      <td>Quiet</td>\n      <td>Ingredient Finding</td>\n      <td>Exp Gains</td>\n    </tr>\n    <tr>\n      <th>10</th>\n      <td>Rash</td>\n      <td>Ingredient Finding</td>\n      <td>Main Skill Chance</td>\n    </tr>\n    <tr>\n      <th>11</th>\n      <td>Modest</td>\n      <td>Ingredient Finding</td>\n      <td>Speed of Help</td>\n    </tr>\n    <tr>\n      <th>12</th>\n      <td>Gentle</td>\n      <td>Main Skill Chance</td>\n      <td>Energy Recovery</td>\n    </tr>\n    <tr>\n      <th>13</th>\n      <td>Sassy</td>\n      <td>Main Skill Chance</td>\n      <td>EXP Gains</td>\n    </tr>\n    <tr>\n      <th>14</th>\n      <td>Careful</td>\n      <td>Main Skill Chance</td>\n      <td>Ingredient Finding</td>\n    </tr>\n    <tr>\n      <th>15</th>\n      <td>Calm</td>\n      <td>Main Skill Chance</td>\n      <td>Speed of Help</td>\n    </tr>\n    <tr>\n      <th>16</th>\n      <td>Lonely</td>\n      <td>Speed of Help</td>\n      <td>Energy Recovery</td>\n    </tr>\n    <tr>\n      <th>17</th>\n      <td>Brave</td>\n      <td>Speed of Help</td>\n      <td>EXP Gains</td>\n    </tr>\n    <tr>\n      <th>18</th>\n      <td>Adamant</td>\n      <td>Speed of Help</td>\n      <td>Ingredient Finding</td>\n    </tr>\n    <tr>\n      <th>19</th>\n      <td>Naughty</td>\n      <td>Speed of Help</td>\n      <td>Main Skill Chance</td>\n    </tr>\n    <tr>\n      <th>20</th>\n      <td>Bashful</td>\n      <td>-</td>\n      <td>-</td>\n    </tr>\n    <tr>\n      <th>21</th>\n      <td>Docile</td>\n      <td>-</td>\n      <td>-</td>\n    </tr>\n    <tr>\n      <th>22</th>\n      <td>Hardy</td>\n      <td>-</td>\n      <td>-</td>\n    </tr>\n    <tr>\n      <th>23</th>\n      <td>Quirky</td>\n      <td>-</td>\n      <td>-</td>\n    </tr>\n    <tr>\n      <th>24</th>\n      <td>Serious</td>\n      <td>-</td>\n      <td>-</td>\n    </tr>\n  </tbody>\n</table>\n</div>"
     },
     "execution_count": 6,
     "metadata": {},
     "output_type": "execute_result"
    }
   ],
   "source": [
    "datastr = StringIO(\"\"\"\n",
    "Nature\tTraitPos\tTraitNeg\n",
    "Relaxed\tEnergy Recovery\tEXP Gains\n",
    "Impish\tEnergy Recovery\tIngredient Finding\n",
    "Lax\tEnergy Recovery\tMain Skill Chance\n",
    "Bold\tEnergy Recovery\tSpeed of Help\n",
    "Hasty\tEXP Gains\tEnergy Recovery\n",
    "Jolly\tEXP Gains\tIngredient Finding\n",
    "Naive\tEXP Gains\tMain Skill Chance\n",
    "Timid\tEXP Gains\tSpeed of Help\n",
    "Mild\tIngredient Finding\tEnergy Recovery\n",
    "Quiet\tIngredient Finding\tExp Gains\n",
    "Rash\tIngredient Finding\tMain Skill Chance\n",
    "Modest\tIngredient Finding\tSpeed of Help\n",
    "Gentle\tMain Skill Chance\tEnergy Recovery\n",
    "Sassy\tMain Skill Chance\tEXP Gains\n",
    "Careful\tMain Skill Chance\tIngredient Finding\n",
    "Calm\tMain Skill Chance\tSpeed of Help\n",
    "Lonely\tSpeed of Help\tEnergy Recovery\n",
    "Brave\tSpeed of Help\tEXP Gains\n",
    "Adamant\tSpeed of Help\tIngredient Finding\n",
    "Naughty\tSpeed of Help\tMain Skill Chance\n",
    "Bashful\t-\t-\n",
    "Docile\t-\t-\n",
    "Hardy\t-\t-\n",
    "Quirky\t-\t-\n",
    "Serious\t-\t-\n",
    "\"\"\")\n",
    "\n",
    "natures = pd.read_csv(datastr, sep='\\t', header=0)\n",
    "natures.to_pickle(game.data_files.natures)\n",
    "natures.head(25)"
   ]
  }
 ],
 "metadata": {
  "kernelspec": {
   "display_name": "Python 3 (ipykernel)",
   "language": "python",
   "name": "python3"
  },
  "language_info": {
   "codemirror_mode": {
    "name": "ipython",
    "version": 3
   },
   "file_extension": ".py",
   "mimetype": "text/x-python",
   "name": "python",
   "nbconvert_exporter": "python",
   "pygments_lexer": "ipython3",
   "version": "3.8.17"
  }
 },
 "nbformat": 4,
 "nbformat_minor": 5
}
