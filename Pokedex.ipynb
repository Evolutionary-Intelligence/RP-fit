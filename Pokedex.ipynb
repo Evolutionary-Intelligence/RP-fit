{
 "cells": [
  {
   "cell_type": "code",
   "execution_count": 1,
   "id": "dea901dd",
   "metadata": {
    "ExecuteTime": {
     "end_time": "2024-03-25T03:00:17.671672100Z",
     "start_time": "2024-03-25T03:00:17.498303600Z"
    }
   },
   "outputs": [
    {
     "name": "stdout",
     "output_type": "stream",
     "text": [
      "RP model file path: C:\\Users\\jckin\\Documents\\Untitled Folder\\RP fit\\files\n"
     ]
    }
   ],
   "source": [
    "import pandas as pd\n",
    "from io import StringIO\n",
    "from rp_model.calc.data import game"
   ]
  },
  {
   "cell_type": "code",
   "execution_count": 2,
   "id": "7bf72a04",
   "metadata": {
    "ExecuteTime": {
     "end_time": "2024-03-25T03:00:17.733006400Z",
     "start_time": "2024-03-25T03:00:17.673040800Z"
    }
   },
   "outputs": [
    {
     "data": {
      "text/plain": "                 Subskill  RP Bonus Estimate\n0         Berry Finding S             0.0000\n1       Dream Shard Bonus             0.2211\n2   Energy Recovery Bonus             0.2211\n3           Helping Bonus             0.2211\n4         Helping Speed S             0.0000\n5         Helping Speed M             0.0000\n6     Ingredient Finder S             0.0000\n7     Ingredient Finder M             0.0000\n8          Inventory Up S             0.0720\n9          Inventory Up M             0.1395\n10         Inventory Up L             0.1824\n11     Research EXP Bonus             0.2210\n12       Skill Level Up S             0.0000\n13       Skill Level Up M             0.0000\n14        Skill Trigger S             0.0000\n15        Skill Trigger M             0.0000\n16        Sleep EXP Bonus             0.2211\n17      Energy Recovery S             0.0000\n18      Energy Recovery M             0.0000",
      "text/html": "<div>\n<style scoped>\n    .dataframe tbody tr th:only-of-type {\n        vertical-align: middle;\n    }\n\n    .dataframe tbody tr th {\n        vertical-align: top;\n    }\n\n    .dataframe thead th {\n        text-align: right;\n    }\n</style>\n<table border=\"1\" class=\"dataframe\">\n  <thead>\n    <tr style=\"text-align: right;\">\n      <th></th>\n      <th>Subskill</th>\n      <th>RP Bonus Estimate</th>\n    </tr>\n  </thead>\n  <tbody>\n    <tr>\n      <th>0</th>\n      <td>Berry Finding S</td>\n      <td>0.0000</td>\n    </tr>\n    <tr>\n      <th>1</th>\n      <td>Dream Shard Bonus</td>\n      <td>0.2211</td>\n    </tr>\n    <tr>\n      <th>2</th>\n      <td>Energy Recovery Bonus</td>\n      <td>0.2211</td>\n    </tr>\n    <tr>\n      <th>3</th>\n      <td>Helping Bonus</td>\n      <td>0.2211</td>\n    </tr>\n    <tr>\n      <th>4</th>\n      <td>Helping Speed S</td>\n      <td>0.0000</td>\n    </tr>\n    <tr>\n      <th>5</th>\n      <td>Helping Speed M</td>\n      <td>0.0000</td>\n    </tr>\n    <tr>\n      <th>6</th>\n      <td>Ingredient Finder S</td>\n      <td>0.0000</td>\n    </tr>\n    <tr>\n      <th>7</th>\n      <td>Ingredient Finder M</td>\n      <td>0.0000</td>\n    </tr>\n    <tr>\n      <th>8</th>\n      <td>Inventory Up S</td>\n      <td>0.0720</td>\n    </tr>\n    <tr>\n      <th>9</th>\n      <td>Inventory Up M</td>\n      <td>0.1395</td>\n    </tr>\n    <tr>\n      <th>10</th>\n      <td>Inventory Up L</td>\n      <td>0.1824</td>\n    </tr>\n    <tr>\n      <th>11</th>\n      <td>Research EXP Bonus</td>\n      <td>0.2210</td>\n    </tr>\n    <tr>\n      <th>12</th>\n      <td>Skill Level Up S</td>\n      <td>0.0000</td>\n    </tr>\n    <tr>\n      <th>13</th>\n      <td>Skill Level Up M</td>\n      <td>0.0000</td>\n    </tr>\n    <tr>\n      <th>14</th>\n      <td>Skill Trigger S</td>\n      <td>0.0000</td>\n    </tr>\n    <tr>\n      <th>15</th>\n      <td>Skill Trigger M</td>\n      <td>0.0000</td>\n    </tr>\n    <tr>\n      <th>16</th>\n      <td>Sleep EXP Bonus</td>\n      <td>0.2211</td>\n    </tr>\n    <tr>\n      <th>17</th>\n      <td>Energy Recovery S</td>\n      <td>0.0000</td>\n    </tr>\n    <tr>\n      <th>18</th>\n      <td>Energy Recovery M</td>\n      <td>0.0000</td>\n    </tr>\n  </tbody>\n</table>\n</div>"
     },
     "execution_count": 2,
     "metadata": {},
     "output_type": "execute_result"
    }
   ],
   "source": [
    "# The values here are the middle of the range that works when exact flooring is used\n",
    "# https://discord.com/channels/1133923264146706452/1140746163243470998/1158525493990141982\n",
    "\n",
    "datastr = StringIO(\"\"\"\n",
    "Subskill\tRP Bonus Estimate\n",
    "Berry Finding S\t0\n",
    "Dream Shard Bonus\t0.2211\n",
    "Energy Recovery Bonus\t0.2211\n",
    "Helping Bonus\t0.2211\n",
    "Helping Speed S\t0\n",
    "Helping Speed M\t0\n",
    "Ingredient Finder S\t0\n",
    "Ingredient Finder M\t0\n",
    "Inventory Up S\t0.0720\n",
    "Inventory Up M\t0.1395\n",
    "Inventory Up L\t0.1824\n",
    "Research EXP Bonus\t0.221\n",
    "Skill Level Up S\t0\n",
    "Skill Level Up M\t0\n",
    "Skill Trigger S\t0\n",
    "Skill Trigger M\t0\n",
    "Sleep EXP Bonus\t0.2211\n",
    "Energy Recovery S\t0\n",
    "Energy Recovery M\t0\n",
    "\"\"\")\n",
    "\n",
    "subskills = pd.read_csv(datastr, sep='\\t', header=0)\n",
    "subskills.to_pickle(game.data_files.subskills)\n",
    "subskills.head(20)"
   ]
  },
  {
   "cell_type": "code",
   "execution_count": 3,
   "id": "f9aa29f8",
   "metadata": {
    "ExecuteTime": {
     "end_time": "2024-03-25T03:00:17.780530300Z",
     "start_time": "2024-03-25T03:00:17.703268800Z"
    }
   },
   "outputs": [
    {
     "data": {
      "text/plain": "     Nature            TraitPos            TraitNeg\n0   Relaxed     Energy Recovery           EXP Gains\n1    Impish     Energy Recovery  Ingredient Finding\n2       Lax     Energy Recovery   Main Skill Chance\n3      Bold     Energy Recovery       Speed of Help\n4     Hasty           EXP Gains     Energy Recovery\n5     Jolly           EXP Gains  Ingredient Finding\n6     Naive           EXP Gains   Main Skill Chance\n7     Timid           EXP Gains       Speed of Help\n8      Mild  Ingredient Finding     Energy Recovery\n9     Quiet  Ingredient Finding           Exp Gains\n10     Rash  Ingredient Finding   Main Skill Chance\n11   Modest  Ingredient Finding       Speed of Help\n12   Gentle   Main Skill Chance     Energy Recovery\n13    Sassy   Main Skill Chance           EXP Gains\n14  Careful   Main Skill Chance  Ingredient Finding\n15     Calm   Main Skill Chance       Speed of Help\n16   Lonely       Speed of Help     Energy Recovery\n17    Brave       Speed of Help           EXP Gains\n18  Adamant       Speed of Help  Ingredient Finding\n19  Naughty       Speed of Help   Main Skill Chance\n20  Bashful                   -                   -\n21   Docile                   -                   -\n22    Hardy                   -                   -\n23   Quirky                   -                   -\n24  Serious                   -                   -",
      "text/html": "<div>\n<style scoped>\n    .dataframe tbody tr th:only-of-type {\n        vertical-align: middle;\n    }\n\n    .dataframe tbody tr th {\n        vertical-align: top;\n    }\n\n    .dataframe thead th {\n        text-align: right;\n    }\n</style>\n<table border=\"1\" class=\"dataframe\">\n  <thead>\n    <tr style=\"text-align: right;\">\n      <th></th>\n      <th>Nature</th>\n      <th>TraitPos</th>\n      <th>TraitNeg</th>\n    </tr>\n  </thead>\n  <tbody>\n    <tr>\n      <th>0</th>\n      <td>Relaxed</td>\n      <td>Energy Recovery</td>\n      <td>EXP Gains</td>\n    </tr>\n    <tr>\n      <th>1</th>\n      <td>Impish</td>\n      <td>Energy Recovery</td>\n      <td>Ingredient Finding</td>\n    </tr>\n    <tr>\n      <th>2</th>\n      <td>Lax</td>\n      <td>Energy Recovery</td>\n      <td>Main Skill Chance</td>\n    </tr>\n    <tr>\n      <th>3</th>\n      <td>Bold</td>\n      <td>Energy Recovery</td>\n      <td>Speed of Help</td>\n    </tr>\n    <tr>\n      <th>4</th>\n      <td>Hasty</td>\n      <td>EXP Gains</td>\n      <td>Energy Recovery</td>\n    </tr>\n    <tr>\n      <th>5</th>\n      <td>Jolly</td>\n      <td>EXP Gains</td>\n      <td>Ingredient Finding</td>\n    </tr>\n    <tr>\n      <th>6</th>\n      <td>Naive</td>\n      <td>EXP Gains</td>\n      <td>Main Skill Chance</td>\n    </tr>\n    <tr>\n      <th>7</th>\n      <td>Timid</td>\n      <td>EXP Gains</td>\n      <td>Speed of Help</td>\n    </tr>\n    <tr>\n      <th>8</th>\n      <td>Mild</td>\n      <td>Ingredient Finding</td>\n      <td>Energy Recovery</td>\n    </tr>\n    <tr>\n      <th>9</th>\n      <td>Quiet</td>\n      <td>Ingredient Finding</td>\n      <td>Exp Gains</td>\n    </tr>\n    <tr>\n      <th>10</th>\n      <td>Rash</td>\n      <td>Ingredient Finding</td>\n      <td>Main Skill Chance</td>\n    </tr>\n    <tr>\n      <th>11</th>\n      <td>Modest</td>\n      <td>Ingredient Finding</td>\n      <td>Speed of Help</td>\n    </tr>\n    <tr>\n      <th>12</th>\n      <td>Gentle</td>\n      <td>Main Skill Chance</td>\n      <td>Energy Recovery</td>\n    </tr>\n    <tr>\n      <th>13</th>\n      <td>Sassy</td>\n      <td>Main Skill Chance</td>\n      <td>EXP Gains</td>\n    </tr>\n    <tr>\n      <th>14</th>\n      <td>Careful</td>\n      <td>Main Skill Chance</td>\n      <td>Ingredient Finding</td>\n    </tr>\n    <tr>\n      <th>15</th>\n      <td>Calm</td>\n      <td>Main Skill Chance</td>\n      <td>Speed of Help</td>\n    </tr>\n    <tr>\n      <th>16</th>\n      <td>Lonely</td>\n      <td>Speed of Help</td>\n      <td>Energy Recovery</td>\n    </tr>\n    <tr>\n      <th>17</th>\n      <td>Brave</td>\n      <td>Speed of Help</td>\n      <td>EXP Gains</td>\n    </tr>\n    <tr>\n      <th>18</th>\n      <td>Adamant</td>\n      <td>Speed of Help</td>\n      <td>Ingredient Finding</td>\n    </tr>\n    <tr>\n      <th>19</th>\n      <td>Naughty</td>\n      <td>Speed of Help</td>\n      <td>Main Skill Chance</td>\n    </tr>\n    <tr>\n      <th>20</th>\n      <td>Bashful</td>\n      <td>-</td>\n      <td>-</td>\n    </tr>\n    <tr>\n      <th>21</th>\n      <td>Docile</td>\n      <td>-</td>\n      <td>-</td>\n    </tr>\n    <tr>\n      <th>22</th>\n      <td>Hardy</td>\n      <td>-</td>\n      <td>-</td>\n    </tr>\n    <tr>\n      <th>23</th>\n      <td>Quirky</td>\n      <td>-</td>\n      <td>-</td>\n    </tr>\n    <tr>\n      <th>24</th>\n      <td>Serious</td>\n      <td>-</td>\n      <td>-</td>\n    </tr>\n  </tbody>\n</table>\n</div>"
     },
     "execution_count": 3,
     "metadata": {},
     "output_type": "execute_result"
    }
   ],
   "source": [
    "datastr = StringIO(\"\"\"\n",
    "Nature\tTraitPos\tTraitNeg\n",
    "Relaxed\tEnergy Recovery\tEXP Gains\n",
    "Impish\tEnergy Recovery\tIngredient Finding\n",
    "Lax\tEnergy Recovery\tMain Skill Chance\n",
    "Bold\tEnergy Recovery\tSpeed of Help\n",
    "Hasty\tEXP Gains\tEnergy Recovery\n",
    "Jolly\tEXP Gains\tIngredient Finding\n",
    "Naive\tEXP Gains\tMain Skill Chance\n",
    "Timid\tEXP Gains\tSpeed of Help\n",
    "Mild\tIngredient Finding\tEnergy Recovery\n",
    "Quiet\tIngredient Finding\tExp Gains\n",
    "Rash\tIngredient Finding\tMain Skill Chance\n",
    "Modest\tIngredient Finding\tSpeed of Help\n",
    "Gentle\tMain Skill Chance\tEnergy Recovery\n",
    "Sassy\tMain Skill Chance\tEXP Gains\n",
    "Careful\tMain Skill Chance\tIngredient Finding\n",
    "Calm\tMain Skill Chance\tSpeed of Help\n",
    "Lonely\tSpeed of Help\tEnergy Recovery\n",
    "Brave\tSpeed of Help\tEXP Gains\n",
    "Adamant\tSpeed of Help\tIngredient Finding\n",
    "Naughty\tSpeed of Help\tMain Skill Chance\n",
    "Bashful\t-\t-\n",
    "Docile\t-\t-\n",
    "Hardy\t-\t-\n",
    "Quirky\t-\t-\n",
    "Serious\t-\t-\n",
    "\"\"\")\n",
    "\n",
    "natures = pd.read_csv(datastr, sep='\\t', header=0)\n",
    "natures.to_pickle(game.data_files.natures)\n",
    "natures.head(25)\n"
   ]
  }
 ],
 "metadata": {
  "kernelspec": {
   "display_name": "Python 3 (ipykernel)",
   "language": "python",
   "name": "python3"
  },
  "language_info": {
   "codemirror_mode": {
    "name": "ipython",
    "version": 3
   },
   "file_extension": ".py",
   "mimetype": "text/x-python",
   "name": "python",
   "nbconvert_exporter": "python",
   "pygments_lexer": "ipython3",
   "version": "3.8.17"
  }
 },
 "nbformat": 4,
 "nbformat_minor": 5
}
